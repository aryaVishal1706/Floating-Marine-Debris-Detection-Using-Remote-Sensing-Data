{
  "cells": [
    {
      "cell_type": "code",
      "execution_count": null,
      "id": "ae7cd6ac-8db7-4345-8ac0-dcc37d064290",
      "metadata": {
        "id": "ae7cd6ac-8db7-4345-8ac0-dcc37d064290",
        "outputId": "88c55b93-a98a-413a-f3d6-bf474ddc6726"
      },
      "outputs": [
        {
          "name": "stderr",
          "output_type": "stream",
          "text": [
            "2024-07-11 09:56:20.207473: I tensorflow/core/util/port.cc:113] oneDNN custom operations are on. You may see slightly different numerical results due to floating-point round-off errors from different computation orders. To turn them off, set the environment variable `TF_ENABLE_ONEDNN_OPTS=0`.\n",
            "2024-07-11 09:56:20.264438: I tensorflow/core/platform/cpu_feature_guard.cc:210] This TensorFlow binary is optimized to use available CPU instructions in performance-critical operations.\n",
            "To enable the following instructions: AVX2 AVX512F AVX512_VNNI FMA, in other operations, rebuild TensorFlow with the appropriate compiler flags.\n",
            "2024-07-11 09:56:21.124064: W tensorflow/compiler/tf2tensorrt/utils/py_utils.cc:38] TF-TRT Warning: Could not find TensorRT\n"
          ]
        }
      ],
      "source": [
        "# pip install imbalanced-learn\n",
        "\n",
        "from tensorflow.keras.preprocessing.image import ImageDataGenerator\n",
        "import numpy as np\n",
        "from sklearn.ensemble import RandomForestClassifier\n",
        "from sklearn.preprocessing import StandardScaler"
      ]
    },
    {
      "cell_type": "code",
      "execution_count": null,
      "id": "d5526130-52c1-4d4c-8d00-e082da14d98d",
      "metadata": {
        "id": "d5526130-52c1-4d4c-8d00-e082da14d98d",
        "outputId": "5a5a4644-0bc2-46ce-fc65-0700a28d58f3"
      },
      "outputs": [
        {
          "name": "stdout",
          "output_type": "stream",
          "text": [
            "Training data: X_train shape = (694, 256, 256, 11), y_train shape = (694, 256, 256, 1)\n",
            "Validation data: X_val shape = (328, 256, 256, 11), y_val shape = (328, 256, 256, 1)\n",
            "Testing data: X_test shape = (359, 256, 256, 11), y_test shape = (359, 256, 256, 1)\n"
          ]
        }
      ],
      "source": [
        "import os\n",
        "import numpy as np\n",
        "import rasterio\n",
        "from sklearn.impute import SimpleImputer\n",
        "from imblearn.over_sampling import SMOTE\n",
        "from tensorflow.keras.utils import to_categorical\n",
        "from tensorflow.keras.preprocessing.image import ImageDataGenerator\n",
        "\n",
        "def load_dataset(data_dir, img_size=(256, 256)):\n",
        "    \"\"\"\n",
        "    Load dataset from specified directory.\n",
        "\n",
        "    Parameters:\n",
        "    - data_dir (str): Directory containing train, val, and test subdirectories.\n",
        "    - img_size (tuple): Desired size of the image (height, width).\n",
        "\n",
        "    Returns:\n",
        "    - train_data (tuple): Tuple containing (X_train, y_train).\n",
        "    - val_data (tuple): Tuple containing (X_val, y_val).\n",
        "    - test_data (tuple): Tuple containing (X_test, y_test).\n",
        "    \"\"\"\n",
        "    train_dir = os.path.join(data_dir, 'train')\n",
        "    val_dir = os.path.join(data_dir, 'val')\n",
        "    test_dir = os.path.join(data_dir, 'test')\n",
        "\n",
        "    # Load training data\n",
        "    X_train, y_train = load_data_from_dir(os.path.join(train_dir, 'input'), os.path.join(train_dir, 'output'), img_size)\n",
        "    # Load validation data\n",
        "    X_val, y_val = load_data_from_dir(os.path.join(val_dir, 'input'), os.path.join(val_dir, 'output'), img_size)\n",
        "    # Load test data\n",
        "    X_test, y_test = load_data_from_dir(os.path.join(test_dir, 'input'), os.path.join(test_dir, 'output'), img_size)\n",
        "\n",
        "    # Preprocess to handle NaN values\n",
        "    X_train = preprocess_data(X_train)\n",
        "    X_val = preprocess_data(X_val)\n",
        "    X_test = preprocess_data(X_test)\n",
        "\n",
        "    return (X_train, y_train), (X_val, y_val), (X_test, y_test)\n",
        "\n",
        "def preprocess_data(images):\n",
        "    \"\"\"\n",
        "    Preprocesses input images to handle NaN values.\n",
        "\n",
        "    Parameters:\n",
        "    - images (numpy.ndarray): Array of input images.\n",
        "\n",
        "    Returns:\n",
        "    - images (numpy.ndarray): Processed array of input images.\n",
        "    \"\"\"\n",
        "    # Replace NaN values with 0\n",
        "    images[np.isnan(images)] = 0\n",
        "\n",
        "    return images\n",
        "\n",
        "def load_data_from_dir(input_dir, output_dir, img_size):\n",
        "    \"\"\"\n",
        "    Load data (images and labels) from input and output directories.\n",
        "\n",
        "    Parameters:\n",
        "    - input_dir (str): Directory containing input images.\n",
        "    - output_dir (str): Directory containing output images.\n",
        "    - img_size (tuple): Desired size of the image (height, width).\n",
        "\n",
        "    Returns:\n",
        "    - images (numpy.ndarray): Array of loaded input images.\n",
        "    - labels (numpy.ndarray): Array of corresponding output images.\n",
        "    \"\"\"\n",
        "    images = []\n",
        "    labels = []\n",
        "\n",
        "    for filename in os.listdir(input_dir):\n",
        "        if filename.endswith('.tif'):\n",
        "            # Load input image (X)\n",
        "            input_path = os.path.join(input_dir, filename)\n",
        "            img = load_tiff_image(input_path, img_size)\n",
        "            images.append(img)\n",
        "\n",
        "            # Load corresponding output image (y)\n",
        "            output_filename = filename.replace('.tif', '_cl.tif')\n",
        "            output_path = os.path.join(output_dir, output_filename)\n",
        "            label = load_tiff_image(output_path, img_size, is_label=True)\n",
        "            label[np.isnan(label)] = 0\n",
        "            labels.append(label)\n",
        "\n",
        "    if images and labels:\n",
        "        images = np.array(images)\n",
        "        labels = np.array(labels)\n",
        "\n",
        "    return images, labels\n",
        "\n",
        "def load_tiff_image(path, img_size, is_label=False):\n",
        "    \"\"\"\n",
        "    Load a TIFF image from specified path.\n",
        "\n",
        "    Parameters:\n",
        "    - path (str): Path to the TIFF image.\n",
        "    - img_size (tuple): Desired size of the image (height, width).\n",
        "    - is_label (bool): Whether the image is a label image.\n",
        "\n",
        "    Returns:\n",
        "    - img (numpy.ndarray): Loaded image as a numpy array.\n",
        "    \"\"\"\n",
        "    with rasterio.open(path) as src:\n",
        "        img = src.read()\n",
        "\n",
        "    # Reshape and resize if necessary\n",
        "    img = img.transpose(1, 2, 0)  # Change from bands x height x width to height x width x bands\n",
        "    img = img[:img_size[0], :img_size[1], :]  # Resize to desired size\n",
        "\n",
        "    if is_label:\n",
        "        # Convert label image to binary classification (1 for Marine Debris, 0 for others)\n",
        "        img = (img == 1).astype(np.uint8)  # Assuming Marine Debris class is encoded as 1\n",
        "\n",
        "    return img\n",
        "\n",
        "# Example usage:\n",
        "data_dir = 'MARIDA'\n",
        "(X_train, y_train), (X_val, y_val), (X_test, y_test) = load_dataset(data_dir)\n",
        "\n",
        "print(f\"Training data: X_train shape = {X_train.shape}, y_train shape = {y_train.shape}\")\n",
        "print(f\"Validation data: X_val shape = {X_val.shape}, y_val shape = {y_val.shape}\")\n",
        "print(f\"Testing data: X_test shape = {X_test.shape}, y_test shape = {y_test.shape}\")\n"
      ]
    },
    {
      "cell_type": "code",
      "execution_count": null,
      "id": "4a79e500-5738-419b-bea0-ed2fc7eeb6a4",
      "metadata": {
        "id": "4a79e500-5738-419b-bea0-ed2fc7eeb6a4",
        "outputId": "dfc586bc-5dff-4fbd-c53a-4f6662c1d5c9"
      },
      "outputs": [
        {
          "name": "stdout",
          "output_type": "stream",
          "text": [
            "(694, 256, 256, 1)\n"
          ]
        }
      ],
      "source": [
        "print(y_train.shape)"
      ]
    },
    {
      "cell_type": "code",
      "execution_count": null,
      "id": "5691238f-52bd-4a69-8be7-a3e24f18e84d",
      "metadata": {
        "id": "5691238f-52bd-4a69-8be7-a3e24f18e84d",
        "outputId": "f9ccdf54-b57b-41a8-8a6c-4a8c0fce53ae"
      },
      "outputs": [
        {
          "name": "stdout",
          "output_type": "stream",
          "text": [
            "(694, 256, 256, 11)\n"
          ]
        }
      ],
      "source": [
        "print(X_train.shape)"
      ]
    },
    {
      "cell_type": "code",
      "execution_count": null,
      "id": "7afa58f3-b6c6-45fd-8738-376490f28ab0",
      "metadata": {
        "id": "7afa58f3-b6c6-45fd-8738-376490f28ab0",
        "outputId": "c9ef514b-a122-4723-d966-8bb3fd58ef90"
      },
      "outputs": [
        {
          "name": "stdout",
          "output_type": "stream",
          "text": [
            "(45481984, 1)\n"
          ]
        }
      ],
      "source": [
        "from imblearn.over_sampling import SMOTE\n",
        "X = np.reshape(X_train, (256*256*694, 11))\n",
        "Y = np.reshape(y_train, (256*256*694, 1))\n",
        "print(Y.shape)"
      ]
    },
    {
      "cell_type": "code",
      "execution_count": null,
      "id": "57efd5ea-7aed-42ba-8684-d3b58b92fb7e",
      "metadata": {
        "id": "57efd5ea-7aed-42ba-8684-d3b58b92fb7e",
        "outputId": "b2714fff-846c-4512-ca4f-187cfde7600f"
      },
      "outputs": [
        {
          "name": "stdout",
          "output_type": "stream",
          "text": [
            "(90960082, 11)\n",
            "(90960082,)\n"
          ]
        }
      ],
      "source": [
        "sm = SMOTE(random_state=42)\n",
        "X_res, y_res = sm.fit_resample(X, Y)\n",
        "print(X_res.shape)\n",
        "print(y_res.shape)"
      ]
    },
    {
      "cell_type": "markdown",
      "id": "674c24fa-e28c-4fd7-b55a-63f1e3d2ea12",
      "metadata": {
        "id": "674c24fa-e28c-4fd7-b55a-63f1e3d2ea12"
      },
      "source": [
        "Band 1 - Coastal Aerosol: 443.9 nm\n",
        "Band 2 - Blue: 496.6 nm\n",
        "Band 3 - Green: 560.0 nm\n",
        "Band 4 - Red: 664.5 nm\n",
        "Band 5 - Vegetation Red Edge: 703.9 nm\n",
        "Band 6 - Vegetation Red Edge: 740.2 nm\n",
        "Band 7 - Vegetation Red Edge: 782.5 nm\n",
        "Band 8 - NIR (Near Infrared): 835.1 nm\n",
        "Band 8A - Narrow NIR: 864.8 nm\n",
        "Band 9 - Water Vapor: 945.0 nm\n",
        "Band 10 - SWIR - Cirrus: 1373.5 nm\n",
        "Band 11 - SWIR: 1613.7 nm\n",
        "Band 12 - SWIR: 2202.4 nm"
      ]
    },
    {
      "cell_type": "code",
      "execution_count": null,
      "id": "974f443b-6ee1-48fa-a1f7-56f7cadf13e8",
      "metadata": {
        "id": "974f443b-6ee1-48fa-a1f7-56f7cadf13e8"
      },
      "outputs": [],
      "source": [
        "import pandas as pd\n",
        "Coastal = pd.DataFrame(X_res).iloc[:, 0]  # costel\n",
        "Blue = pd.DataFrame(X_res).iloc[:, 1] # blue\n",
        "Green = pd.DataFrame(X_res).iloc[:, 2] # green\n",
        "RED = pd.DataFrame(X_res).iloc[:, 3] #\n",
        "RedEdge1 = pd.DataFrame(X_res).iloc[:, 4]\n",
        "RedEdge2 = pd.DataFrame(X_res).iloc[:, 5]\n",
        "RedEdge3 = pd.DataFrame(X_res).iloc[:, 6]\n",
        "NIR = pd.DataFrame(X_res).iloc[:, 7]\n",
        "Narrow_NIR = pd.DataFrame(X_res).iloc[:, 8]\n",
        "SWIR1 = pd.DataFrame(X_res).iloc[:, 9]\n",
        "SWIR2 = pd.DataFrame(X_res).iloc[:, 10]\n",
        "\n",
        "# print(first_column.tolist())\n"
      ]
    },
    {
      "cell_type": "code",
      "execution_count": null,
      "id": "54dce678-fc70-492e-a4b7-89ba87ea1fd9",
      "metadata": {
        "id": "54dce678-fc70-492e-a4b7-89ba87ea1fd9",
        "outputId": "79efbe01-8f56-432b-f086-c4d3e2ae581d"
      },
      "outputs": [
        {
          "data": {
            "text/plain": [
              "(90960082,)"
            ]
          },
          "execution_count": 8,
          "metadata": {},
          "output_type": "execute_result"
        }
      ],
      "source": [
        "Blue.shape"
      ]
    },
    {
      "cell_type": "markdown",
      "id": "ce1650af-dfdc-4ae1-ac2e-270e5d32dfec",
      "metadata": {
        "id": "ce1650af-dfdc-4ae1-ac2e-270e5d32dfec"
      },
      "source": [
        "# NDVI"
      ]
    },
    {
      "cell_type": "code",
      "execution_count": null,
      "id": "afc57d41-ab2e-47f6-a85d-d30716671161",
      "metadata": {
        "id": "afc57d41-ab2e-47f6-a85d-d30716671161",
        "outputId": "93c8a83f-5dbc-4e10-8d4c-84d3e32ba15c"
      },
      "outputs": [
        {
          "name": "stdout",
          "output_type": "stream",
          "text": [
            "0\n",
            "0\n"
          ]
        }
      ],
      "source": [
        "NDVI = (NIR - RED) / (NIR + RED)\n",
        "print(np.isinf(NDVI).sum())\n",
        "print(np.isinf(NDVI).sum())"
      ]
    },
    {
      "cell_type": "markdown",
      "id": "9b981b8c-b020-4b12-9e76-bc4b4aeb7045",
      "metadata": {
        "id": "9b981b8c-b020-4b12-9e76-bc4b4aeb7045"
      },
      "source": [
        "# Plastic Index"
      ]
    },
    {
      "cell_type": "code",
      "execution_count": null,
      "id": "4957d420-c541-43e2-a0d3-fc26b2fbd0a7",
      "metadata": {
        "id": "4957d420-c541-43e2-a0d3-fc26b2fbd0a7",
        "outputId": "da2be3eb-0dba-41c8-cbb1-9d8520acf600"
      },
      "outputs": [
        {
          "name": "stdout",
          "output_type": "stream",
          "text": [
            "13\n",
            "13\n"
          ]
        }
      ],
      "source": [
        "Plastic = NIR / (NIR - RED)\n",
        "print(np.isinf(Plastic).sum())\n",
        "print(np.isinf(-Plastic).sum())"
      ]
    },
    {
      "cell_type": "markdown",
      "id": "9dc5718a-7c3c-4d20-a913-d5202cc28241",
      "metadata": {
        "id": "9dc5718a-7c3c-4d20-a913-d5202cc28241"
      },
      "source": [
        "# Floating Littere Index (FDI)"
      ]
    },
    {
      "cell_type": "code",
      "execution_count": null,
      "id": "fce2d619-7017-4662-a01a-cb6bcafdafbb",
      "metadata": {
        "id": "fce2d619-7017-4662-a01a-cb6bcafdafbb",
        "outputId": "606da584-1ff7-45c3-c144-8cebbb42aeed"
      },
      "outputs": [
        {
          "data": {
            "text/plain": [
              "0"
            ]
          },
          "execution_count": 11,
          "metadata": {},
          "output_type": "execute_result"
        }
      ],
      "source": [
        "FDI = NIR - (RedEdge2+ (SWIR1 - RedEdge2) * ((842 - 665)/(1610 - 665)) * 10  )\n",
        "np.isinf(FDI).sum()\n",
        "np.isinf(-FDI).sum()"
      ]
    },
    {
      "cell_type": "markdown",
      "id": "3f606562-6d03-4613-9985-47a0e8284a32",
      "metadata": {
        "id": "3f606562-6d03-4613-9985-47a0e8284a32"
      },
      "source": [
        "# Water Index"
      ]
    },
    {
      "cell_type": "code",
      "execution_count": null,
      "id": "9d470fa0-5308-49f8-989d-121a06b537b1",
      "metadata": {
        "id": "9d470fa0-5308-49f8-989d-121a06b537b1",
        "outputId": "19270c29-b991-4b70-e470-510b74fa87ff"
      },
      "outputs": [
        {
          "data": {
            "text/plain": [
              "0"
            ]
          },
          "execution_count": 12,
          "metadata": {},
          "output_type": "execute_result"
        }
      ],
      "source": [
        "WaterIndex = (Green-NIR)/ (Green+NIR)\n",
        "np.isinf(WaterIndex).sum()\n",
        "np.isinf(-WaterIndex).sum()"
      ]
    },
    {
      "cell_type": "code",
      "execution_count": null,
      "id": "ae217ee0-7e77-480a-95dd-1cdce7a0d1d4",
      "metadata": {
        "id": "ae217ee0-7e77-480a-95dd-1cdce7a0d1d4"
      },
      "outputs": [],
      "source": [
        "y_res= pd.DataFrame(y_res)"
      ]
    },
    {
      "cell_type": "code",
      "execution_count": null,
      "id": "2bc3b0e9-d544-4fa8-87ac-bc449d917cb0",
      "metadata": {
        "id": "2bc3b0e9-d544-4fa8-87ac-bc449d917cb0",
        "outputId": "063dbb05-c328-462b-c1d2-da57697423e8"
      },
      "outputs": [
        {
          "data": {
            "text/plain": [
              "(90960082, 8)"
            ]
          },
          "execution_count": 14,
          "metadata": {},
          "output_type": "execute_result"
        }
      ],
      "source": [
        "X_train = pd.concat([FDI,WaterIndex,Plastic,NDVI,SWIR1,NIR,RED,y_res],axis=1)\n",
        "X_train.shape"
      ]
    },
    {
      "cell_type": "code",
      "execution_count": null,
      "id": "d5acd0f7-fa3f-42cf-8607-72520d7a6309",
      "metadata": {
        "id": "d5acd0f7-fa3f-42cf-8607-72520d7a6309",
        "outputId": "12eb714e-54db-4e85-c42a-42205f4ba133"
      },
      "outputs": [
        {
          "data": {
            "text/plain": [
              "0     0\n",
              "1     0\n",
              "2    13\n",
              "3     0\n",
              "9     0\n",
              "7     0\n",
              "3     0\n",
              "0     0\n",
              "dtype: int64"
            ]
          },
          "execution_count": 15,
          "metadata": {},
          "output_type": "execute_result"
        }
      ],
      "source": [
        "np.isinf(X_train).sum()"
      ]
    },
    {
      "cell_type": "code",
      "execution_count": null,
      "id": "6c8d4e83-1a28-4ca0-be3b-54a3d60ed2ad",
      "metadata": {
        "id": "6c8d4e83-1a28-4ca0-be3b-54a3d60ed2ad"
      },
      "outputs": [],
      "source": [
        "mask = (X_train == np.inf).any(axis=1) | (X_train == -np.inf).any(axis=1)\n",
        "data_filtered = X_train[~mask]"
      ]
    },
    {
      "cell_type": "code",
      "execution_count": null,
      "id": "58239fc9-ea10-4f27-bfd2-135d91674b3d",
      "metadata": {
        "id": "58239fc9-ea10-4f27-bfd2-135d91674b3d",
        "outputId": "1e53a3b4-8bc4-4e7e-cbc2-f5f0738312fc"
      },
      "outputs": [
        {
          "data": {
            "text/plain": [
              "(90960069, 8)"
            ]
          },
          "execution_count": 17,
          "metadata": {},
          "output_type": "execute_result"
        }
      ],
      "source": [
        "data_filtered.shape"
      ]
    },
    {
      "cell_type": "code",
      "execution_count": null,
      "id": "6186cadc-a8e9-40ad-a3af-e588c17d61ad",
      "metadata": {
        "id": "6186cadc-a8e9-40ad-a3af-e588c17d61ad",
        "outputId": "b4ff5962-8421-46a4-a8f7-80d756fce3ba"
      },
      "outputs": [
        {
          "data": {
            "text/html": [
              "<div>\n",
              "<style scoped>\n",
              "    .dataframe tbody tr th:only-of-type {\n",
              "        vertical-align: middle;\n",
              "    }\n",
              "\n",
              "    .dataframe tbody tr th {\n",
              "        vertical-align: top;\n",
              "    }\n",
              "\n",
              "    .dataframe thead th {\n",
              "        text-align: right;\n",
              "    }\n",
              "</style>\n",
              "<table border=\"1\" class=\"dataframe\">\n",
              "  <thead>\n",
              "    <tr style=\"text-align: right;\">\n",
              "      <th></th>\n",
              "      <th>0</th>\n",
              "      <th>1</th>\n",
              "      <th>2</th>\n",
              "      <th>3</th>\n",
              "      <th>9</th>\n",
              "      <th>7</th>\n",
              "      <th>3</th>\n",
              "      <th>0</th>\n",
              "    </tr>\n",
              "  </thead>\n",
              "  <tbody>\n",
              "    <tr>\n",
              "      <th>0</th>\n",
              "      <td>0.011884</td>\n",
              "      <td>0.353668</td>\n",
              "      <td>-3.827362</td>\n",
              "      <td>-0.115544</td>\n",
              "      <td>0.001662</td>\n",
              "      <td>0.006761</td>\n",
              "      <td>0.008528</td>\n",
              "      <td>0</td>\n",
              "    </tr>\n",
              "    <tr>\n",
              "      <th>1</th>\n",
              "      <td>0.011987</td>\n",
              "      <td>0.350520</td>\n",
              "      <td>-2.183913</td>\n",
              "      <td>-0.186295</td>\n",
              "      <td>0.001662</td>\n",
              "      <td>0.006863</td>\n",
              "      <td>0.010006</td>\n",
              "      <td>0</td>\n",
              "    </tr>\n",
              "    <tr>\n",
              "      <th>2</th>\n",
              "      <td>0.010403</td>\n",
              "      <td>0.339595</td>\n",
              "      <td>-1.956158</td>\n",
              "      <td>-0.203570</td>\n",
              "      <td>0.002163</td>\n",
              "      <td>0.006761</td>\n",
              "      <td>0.010217</td>\n",
              "      <td>0</td>\n",
              "    </tr>\n",
              "    <tr>\n",
              "      <th>3</th>\n",
              "      <td>0.010403</td>\n",
              "      <td>0.373687</td>\n",
              "      <td>-2.488416</td>\n",
              "      <td>-0.167313</td>\n",
              "      <td>0.002163</td>\n",
              "      <td>0.006761</td>\n",
              "      <td>0.009478</td>\n",
              "      <td>0</td>\n",
              "    </tr>\n",
              "    <tr>\n",
              "      <th>4</th>\n",
              "      <td>0.009423</td>\n",
              "      <td>0.298356</td>\n",
              "      <td>-3.601909</td>\n",
              "      <td>-0.121894</td>\n",
              "      <td>0.002664</td>\n",
              "      <td>0.007170</td>\n",
              "      <td>0.009161</td>\n",
              "      <td>0</td>\n",
              "    </tr>\n",
              "    <tr>\n",
              "      <th>...</th>\n",
              "      <td>...</td>\n",
              "      <td>...</td>\n",
              "      <td>...</td>\n",
              "      <td>...</td>\n",
              "      <td>...</td>\n",
              "      <td>...</td>\n",
              "      <td>...</td>\n",
              "      <td>...</td>\n",
              "    </tr>\n",
              "    <tr>\n",
              "      <th>90960077</th>\n",
              "      <td>0.032894</td>\n",
              "      <td>0.125777</td>\n",
              "      <td>-7.195486</td>\n",
              "      <td>-0.064973</td>\n",
              "      <td>0.022103</td>\n",
              "      <td>0.042570</td>\n",
              "      <td>0.048486</td>\n",
              "      <td>1</td>\n",
              "    </tr>\n",
              "    <tr>\n",
              "      <th>90960078</th>\n",
              "      <td>0.057127</td>\n",
              "      <td>0.128533</td>\n",
              "      <td>-5.269717</td>\n",
              "      <td>-0.086659</td>\n",
              "      <td>0.017067</td>\n",
              "      <td>0.055453</td>\n",
              "      <td>0.065976</td>\n",
              "      <td>1</td>\n",
              "    </tr>\n",
              "    <tr>\n",
              "      <th>90960079</th>\n",
              "      <td>0.024138</td>\n",
              "      <td>0.167718</td>\n",
              "      <td>-6.122776</td>\n",
              "      <td>-0.075497</td>\n",
              "      <td>0.004966</td>\n",
              "      <td>0.020601</td>\n",
              "      <td>0.023966</td>\n",
              "      <td>1</td>\n",
              "    </tr>\n",
              "    <tr>\n",
              "      <th>90960080</th>\n",
              "      <td>0.055560</td>\n",
              "      <td>-0.085162</td>\n",
              "      <td>18.468830</td>\n",
              "      <td>0.027826</td>\n",
              "      <td>0.014891</td>\n",
              "      <td>0.058933</td>\n",
              "      <td>0.055742</td>\n",
              "      <td>1</td>\n",
              "    </tr>\n",
              "    <tr>\n",
              "      <th>90960081</th>\n",
              "      <td>0.096432</td>\n",
              "      <td>0.011087</td>\n",
              "      <td>66.581810</td>\n",
              "      <td>0.007566</td>\n",
              "      <td>0.016076</td>\n",
              "      <td>0.078404</td>\n",
              "      <td>0.077227</td>\n",
              "      <td>1</td>\n",
              "    </tr>\n",
              "  </tbody>\n",
              "</table>\n",
              "<p>90960069 rows × 8 columns</p>\n",
              "</div>"
            ],
            "text/plain": [
              "                 0         1          2         3         9         7  \\\n",
              "0         0.011884  0.353668  -3.827362 -0.115544  0.001662  0.006761   \n",
              "1         0.011987  0.350520  -2.183913 -0.186295  0.001662  0.006863   \n",
              "2         0.010403  0.339595  -1.956158 -0.203570  0.002163  0.006761   \n",
              "3         0.010403  0.373687  -2.488416 -0.167313  0.002163  0.006761   \n",
              "4         0.009423  0.298356  -3.601909 -0.121894  0.002664  0.007170   \n",
              "...            ...       ...        ...       ...       ...       ...   \n",
              "90960077  0.032894  0.125777  -7.195486 -0.064973  0.022103  0.042570   \n",
              "90960078  0.057127  0.128533  -5.269717 -0.086659  0.017067  0.055453   \n",
              "90960079  0.024138  0.167718  -6.122776 -0.075497  0.004966  0.020601   \n",
              "90960080  0.055560 -0.085162  18.468830  0.027826  0.014891  0.058933   \n",
              "90960081  0.096432  0.011087  66.581810  0.007566  0.016076  0.078404   \n",
              "\n",
              "                 3  0  \n",
              "0         0.008528  0  \n",
              "1         0.010006  0  \n",
              "2         0.010217  0  \n",
              "3         0.009478  0  \n",
              "4         0.009161  0  \n",
              "...            ... ..  \n",
              "90960077  0.048486  1  \n",
              "90960078  0.065976  1  \n",
              "90960079  0.023966  1  \n",
              "90960080  0.055742  1  \n",
              "90960081  0.077227  1  \n",
              "\n",
              "[90960069 rows x 8 columns]"
            ]
          },
          "execution_count": 18,
          "metadata": {},
          "output_type": "execute_result"
        }
      ],
      "source": [
        "data_filtered"
      ]
    },
    {
      "cell_type": "code",
      "execution_count": null,
      "id": "d8267ab5-1391-4fe0-bd10-754f48da3eab",
      "metadata": {
        "id": "d8267ab5-1391-4fe0-bd10-754f48da3eab",
        "outputId": "98b51bc9-f58f-4f59-8a7c-1155dcbd89aa"
      },
      "outputs": [
        {
          "data": {
            "text/plain": [
              "0    0\n",
              "1    0\n",
              "2    0\n",
              "3    0\n",
              "9    0\n",
              "7    0\n",
              "3    0\n",
              "0    0\n",
              "dtype: int64"
            ]
          },
          "execution_count": 19,
          "metadata": {},
          "output_type": "execute_result"
        }
      ],
      "source": [
        "np.isinf(data_filtered).sum()"
      ]
    },
    {
      "cell_type": "code",
      "execution_count": null,
      "id": "76328da0-d48a-4fba-9103-696538c77354",
      "metadata": {
        "id": "76328da0-d48a-4fba-9103-696538c77354",
        "outputId": "39846ea2-24b2-4019-fbc7-ef112bf49496"
      },
      "outputs": [
        {
          "name": "stdout",
          "output_type": "stream",
          "text": [
            "(90960068, 7) (90960068,)\n"
          ]
        }
      ],
      "source": [
        "X = data_filtered.iloc[:-1, :-1]  # Features (all columns except the last one)\n",
        "Y = data_filtered.iloc[:-1,-1]    # Target variable (last row, last column)\n",
        "print(X.shape, Y.shape)"
      ]
    },
    {
      "cell_type": "code",
      "execution_count": null,
      "id": "177e0e0f-88b5-4508-ab14-9f58712f7b91",
      "metadata": {
        "id": "177e0e0f-88b5-4508-ab14-9f58712f7b91",
        "outputId": "5ac046ca-fc94-473c-b877-52663a28eb2f"
      },
      "outputs": [
        {
          "data": {
            "text/plain": [
              "array([0, 1], dtype=uint8)"
            ]
          },
          "execution_count": 21,
          "metadata": {},
          "output_type": "execute_result"
        }
      ],
      "source": [
        "Y.unique()"
      ]
    },
    {
      "cell_type": "code",
      "execution_count": null,
      "id": "e6b201bf-edd7-402b-a1cb-8a9d52ad5726",
      "metadata": {
        "id": "e6b201bf-edd7-402b-a1cb-8a9d52ad5726"
      },
      "outputs": [],
      "source": []
    },
    {
      "cell_type": "code",
      "execution_count": null,
      "id": "fb298e9f-2a4f-4215-b552-ed08ec9430ff",
      "metadata": {
        "id": "fb298e9f-2a4f-4215-b552-ed08ec9430ff",
        "outputId": "9787b05d-3913-43ad-f040-5879c9a2de9c"
      },
      "outputs": [
        {
          "data": {
            "text/plain": [
              "(23527424, 1)"
            ]
          },
          "execution_count": 22,
          "metadata": {},
          "output_type": "execute_result"
        }
      ],
      "source": [
        "test_y = np.reshape(y_test,(359*256*256,1))\n",
        "test_x = np.reshape(X_test,(359*256*256,11))\n",
        "test_y.shape"
      ]
    },
    {
      "cell_type": "code",
      "execution_count": null,
      "id": "a89e8dbf-ba68-4eba-a24a-97308988e2b7",
      "metadata": {
        "id": "a89e8dbf-ba68-4eba-a24a-97308988e2b7"
      },
      "outputs": [],
      "source": [
        "Coastal = pd.DataFrame(test_x).iloc[:, 0]  # costel\n",
        "Blue = pd.DataFrame(test_x).iloc[:, 1] # blue\n",
        "Green = pd.DataFrame(test_x).iloc[:, 2] # green\n",
        "RED = pd.DataFrame(test_x).iloc[:, 3] #\n",
        "RedEdge1 = pd.DataFrame(test_x).iloc[:, 4]\n",
        "RedEdge2 = pd.DataFrame(test_x).iloc[:, 5]\n",
        "RedEdge3 = pd.DataFrame(test_x).iloc[:, 6]\n",
        "NIR = pd.DataFrame(test_x).iloc[:, 7]\n",
        "Narrow_NIR = pd.DataFrame(test_x).iloc[:, 8]\n",
        "SWIR1 = pd.DataFrame(test_x).iloc[:, 9]\n",
        "SWIR2 = pd.DataFrame(test_x).iloc[:, 10]\n",
        "\n",
        "# print(first_column.tolist())\n"
      ]
    },
    {
      "cell_type": "code",
      "execution_count": null,
      "id": "919ba3cc-4519-48e0-a1ed-28736268781d",
      "metadata": {
        "id": "919ba3cc-4519-48e0-a1ed-28736268781d",
        "outputId": "017d07c2-25d0-4927-9476-6506c7622734"
      },
      "outputs": [
        {
          "name": "stdout",
          "output_type": "stream",
          "text": [
            "0\n",
            "0\n"
          ]
        }
      ],
      "source": [
        "NDVI = (NIR - RED) / (NIR + RED)\n",
        "print(np.isinf(NDVI).sum())\n",
        "print(np.isinf(NDVI).sum())"
      ]
    },
    {
      "cell_type": "code",
      "execution_count": null,
      "id": "ace3997e-78be-4b6e-b573-1ac565459897",
      "metadata": {
        "id": "ace3997e-78be-4b6e-b573-1ac565459897",
        "outputId": "f5529d9a-36a6-4163-cff5-6a511c7d9a37"
      },
      "outputs": [
        {
          "name": "stdout",
          "output_type": "stream",
          "text": [
            "0\n",
            "0\n"
          ]
        }
      ],
      "source": [
        "Plastic = NIR / (NIR - RED)\n",
        "print(np.isinf(Plastic).sum())\n",
        "print(np.isinf(-Plastic).sum())"
      ]
    },
    {
      "cell_type": "code",
      "execution_count": null,
      "id": "163668b7-9697-4b92-b558-8a04024ab9a5",
      "metadata": {
        "id": "163668b7-9697-4b92-b558-8a04024ab9a5",
        "outputId": "f5e9a9ee-b84f-4e78-ceb3-0393379640c6"
      },
      "outputs": [
        {
          "data": {
            "text/plain": [
              "0"
            ]
          },
          "execution_count": 26,
          "metadata": {},
          "output_type": "execute_result"
        }
      ],
      "source": [
        "FDI = NIR - (RedEdge2+ (SWIR1 - RedEdge2) * ((842 - 665)/(1610 - 665)) * 10  )\n",
        "np.isinf(FDI).sum()\n",
        "np.isinf(-FDI).sum()"
      ]
    },
    {
      "cell_type": "code",
      "execution_count": null,
      "id": "6838a62c-14a9-42e7-82ab-349864de3ca4",
      "metadata": {
        "id": "6838a62c-14a9-42e7-82ab-349864de3ca4",
        "outputId": "12b64f2f-994d-4bc0-e7ee-5b4b7d8564ce"
      },
      "outputs": [
        {
          "data": {
            "text/plain": [
              "0"
            ]
          },
          "execution_count": 27,
          "metadata": {},
          "output_type": "execute_result"
        }
      ],
      "source": [
        "WaterIndex = (Green-NIR)/ (Green+NIR)\n",
        "np.isinf(WaterIndex).sum()\n",
        "np.isinf(-WaterIndex).sum()"
      ]
    },
    {
      "cell_type": "code",
      "execution_count": null,
      "id": "cf22d68e-cc93-4d5f-b2a9-67b83847f773",
      "metadata": {
        "id": "cf22d68e-cc93-4d5f-b2a9-67b83847f773",
        "outputId": "51901397-bfdf-4c86-c92c-bed513988e30"
      },
      "outputs": [
        {
          "data": {
            "text/plain": [
              "(23527424, 7)"
            ]
          },
          "execution_count": 28,
          "metadata": {},
          "output_type": "execute_result"
        }
      ],
      "source": [
        "X_test = pd.concat([FDI,WaterIndex,Plastic,NDVI,SWIR1,NIR,RED],axis=1)\n",
        "X_test.shape"
      ]
    },
    {
      "cell_type": "code",
      "execution_count": null,
      "id": "f51685e0-dd56-494c-acd1-efeb4005abf3",
      "metadata": {
        "id": "f51685e0-dd56-494c-acd1-efeb4005abf3",
        "outputId": "bfe91156-9da2-410e-ff2f-af622fa3b6e9"
      },
      "outputs": [
        {
          "data": {
            "text/plain": [
              "0    0\n",
              "1    0\n",
              "2    0\n",
              "3    0\n",
              "9    0\n",
              "7    0\n",
              "3    0\n",
              "dtype: int64"
            ]
          },
          "execution_count": 29,
          "metadata": {},
          "output_type": "execute_result"
        }
      ],
      "source": [
        "np.isinf(X_test).sum()"
      ]
    },
    {
      "cell_type": "code",
      "execution_count": null,
      "id": "d599cb7f-294c-4f3c-818b-d97c15f17776",
      "metadata": {
        "id": "d599cb7f-294c-4f3c-818b-d97c15f17776",
        "outputId": "99e8fcb1-62c1-43f2-8bcf-3900a79e1fb6"
      },
      "outputs": [
        {
          "data": {
            "text/html": [
              "<style>#sk-container-id-1 {\n",
              "  /* Definition of color scheme common for light and dark mode */\n",
              "  --sklearn-color-text: black;\n",
              "  --sklearn-color-line: gray;\n",
              "  /* Definition of color scheme for unfitted estimators */\n",
              "  --sklearn-color-unfitted-level-0: #fff5e6;\n",
              "  --sklearn-color-unfitted-level-1: #f6e4d2;\n",
              "  --sklearn-color-unfitted-level-2: #ffe0b3;\n",
              "  --sklearn-color-unfitted-level-3: chocolate;\n",
              "  /* Definition of color scheme for fitted estimators */\n",
              "  --sklearn-color-fitted-level-0: #f0f8ff;\n",
              "  --sklearn-color-fitted-level-1: #d4ebff;\n",
              "  --sklearn-color-fitted-level-2: #b3dbfd;\n",
              "  --sklearn-color-fitted-level-3: cornflowerblue;\n",
              "\n",
              "  /* Specific color for light theme */\n",
              "  --sklearn-color-text-on-default-background: var(--sg-text-color, var(--theme-code-foreground, var(--jp-content-font-color1, black)));\n",
              "  --sklearn-color-background: var(--sg-background-color, var(--theme-background, var(--jp-layout-color0, white)));\n",
              "  --sklearn-color-border-box: var(--sg-text-color, var(--theme-code-foreground, var(--jp-content-font-color1, black)));\n",
              "  --sklearn-color-icon: #696969;\n",
              "\n",
              "  @media (prefers-color-scheme: dark) {\n",
              "    /* Redefinition of color scheme for dark theme */\n",
              "    --sklearn-color-text-on-default-background: var(--sg-text-color, var(--theme-code-foreground, var(--jp-content-font-color1, white)));\n",
              "    --sklearn-color-background: var(--sg-background-color, var(--theme-background, var(--jp-layout-color0, #111)));\n",
              "    --sklearn-color-border-box: var(--sg-text-color, var(--theme-code-foreground, var(--jp-content-font-color1, white)));\n",
              "    --sklearn-color-icon: #878787;\n",
              "  }\n",
              "}\n",
              "\n",
              "#sk-container-id-1 {\n",
              "  color: var(--sklearn-color-text);\n",
              "}\n",
              "\n",
              "#sk-container-id-1 pre {\n",
              "  padding: 0;\n",
              "}\n",
              "\n",
              "#sk-container-id-1 input.sk-hidden--visually {\n",
              "  border: 0;\n",
              "  clip: rect(1px 1px 1px 1px);\n",
              "  clip: rect(1px, 1px, 1px, 1px);\n",
              "  height: 1px;\n",
              "  margin: -1px;\n",
              "  overflow: hidden;\n",
              "  padding: 0;\n",
              "  position: absolute;\n",
              "  width: 1px;\n",
              "}\n",
              "\n",
              "#sk-container-id-1 div.sk-dashed-wrapped {\n",
              "  border: 1px dashed var(--sklearn-color-line);\n",
              "  margin: 0 0.4em 0.5em 0.4em;\n",
              "  box-sizing: border-box;\n",
              "  padding-bottom: 0.4em;\n",
              "  background-color: var(--sklearn-color-background);\n",
              "}\n",
              "\n",
              "#sk-container-id-1 div.sk-container {\n",
              "  /* jupyter's `normalize.less` sets `[hidden] { display: none; }`\n",
              "     but bootstrap.min.css set `[hidden] { display: none !important; }`\n",
              "     so we also need the `!important` here to be able to override the\n",
              "     default hidden behavior on the sphinx rendered scikit-learn.org.\n",
              "     See: https://github.com/scikit-learn/scikit-learn/issues/21755 */\n",
              "  display: inline-block !important;\n",
              "  position: relative;\n",
              "}\n",
              "\n",
              "#sk-container-id-1 div.sk-text-repr-fallback {\n",
              "  display: none;\n",
              "}\n",
              "\n",
              "div.sk-parallel-item,\n",
              "div.sk-serial,\n",
              "div.sk-item {\n",
              "  /* draw centered vertical line to link estimators */\n",
              "  background-image: linear-gradient(var(--sklearn-color-text-on-default-background), var(--sklearn-color-text-on-default-background));\n",
              "  background-size: 2px 100%;\n",
              "  background-repeat: no-repeat;\n",
              "  background-position: center center;\n",
              "}\n",
              "\n",
              "/* Parallel-specific style estimator block */\n",
              "\n",
              "#sk-container-id-1 div.sk-parallel-item::after {\n",
              "  content: \"\";\n",
              "  width: 100%;\n",
              "  border-bottom: 2px solid var(--sklearn-color-text-on-default-background);\n",
              "  flex-grow: 1;\n",
              "}\n",
              "\n",
              "#sk-container-id-1 div.sk-parallel {\n",
              "  display: flex;\n",
              "  align-items: stretch;\n",
              "  justify-content: center;\n",
              "  background-color: var(--sklearn-color-background);\n",
              "  position: relative;\n",
              "}\n",
              "\n",
              "#sk-container-id-1 div.sk-parallel-item {\n",
              "  display: flex;\n",
              "  flex-direction: column;\n",
              "}\n",
              "\n",
              "#sk-container-id-1 div.sk-parallel-item:first-child::after {\n",
              "  align-self: flex-end;\n",
              "  width: 50%;\n",
              "}\n",
              "\n",
              "#sk-container-id-1 div.sk-parallel-item:last-child::after {\n",
              "  align-self: flex-start;\n",
              "  width: 50%;\n",
              "}\n",
              "\n",
              "#sk-container-id-1 div.sk-parallel-item:only-child::after {\n",
              "  width: 0;\n",
              "}\n",
              "\n",
              "/* Serial-specific style estimator block */\n",
              "\n",
              "#sk-container-id-1 div.sk-serial {\n",
              "  display: flex;\n",
              "  flex-direction: column;\n",
              "  align-items: center;\n",
              "  background-color: var(--sklearn-color-background);\n",
              "  padding-right: 1em;\n",
              "  padding-left: 1em;\n",
              "}\n",
              "\n",
              "\n",
              "/* Toggleable style: style used for estimator/Pipeline/ColumnTransformer box that is\n",
              "clickable and can be expanded/collapsed.\n",
              "- Pipeline and ColumnTransformer use this feature and define the default style\n",
              "- Estimators will overwrite some part of the style using the `sk-estimator` class\n",
              "*/\n",
              "\n",
              "/* Pipeline and ColumnTransformer style (default) */\n",
              "\n",
              "#sk-container-id-1 div.sk-toggleable {\n",
              "  /* Default theme specific background. It is overwritten whether we have a\n",
              "  specific estimator or a Pipeline/ColumnTransformer */\n",
              "  background-color: var(--sklearn-color-background);\n",
              "}\n",
              "\n",
              "/* Toggleable label */\n",
              "#sk-container-id-1 label.sk-toggleable__label {\n",
              "  cursor: pointer;\n",
              "  display: block;\n",
              "  width: 100%;\n",
              "  margin-bottom: 0;\n",
              "  padding: 0.5em;\n",
              "  box-sizing: border-box;\n",
              "  text-align: center;\n",
              "}\n",
              "\n",
              "#sk-container-id-1 label.sk-toggleable__label-arrow:before {\n",
              "  /* Arrow on the left of the label */\n",
              "  content: \"▸\";\n",
              "  float: left;\n",
              "  margin-right: 0.25em;\n",
              "  color: var(--sklearn-color-icon);\n",
              "}\n",
              "\n",
              "#sk-container-id-1 label.sk-toggleable__label-arrow:hover:before {\n",
              "  color: var(--sklearn-color-text);\n",
              "}\n",
              "\n",
              "/* Toggleable content - dropdown */\n",
              "\n",
              "#sk-container-id-1 div.sk-toggleable__content {\n",
              "  max-height: 0;\n",
              "  max-width: 0;\n",
              "  overflow: hidden;\n",
              "  text-align: left;\n",
              "  /* unfitted */\n",
              "  background-color: var(--sklearn-color-unfitted-level-0);\n",
              "}\n",
              "\n",
              "#sk-container-id-1 div.sk-toggleable__content.fitted {\n",
              "  /* fitted */\n",
              "  background-color: var(--sklearn-color-fitted-level-0);\n",
              "}\n",
              "\n",
              "#sk-container-id-1 div.sk-toggleable__content pre {\n",
              "  margin: 0.2em;\n",
              "  border-radius: 0.25em;\n",
              "  color: var(--sklearn-color-text);\n",
              "  /* unfitted */\n",
              "  background-color: var(--sklearn-color-unfitted-level-0);\n",
              "}\n",
              "\n",
              "#sk-container-id-1 div.sk-toggleable__content.fitted pre {\n",
              "  /* unfitted */\n",
              "  background-color: var(--sklearn-color-fitted-level-0);\n",
              "}\n",
              "\n",
              "#sk-container-id-1 input.sk-toggleable__control:checked~div.sk-toggleable__content {\n",
              "  /* Expand drop-down */\n",
              "  max-height: 200px;\n",
              "  max-width: 100%;\n",
              "  overflow: auto;\n",
              "}\n",
              "\n",
              "#sk-container-id-1 input.sk-toggleable__control:checked~label.sk-toggleable__label-arrow:before {\n",
              "  content: \"▾\";\n",
              "}\n",
              "\n",
              "/* Pipeline/ColumnTransformer-specific style */\n",
              "\n",
              "#sk-container-id-1 div.sk-label input.sk-toggleable__control:checked~label.sk-toggleable__label {\n",
              "  color: var(--sklearn-color-text);\n",
              "  background-color: var(--sklearn-color-unfitted-level-2);\n",
              "}\n",
              "\n",
              "#sk-container-id-1 div.sk-label.fitted input.sk-toggleable__control:checked~label.sk-toggleable__label {\n",
              "  background-color: var(--sklearn-color-fitted-level-2);\n",
              "}\n",
              "\n",
              "/* Estimator-specific style */\n",
              "\n",
              "/* Colorize estimator box */\n",
              "#sk-container-id-1 div.sk-estimator input.sk-toggleable__control:checked~label.sk-toggleable__label {\n",
              "  /* unfitted */\n",
              "  background-color: var(--sklearn-color-unfitted-level-2);\n",
              "}\n",
              "\n",
              "#sk-container-id-1 div.sk-estimator.fitted input.sk-toggleable__control:checked~label.sk-toggleable__label {\n",
              "  /* fitted */\n",
              "  background-color: var(--sklearn-color-fitted-level-2);\n",
              "}\n",
              "\n",
              "#sk-container-id-1 div.sk-label label.sk-toggleable__label,\n",
              "#sk-container-id-1 div.sk-label label {\n",
              "  /* The background is the default theme color */\n",
              "  color: var(--sklearn-color-text-on-default-background);\n",
              "}\n",
              "\n",
              "/* On hover, darken the color of the background */\n",
              "#sk-container-id-1 div.sk-label:hover label.sk-toggleable__label {\n",
              "  color: var(--sklearn-color-text);\n",
              "  background-color: var(--sklearn-color-unfitted-level-2);\n",
              "}\n",
              "\n",
              "/* Label box, darken color on hover, fitted */\n",
              "#sk-container-id-1 div.sk-label.fitted:hover label.sk-toggleable__label.fitted {\n",
              "  color: var(--sklearn-color-text);\n",
              "  background-color: var(--sklearn-color-fitted-level-2);\n",
              "}\n",
              "\n",
              "/* Estimator label */\n",
              "\n",
              "#sk-container-id-1 div.sk-label label {\n",
              "  font-family: monospace;\n",
              "  font-weight: bold;\n",
              "  display: inline-block;\n",
              "  line-height: 1.2em;\n",
              "}\n",
              "\n",
              "#sk-container-id-1 div.sk-label-container {\n",
              "  text-align: center;\n",
              "}\n",
              "\n",
              "/* Estimator-specific */\n",
              "#sk-container-id-1 div.sk-estimator {\n",
              "  font-family: monospace;\n",
              "  border: 1px dotted var(--sklearn-color-border-box);\n",
              "  border-radius: 0.25em;\n",
              "  box-sizing: border-box;\n",
              "  margin-bottom: 0.5em;\n",
              "  /* unfitted */\n",
              "  background-color: var(--sklearn-color-unfitted-level-0);\n",
              "}\n",
              "\n",
              "#sk-container-id-1 div.sk-estimator.fitted {\n",
              "  /* fitted */\n",
              "  background-color: var(--sklearn-color-fitted-level-0);\n",
              "}\n",
              "\n",
              "/* on hover */\n",
              "#sk-container-id-1 div.sk-estimator:hover {\n",
              "  /* unfitted */\n",
              "  background-color: var(--sklearn-color-unfitted-level-2);\n",
              "}\n",
              "\n",
              "#sk-container-id-1 div.sk-estimator.fitted:hover {\n",
              "  /* fitted */\n",
              "  background-color: var(--sklearn-color-fitted-level-2);\n",
              "}\n",
              "\n",
              "/* Specification for estimator info (e.g. \"i\" and \"?\") */\n",
              "\n",
              "/* Common style for \"i\" and \"?\" */\n",
              "\n",
              ".sk-estimator-doc-link,\n",
              "a:link.sk-estimator-doc-link,\n",
              "a:visited.sk-estimator-doc-link {\n",
              "  float: right;\n",
              "  font-size: smaller;\n",
              "  line-height: 1em;\n",
              "  font-family: monospace;\n",
              "  background-color: var(--sklearn-color-background);\n",
              "  border-radius: 1em;\n",
              "  height: 1em;\n",
              "  width: 1em;\n",
              "  text-decoration: none !important;\n",
              "  margin-left: 1ex;\n",
              "  /* unfitted */\n",
              "  border: var(--sklearn-color-unfitted-level-1) 1pt solid;\n",
              "  color: var(--sklearn-color-unfitted-level-1);\n",
              "}\n",
              "\n",
              ".sk-estimator-doc-link.fitted,\n",
              "a:link.sk-estimator-doc-link.fitted,\n",
              "a:visited.sk-estimator-doc-link.fitted {\n",
              "  /* fitted */\n",
              "  border: var(--sklearn-color-fitted-level-1) 1pt solid;\n",
              "  color: var(--sklearn-color-fitted-level-1);\n",
              "}\n",
              "\n",
              "/* On hover */\n",
              "div.sk-estimator:hover .sk-estimator-doc-link:hover,\n",
              ".sk-estimator-doc-link:hover,\n",
              "div.sk-label-container:hover .sk-estimator-doc-link:hover,\n",
              ".sk-estimator-doc-link:hover {\n",
              "  /* unfitted */\n",
              "  background-color: var(--sklearn-color-unfitted-level-3);\n",
              "  color: var(--sklearn-color-background);\n",
              "  text-decoration: none;\n",
              "}\n",
              "\n",
              "div.sk-estimator.fitted:hover .sk-estimator-doc-link.fitted:hover,\n",
              ".sk-estimator-doc-link.fitted:hover,\n",
              "div.sk-label-container:hover .sk-estimator-doc-link.fitted:hover,\n",
              ".sk-estimator-doc-link.fitted:hover {\n",
              "  /* fitted */\n",
              "  background-color: var(--sklearn-color-fitted-level-3);\n",
              "  color: var(--sklearn-color-background);\n",
              "  text-decoration: none;\n",
              "}\n",
              "\n",
              "/* Span, style for the box shown on hovering the info icon */\n",
              ".sk-estimator-doc-link span {\n",
              "  display: none;\n",
              "  z-index: 9999;\n",
              "  position: relative;\n",
              "  font-weight: normal;\n",
              "  right: .2ex;\n",
              "  padding: .5ex;\n",
              "  margin: .5ex;\n",
              "  width: min-content;\n",
              "  min-width: 20ex;\n",
              "  max-width: 50ex;\n",
              "  color: var(--sklearn-color-text);\n",
              "  box-shadow: 2pt 2pt 4pt #999;\n",
              "  /* unfitted */\n",
              "  background: var(--sklearn-color-unfitted-level-0);\n",
              "  border: .5pt solid var(--sklearn-color-unfitted-level-3);\n",
              "}\n",
              "\n",
              ".sk-estimator-doc-link.fitted span {\n",
              "  /* fitted */\n",
              "  background: var(--sklearn-color-fitted-level-0);\n",
              "  border: var(--sklearn-color-fitted-level-3);\n",
              "}\n",
              "\n",
              ".sk-estimator-doc-link:hover span {\n",
              "  display: block;\n",
              "}\n",
              "\n",
              "/* \"?\"-specific style due to the `<a>` HTML tag */\n",
              "\n",
              "#sk-container-id-1 a.estimator_doc_link {\n",
              "  float: right;\n",
              "  font-size: 1rem;\n",
              "  line-height: 1em;\n",
              "  font-family: monospace;\n",
              "  background-color: var(--sklearn-color-background);\n",
              "  border-radius: 1rem;\n",
              "  height: 1rem;\n",
              "  width: 1rem;\n",
              "  text-decoration: none;\n",
              "  /* unfitted */\n",
              "  color: var(--sklearn-color-unfitted-level-1);\n",
              "  border: var(--sklearn-color-unfitted-level-1) 1pt solid;\n",
              "}\n",
              "\n",
              "#sk-container-id-1 a.estimator_doc_link.fitted {\n",
              "  /* fitted */\n",
              "  border: var(--sklearn-color-fitted-level-1) 1pt solid;\n",
              "  color: var(--sklearn-color-fitted-level-1);\n",
              "}\n",
              "\n",
              "/* On hover */\n",
              "#sk-container-id-1 a.estimator_doc_link:hover {\n",
              "  /* unfitted */\n",
              "  background-color: var(--sklearn-color-unfitted-level-3);\n",
              "  color: var(--sklearn-color-background);\n",
              "  text-decoration: none;\n",
              "}\n",
              "\n",
              "#sk-container-id-1 a.estimator_doc_link.fitted:hover {\n",
              "  /* fitted */\n",
              "  background-color: var(--sklearn-color-fitted-level-3);\n",
              "}\n",
              "</style><div id=\"sk-container-id-1\" class=\"sk-top-container\"><div class=\"sk-text-repr-fallback\"><pre>RandomForestClassifier(max_depth=11, n_estimators=3500, n_jobs=2,\n",
              "                       random_state=42)</pre><b>In a Jupyter environment, please rerun this cell to show the HTML representation or trust the notebook. <br />On GitHub, the HTML representation is unable to render, please try loading this page with nbviewer.org.</b></div><div class=\"sk-container\" hidden><div class=\"sk-item\"><div class=\"sk-estimator fitted sk-toggleable\"><input class=\"sk-toggleable__control sk-hidden--visually\" id=\"sk-estimator-id-1\" type=\"checkbox\" checked><label for=\"sk-estimator-id-1\" class=\"sk-toggleable__label fitted sk-toggleable__label-arrow fitted\">&nbsp;&nbsp;RandomForestClassifier<a class=\"sk-estimator-doc-link fitted\" rel=\"noreferrer\" target=\"_blank\" href=\"https://scikit-learn.org/1.5/modules/generated/sklearn.ensemble.RandomForestClassifier.html\">?<span>Documentation for RandomForestClassifier</span></a><span class=\"sk-estimator-doc-link fitted\">i<span>Fitted</span></span></label><div class=\"sk-toggleable__content fitted\"><pre>RandomForestClassifier(max_depth=11, n_estimators=3500, n_jobs=2,\n",
              "                       random_state=42)</pre></div> </div></div></div></div>"
            ],
            "text/plain": [
              "RandomForestClassifier(max_depth=11, n_estimators=3500, n_jobs=2,\n",
              "                       random_state=42)"
            ]
          },
          "execution_count": 32,
          "metadata": {},
          "output_type": "execute_result"
        }
      ],
      "source": [
        "# Initialize and fit the RandomForestClassifier with specified parameters\n",
        "rf_classifier = RandomForestClassifier(n_estimators=3500, max_depth=11, random_state=42, n_jobs=2)\n",
        "rf_classifier.fit(X, Y)"
      ]
    },
    {
      "cell_type": "code",
      "execution_count": null,
      "id": "1a522ef1-f379-4e46-ad9c-8317cc65ce2b",
      "metadata": {
        "id": "1a522ef1-f379-4e46-ad9c-8317cc65ce2b"
      },
      "outputs": [],
      "source": [
        "result = rf_classifier.predict(X_test)"
      ]
    },
    {
      "cell_type": "code",
      "execution_count": null,
      "id": "fcddc639-ce13-4c4e-a0f2-fdae81667c8d",
      "metadata": {
        "id": "fcddc639-ce13-4c4e-a0f2-fdae81667c8d",
        "outputId": "8bc0e844-7b88-478a-cf3a-de12615361cd"
      },
      "outputs": [
        {
          "data": {
            "text/plain": [
              "'              precision    recall  f1-score   support\\n\\n           0       0.99      1.00      1.00  23405068\\n           1       0.91      0.00      0.01    122356\\n\\n    accuracy                           0.99  23527424\\n   macro avg       0.95      0.50      0.50  23527424\\nweighted avg       0.99      0.99      0.99  23527424\\n'"
            ]
          },
          "execution_count": 38,
          "metadata": {},
          "output_type": "execute_result"
        }
      ],
      "source": [
        "from sklearn.metrics import classification_report\n",
        "report = classification_report(result, test_y)\n",
        "report"
      ]
    },
    {
      "cell_type": "code",
      "execution_count": null,
      "id": "9408c1b1-007d-487a-9152-cbcc6dc24aec",
      "metadata": {
        "id": "9408c1b1-007d-487a-9152-cbcc6dc24aec",
        "outputId": "0e12cdbe-1218-4efd-f41b-98aaf8e64e50"
      },
      "outputs": [
        {
          "name": "stdout",
          "output_type": "stream",
          "text": [
            "              precision    recall  f1-score   support\n",
            "\n",
            "           0       0.99      1.00      1.00  23405068\n",
            "           1       0.91      0.00      0.01    122356\n",
            "\n",
            "    accuracy                           0.99  23527424\n",
            "   macro avg       0.95      0.50      0.50  23527424\n",
            "weighted avg       0.99      0.99      0.99  23527424\n",
            "\n"
          ]
        }
      ],
      "source": [
        "print(report)"
      ]
    },
    {
      "cell_type": "code",
      "execution_count": null,
      "id": "e1f295de-ed7d-4371-87e1-a6b37755fa4f",
      "metadata": {
        "id": "e1f295de-ed7d-4371-87e1-a6b37755fa4f"
      },
      "outputs": [],
      "source": [
        "def write_to_file(filename, content):\n",
        "    with open(filename, 'w') as f:\n",
        "        f.write(content)\n",
        "# Example usage:\n",
        "filename = '1000_decision_tree.txt'\n",
        "\n",
        "write_to_file(filename, report)"
      ]
    },
    {
      "cell_type": "code",
      "execution_count": null,
      "id": "5ee67e9e-2235-43b2-8876-8999b6d302f6",
      "metadata": {
        "id": "5ee67e9e-2235-43b2-8876-8999b6d302f6",
        "outputId": "37d7393a-772f-41a3-bbe9-8b8dead2f2dc"
      },
      "outputs": [
        {
          "data": {
            "text/plain": [
              "['random_forest_1000_decision_tree.joblib']"
            ]
          },
          "execution_count": 41,
          "metadata": {},
          "output_type": "execute_result"
        }
      ],
      "source": [
        "import joblib\n",
        "\n",
        "joblib.dump(rf_classifier, \"random_forest_1000_decision_tree.joblib\")"
      ]
    },
    {
      "cell_type": "code",
      "execution_count": null,
      "id": "fd1f3c9a-3c1d-45b1-8bba-7505196a7e29",
      "metadata": {
        "id": "fd1f3c9a-3c1d-45b1-8bba-7505196a7e29",
        "outputId": "35f86db9-25f5-49cb-ac17-ed9e287bd8dd"
      },
      "outputs": [
        {
          "data": {
            "text/plain": [
              "array([[23405032,   122011],\n",
              "       [      36,      345]])"
            ]
          },
          "execution_count": 45,
          "metadata": {},
          "output_type": "execute_result"
        }
      ],
      "source": [
        "# Calculate confusion matrix\n",
        "from sklearn.metrics import confusion_matrix, precision_score, recall_score, f1_score\n",
        "cm = confusion_matrix(test_y, result)\n",
        "cm"
      ]
    },
    {
      "cell_type": "code",
      "execution_count": null,
      "id": "a9d57715-fc10-401d-9bed-ae5351eb9813",
      "metadata": {
        "id": "a9d57715-fc10-401d-9bed-ae5351eb9813",
        "outputId": "5d79b17c-e2be-453b-f544-53694bbe995b"
      },
      "outputs": [
        {
          "data": {
            "text/plain": [
              "(23527424, 1)"
            ]
          },
          "execution_count": 47,
          "metadata": {},
          "output_type": "execute_result"
        }
      ],
      "source": [
        "test_y.shape"
      ]
    },
    {
      "cell_type": "code",
      "execution_count": null,
      "id": "ee4043d7-2bc7-4da6-8eb6-c4a1dabc2c47",
      "metadata": {
        "id": "ee4043d7-2bc7-4da6-8eb6-c4a1dabc2c47"
      },
      "outputs": [],
      "source": []
    },
    {
      "cell_type": "code",
      "execution_count": null,
      "id": "5ceb296a-05fa-4557-92e3-80fbd35acc09",
      "metadata": {
        "id": "5ceb296a-05fa-4557-92e3-80fbd35acc09"
      },
      "outputs": [],
      "source": []
    },
    {
      "cell_type": "code",
      "execution_count": null,
      "id": "b6414b35-3fac-415e-a9d4-0063a3e32f49",
      "metadata": {
        "id": "b6414b35-3fac-415e-a9d4-0063a3e32f49"
      },
      "outputs": [],
      "source": []
    },
    {
      "cell_type": "code",
      "execution_count": null,
      "id": "27dcef26-cb69-4112-a0e0-881e4c0b0ee5",
      "metadata": {
        "id": "27dcef26-cb69-4112-a0e0-881e4c0b0ee5"
      },
      "outputs": [],
      "source": []
    },
    {
      "cell_type": "code",
      "execution_count": null,
      "id": "18056b30-05d3-4cf9-bfdf-8822980478df",
      "metadata": {
        "id": "18056b30-05d3-4cf9-bfdf-8822980478df"
      },
      "outputs": [],
      "source": []
    },
    {
      "cell_type": "code",
      "execution_count": null,
      "id": "f707371d-0f06-432b-87fc-f1b6c8a2c5c4",
      "metadata": {
        "id": "f707371d-0f06-432b-87fc-f1b6c8a2c5c4"
      },
      "outputs": [],
      "source": []
    },
    {
      "cell_type": "code",
      "execution_count": null,
      "id": "1e157b8f-7903-4e3f-9552-661088dd45be",
      "metadata": {
        "id": "1e157b8f-7903-4e3f-9552-661088dd45be"
      },
      "outputs": [],
      "source": []
    },
    {
      "cell_type": "code",
      "execution_count": null,
      "id": "7991b535-c3cf-4d26-8f9b-99244cfabf77",
      "metadata": {
        "id": "7991b535-c3cf-4d26-8f9b-99244cfabf77"
      },
      "outputs": [],
      "source": []
    },
    {
      "cell_type": "code",
      "execution_count": null,
      "id": "8a49731b-620d-479e-9320-2a40b9089d83",
      "metadata": {
        "id": "8a49731b-620d-479e-9320-2a40b9089d83"
      },
      "outputs": [],
      "source": []
    },
    {
      "cell_type": "code",
      "execution_count": null,
      "id": "580757a6-2509-4b96-b5e2-c9f18bda43d6",
      "metadata": {
        "id": "580757a6-2509-4b96-b5e2-c9f18bda43d6"
      },
      "outputs": [],
      "source": []
    },
    {
      "cell_type": "code",
      "execution_count": null,
      "id": "c119639c-65f9-4e7a-8bf6-ec2e4e051b16",
      "metadata": {
        "id": "c119639c-65f9-4e7a-8bf6-ec2e4e051b16"
      },
      "outputs": [],
      "source": [
        "import os\n",
        "\n",
        "def shutdown():\n",
        "    if os.name == 'posix':  # For UNIX/Linux/MacOS\n",
        "        os.system('shutdown -h now')\n",
        "    elif os.name == 'nt':  # For Windows\n",
        "        os.system('shutdown /s /t 1')\n",
        "    else:\n",
        "        raise OSError(f\"Unsupported operating system: {os.name}\")\n",
        "\n",
        "# Calling the shutdown function\n",
        "shutdown()\n"
      ]
    },
    {
      "cell_type": "code",
      "execution_count": null,
      "id": "96148f1b-7975-465c-8845-2212da567c90",
      "metadata": {
        "id": "96148f1b-7975-465c-8845-2212da567c90"
      },
      "outputs": [],
      "source": [
        "# from tensorflow.keras.preprocessing.image import ImageDataGenerator\n",
        "\n",
        "# # Define ImageDataGenerator with rotation augmentation\n",
        "# datagen = ImageDataGenerator(\n",
        "#     rotation_range=45,  # Rotate images randomly up to 45 degrees\n",
        "#     rescale=1./255  # Normalize pixel values (assuming pixel range 0-255)\n",
        "# )\n",
        "\n",
        "# # Example usage:\n",
        "# batch_size = 32\n",
        "# # Create generators for training and validation data\n",
        "# train_generator = datagen.flow(X_train, y_train, batch_size=batch_size)\n",
        "# val_generator = datagen.flow(X_val, y_val, batch_size=batch_size)\n",
        "\n",
        "# # Note: No need to augment validation data, so we only apply rotation augmentation to training data\n"
      ]
    },
    {
      "cell_type": "code",
      "execution_count": null,
      "id": "b3fe839d-fd39-4d1b-8ad7-fdd903456095",
      "metadata": {
        "id": "b3fe839d-fd39-4d1b-8ad7-fdd903456095"
      },
      "outputs": [],
      "source": [
        "# import tensorflow as tf\n",
        "# from tensorflow.keras.losses import SparseCategoricalCrossentropy\n",
        "\n",
        "# # Compute class weights based on frequency\n",
        "# def compute_class_weights(y_train):\n",
        "#     class_weights = {}\n",
        "#     total_samples = len(y_train)\n",
        "#     unique_classes = np.unique(y_train)\n",
        "#     class_counts = np.bincount(y_train.flatten())\n",
        "\n",
        "#     for i, count in enumerate(class_counts):\n",
        "#         class_weights[i] = (1 / count) * (total_samples / len(unique_classes))\n",
        "\n",
        "#     return class_weights\n",
        "\n",
        "# # Example usage\n",
        "# # Assuming y_train is your training labels (shape: (694, 256, 256))\n",
        "# y_train_flat = y_train.flatten()\n",
        "# class_weights = compute_class_weights(y_train_flat)\n",
        "\n",
        "# # Define weighted loss function\n",
        "# loss_function = SparseCategoricalCrossentropy(from_logits=True, weight=class_weights)\n",
        "\n",
        "# # Compile your model with this loss function\n",
        "# model.compile(optimizer='adam', loss=loss_function, metrics=['accuracy'])\n",
        "\n",
        "# # Train your model using the generators\n",
        "# history = model.fit(train_generator, epochs=num_epochs, validation_data=val_generator)\n"
      ]
    },
    {
      "cell_type": "code",
      "execution_count": null,
      "id": "f5d91aa1-3689-4ccf-a9c6-738ce7f0a640",
      "metadata": {
        "id": "f5d91aa1-3689-4ccf-a9c6-738ce7f0a640"
      },
      "outputs": [],
      "source": []
    },
    {
      "cell_type": "code",
      "execution_count": null,
      "id": "f4c5c79e-7c2b-4111-9431-9056d50393da",
      "metadata": {
        "id": "f4c5c79e-7c2b-4111-9431-9056d50393da"
      },
      "outputs": [],
      "source": []
    },
    {
      "cell_type": "code",
      "execution_count": null,
      "id": "2ddd0820-77fa-4835-9da0-8115ba3682c7",
      "metadata": {
        "id": "2ddd0820-77fa-4835-9da0-8115ba3682c7"
      },
      "outputs": [],
      "source": []
    }
  ],
  "metadata": {
    "kernelspec": {
      "display_name": "Python 3 (ipykernel)",
      "language": "python",
      "name": "python3"
    },
    "language_info": {
      "codemirror_mode": {
        "name": "ipython",
        "version": 3
      },
      "file_extension": ".py",
      "mimetype": "text/x-python",
      "name": "python",
      "nbconvert_exporter": "python",
      "pygments_lexer": "ipython3",
      "version": "3.12.3"
    },
    "colab": {
      "provenance": []
    }
  },
  "nbformat": 4,
  "nbformat_minor": 5
}