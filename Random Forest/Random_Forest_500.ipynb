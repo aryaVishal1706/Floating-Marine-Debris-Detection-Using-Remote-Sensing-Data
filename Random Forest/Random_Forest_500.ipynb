{
 "cells": [
  {
   "cell_type": "code",
   "execution_count": 1,
   "id": "ae7cd6ac-8db7-4345-8ac0-dcc37d064290",
   "metadata": {},
   "outputs": [
    {
     "name": "stderr",
     "output_type": "stream",
     "text": [
      "2024-07-15 15:46:32.421069: I tensorflow/core/util/port.cc:113] oneDNN custom operations are on. You may see slightly different numerical results due to floating-point round-off errors from different computation orders. To turn them off, set the environment variable `TF_ENABLE_ONEDNN_OPTS=0`.\n",
      "2024-07-15 15:46:32.741770: I external/local_tsl/tsl/cuda/cudart_stub.cc:32] Could not find cuda drivers on your machine, GPU will not be used.\n",
      "2024-07-15 15:46:32.752619: I external/local_tsl/tsl/cuda/cudart_stub.cc:32] Could not find cuda drivers on your machine, GPU will not be used.\n",
      "2024-07-15 15:46:32.776264: E external/local_xla/xla/stream_executor/cuda/cuda_fft.cc:479] Unable to register cuFFT factory: Attempting to register factory for plugin cuFFT when one has already been registered\n",
      "2024-07-15 15:46:32.806924: E external/local_xla/xla/stream_executor/cuda/cuda_dnn.cc:10575] Unable to register cuDNN factory: Attempting to register factory for plugin cuDNN when one has already been registered\n",
      "2024-07-15 15:46:32.806987: E external/local_xla/xla/stream_executor/cuda/cuda_blas.cc:1442] Unable to register cuBLAS factory: Attempting to register factory for plugin cuBLAS when one has already been registered\n",
      "2024-07-15 15:46:32.824970: I tensorflow/core/platform/cpu_feature_guard.cc:210] This TensorFlow binary is optimized to use available CPU instructions in performance-critical operations.\n",
      "To enable the following instructions: AVX2 AVX512F AVX512_VNNI FMA, in other operations, rebuild TensorFlow with the appropriate compiler flags.\n",
      "2024-07-15 15:46:35.968387: W tensorflow/compiler/tf2tensorrt/utils/py_utils.cc:38] TF-TRT Warning: Could not find TensorRT\n"
     ]
    }
   ],
   "source": [
    "# pip install imbalanced-learn\n",
    "\n",
    "from tensorflow.keras.preprocessing.image import ImageDataGenerator\n",
    "import numpy as np\n",
    "from sklearn.ensemble import RandomForestClassifier\n",
    "from sklearn.preprocessing import StandardScaler"
   ]
  },
  {
   "cell_type": "code",
   "execution_count": 2,
   "id": "d5526130-52c1-4d4c-8d00-e082da14d98d",
   "metadata": {},
   "outputs": [
    {
     "name": "stdout",
     "output_type": "stream",
     "text": [
      "Training data: X_train shape = (694, 256, 256, 11), y_train shape = (694, 256, 256, 1)\n",
      "Validation data: X_val shape = (328, 256, 256, 11), y_val shape = (328, 256, 256, 1)\n",
      "Testing data: X_test shape = (359, 256, 256, 11), y_test shape = (359, 256, 256, 1)\n"
     ]
    }
   ],
   "source": [
    "import os\n",
    "import numpy as np\n",
    "import rasterio\n",
    "from sklearn.impute import SimpleImputer\n",
    "from imblearn.over_sampling import SMOTE\n",
    "from tensorflow.keras.utils import to_categorical\n",
    "from tensorflow.keras.preprocessing.image import ImageDataGenerator\n",
    "\n",
    "def load_dataset(data_dir, img_size=(256, 256)):\n",
    "    \"\"\"\n",
    "    Load dataset from specified directory.\n",
    "\n",
    "    Parameters:\n",
    "    - data_dir (str): Directory containing train, val, and test subdirectories.\n",
    "    - img_size (tuple): Desired size of the image (height, width).\n",
    "\n",
    "    Returns:\n",
    "    - train_data (tuple): Tuple containing (X_train, y_train).\n",
    "    - val_data (tuple): Tuple containing (X_val, y_val).\n",
    "    - test_data (tuple): Tuple containing (X_test, y_test).\n",
    "    \"\"\"\n",
    "    train_dir = os.path.join(data_dir, 'train')\n",
    "    val_dir = os.path.join(data_dir, 'val')\n",
    "    test_dir = os.path.join(data_dir, 'test')\n",
    "\n",
    "    # Load training data\n",
    "    X_train, y_train = load_data_from_dir(os.path.join(train_dir, 'input'), os.path.join(train_dir, 'output'), img_size)\n",
    "    # Load validation data\n",
    "    X_val, y_val = load_data_from_dir(os.path.join(val_dir, 'input'), os.path.join(val_dir, 'output'), img_size)\n",
    "    # Load test data\n",
    "    X_test, y_test = load_data_from_dir(os.path.join(test_dir, 'input'), os.path.join(test_dir, 'output'), img_size)\n",
    "\n",
    "    # Preprocess to handle NaN values\n",
    "    X_train = preprocess_data(X_train)\n",
    "    X_val = preprocess_data(X_val)\n",
    "    X_test = preprocess_data(X_test)\n",
    "\n",
    "    return (X_train, y_train), (X_val, y_val), (X_test, y_test)\n",
    "\n",
    "def preprocess_data(images):\n",
    "    \"\"\"\n",
    "    Preprocesses input images to handle NaN values.\n",
    "\n",
    "    Parameters:\n",
    "    - images (numpy.ndarray): Array of input images.\n",
    "\n",
    "    Returns:\n",
    "    - images (numpy.ndarray): Processed array of input images.\n",
    "    \"\"\"\n",
    "    # Replace NaN values with 0\n",
    "    images[np.isnan(images)] = 0\n",
    "\n",
    "    return images\n",
    "\n",
    "def load_data_from_dir(input_dir, output_dir, img_size):\n",
    "    \"\"\"\n",
    "    Load data (images and labels) from input and output directories.\n",
    "\n",
    "    Parameters:\n",
    "    - input_dir (str): Directory containing input images.\n",
    "    - output_dir (str): Directory containing output images.\n",
    "    - img_size (tuple): Desired size of the image (height, width).\n",
    "\n",
    "    Returns:\n",
    "    - images (numpy.ndarray): Array of loaded input images.\n",
    "    - labels (numpy.ndarray): Array of corresponding output images.\n",
    "    \"\"\"\n",
    "    images = []\n",
    "    labels = []\n",
    "\n",
    "    for filename in os.listdir(input_dir):\n",
    "        if filename.endswith('.tif'):\n",
    "            # Load input image (X)\n",
    "            input_path = os.path.join(input_dir, filename)\n",
    "            img = load_tiff_image(input_path, img_size)\n",
    "            images.append(img)\n",
    "\n",
    "            # Load corresponding output image (y)\n",
    "            output_filename = filename.replace('.tif', '_cl.tif')\n",
    "            output_path = os.path.join(output_dir, output_filename)\n",
    "            label = load_tiff_image(output_path, img_size, is_label=True)\n",
    "            label[np.isnan(label)] = 0 \n",
    "            labels.append(label)\n",
    "\n",
    "    if images and labels:\n",
    "        images = np.array(images)\n",
    "        labels = np.array(labels)\n",
    "\n",
    "    return images, labels\n",
    "\n",
    "def load_tiff_image(path, img_size, is_label=False):\n",
    "    \"\"\"\n",
    "    Load a TIFF image from specified path.\n",
    "\n",
    "    Parameters:\n",
    "    - path (str): Path to the TIFF image.\n",
    "    - img_size (tuple): Desired size of the image (height, width).\n",
    "    - is_label (bool): Whether the image is a label image.\n",
    "\n",
    "    Returns:\n",
    "    - img (numpy.ndarray): Loaded image as a numpy array.\n",
    "    \"\"\"\n",
    "    with rasterio.open(path) as src:\n",
    "        img = src.read()\n",
    "\n",
    "    # Reshape and resize if necessary\n",
    "    img = img.transpose(1, 2, 0)  # Change from bands x height x width to height x width x bands\n",
    "    img = img[:img_size[0], :img_size[1], :]  # Resize to desired size\n",
    "\n",
    "    if is_label:\n",
    "        # Convert label image to binary classification (1 for Marine Debris, 0 for others)\n",
    "        img = (img == 1).astype(np.uint8)  # Assuming Marine Debris class is encoded as 1\n",
    "\n",
    "    return img\n",
    "\n",
    "# Example usage:\n",
    "data_dir = 'MARIDA'\n",
    "(X_train, y_train), (X_val, y_val), (X_test, y_test) = load_dataset(data_dir)\n",
    "\n",
    "print(f\"Training data: X_train shape = {X_train.shape}, y_train shape = {y_train.shape}\")\n",
    "print(f\"Validation data: X_val shape = {X_val.shape}, y_val shape = {y_val.shape}\")\n",
    "print(f\"Testing data: X_test shape = {X_test.shape}, y_test shape = {y_test.shape}\")\n"
   ]
  },
  {
   "cell_type": "code",
   "execution_count": 3,
   "id": "4a79e500-5738-419b-bea0-ed2fc7eeb6a4",
   "metadata": {},
   "outputs": [
    {
     "name": "stdout",
     "output_type": "stream",
     "text": [
      "(694, 256, 256, 1)\n"
     ]
    }
   ],
   "source": [
    "print(y_train.shape)"
   ]
  },
  {
   "cell_type": "code",
   "execution_count": 4,
   "id": "5691238f-52bd-4a69-8be7-a3e24f18e84d",
   "metadata": {},
   "outputs": [
    {
     "name": "stdout",
     "output_type": "stream",
     "text": [
      "(694, 256, 256, 11)\n"
     ]
    }
   ],
   "source": [
    "print(X_train.shape)"
   ]
  },
  {
   "cell_type": "code",
   "execution_count": 5,
   "id": "7afa58f3-b6c6-45fd-8738-376490f28ab0",
   "metadata": {},
   "outputs": [
    {
     "name": "stdout",
     "output_type": "stream",
     "text": [
      "(45481984, 1)\n"
     ]
    }
   ],
   "source": [
    "from imblearn.over_sampling import SMOTE\n",
    "X = np.reshape(X_train, (256*256*694, 11))\n",
    "Y = np.reshape(y_train, (256*256*694, 1))\n",
    "print(Y.shape)"
   ]
  },
  {
   "cell_type": "code",
   "execution_count": 6,
   "id": "57efd5ea-7aed-42ba-8684-d3b58b92fb7e",
   "metadata": {},
   "outputs": [
    {
     "name": "stdout",
     "output_type": "stream",
     "text": [
      "(90960082, 11)\n",
      "(90960082,)\n"
     ]
    }
   ],
   "source": [
    "sm = SMOTE(random_state=42)\n",
    "X_res, y_res = sm.fit_resample(X, Y)\n",
    "print(X_res.shape)\n",
    "print(y_res.shape)"
   ]
  },
  {
   "cell_type": "markdown",
   "id": "674c24fa-e28c-4fd7-b55a-63f1e3d2ea12",
   "metadata": {},
   "source": [
    "Band 1 - Coastal Aerosol: 443.9 nm\n",
    "Band 2 - Blue: 496.6 nm\n",
    "Band 3 - Green: 560.0 nm\n",
    "Band 4 - Red: 664.5 nm\n",
    "Band 5 - Vegetation Red Edge: 703.9 nm\n",
    "Band 6 - Vegetation Red Edge: 740.2 nm\n",
    "Band 7 - Vegetation Red Edge: 782.5 nm\n",
    "Band 8 - NIR (Near Infrared): 835.1 nm\n",
    "Band 8A - Narrow NIR: 864.8 nm\n",
    "Band 9 - Water Vapor: 945.0 nm\n",
    "Band 10 - SWIR - Cirrus: 1373.5 nm\n",
    "Band 11 - SWIR: 1613.7 nm\n",
    "Band 12 - SWIR: 2202.4 nm"
   ]
  },
  {
   "cell_type": "code",
   "execution_count": 7,
   "id": "974f443b-6ee1-48fa-a1f7-56f7cadf13e8",
   "metadata": {},
   "outputs": [],
   "source": [
    "import pandas as pd\n",
    "Coastal = pd.DataFrame(X_res).iloc[:, 0]  # costel \n",
    "Blue = pd.DataFrame(X_res).iloc[:, 1] # blue \n",
    "Green = pd.DataFrame(X_res).iloc[:, 2] # green \n",
    "RED = pd.DataFrame(X_res).iloc[:, 3] #\n",
    "RedEdge1 = pd.DataFrame(X_res).iloc[:, 4]\n",
    "RedEdge2 = pd.DataFrame(X_res).iloc[:, 5]\n",
    "RedEdge3 = pd.DataFrame(X_res).iloc[:, 6]\n",
    "NIR = pd.DataFrame(X_res).iloc[:, 7]\n",
    "Narrow_NIR = pd.DataFrame(X_res).iloc[:, 8]\n",
    "SWIR1 = pd.DataFrame(X_res).iloc[:, 9]\n",
    "SWIR2 = pd.DataFrame(X_res).iloc[:, 10]\n",
    "\n",
    "# print(first_column.tolist())\n"
   ]
  },
  {
   "cell_type": "code",
   "execution_count": 8,
   "id": "54dce678-fc70-492e-a4b7-89ba87ea1fd9",
   "metadata": {},
   "outputs": [
    {
     "data": {
      "text/plain": [
       "(90960082,)"
      ]
     },
     "execution_count": 8,
     "metadata": {},
     "output_type": "execute_result"
    }
   ],
   "source": [
    "Blue.shape"
   ]
  },
  {
   "cell_type": "markdown",
   "id": "ce1650af-dfdc-4ae1-ac2e-270e5d32dfec",
   "metadata": {},
   "source": [
    "# NDVI "
   ]
  },
  {
   "cell_type": "code",
   "execution_count": 9,
   "id": "afc57d41-ab2e-47f6-a85d-d30716671161",
   "metadata": {},
   "outputs": [
    {
     "name": "stdout",
     "output_type": "stream",
     "text": [
      "0\n",
      "0\n"
     ]
    }
   ],
   "source": [
    "NDVI = (NIR - RED) / (NIR + RED)\n",
    "print(np.isinf(NDVI).sum())\n",
    "print(np.isinf(NDVI).sum())"
   ]
  },
  {
   "cell_type": "markdown",
   "id": "9b981b8c-b020-4b12-9e76-bc4b4aeb7045",
   "metadata": {},
   "source": [
    "# Plastic Index"
   ]
  },
  {
   "cell_type": "code",
   "execution_count": 10,
   "id": "4957d420-c541-43e2-a0d3-fc26b2fbd0a7",
   "metadata": {},
   "outputs": [
    {
     "name": "stdout",
     "output_type": "stream",
     "text": [
      "23\n",
      "23\n"
     ]
    }
   ],
   "source": [
    "Plastic = NIR / (NIR - RED)\n",
    "print(np.isinf(Plastic).sum())\n",
    "print(np.isinf(-Plastic).sum())"
   ]
  },
  {
   "cell_type": "markdown",
   "id": "9dc5718a-7c3c-4d20-a913-d5202cc28241",
   "metadata": {},
   "source": [
    "# Floating Littere Index (FDI)"
   ]
  },
  {
   "cell_type": "code",
   "execution_count": 11,
   "id": "fce2d619-7017-4662-a01a-cb6bcafdafbb",
   "metadata": {},
   "outputs": [
    {
     "data": {
      "text/plain": [
       "0"
      ]
     },
     "execution_count": 11,
     "metadata": {},
     "output_type": "execute_result"
    }
   ],
   "source": [
    "FDI = NIR - (RedEdge2+ (SWIR1 - RedEdge2) * ((842 - 665)/(1610 - 665)) * 10  )\n",
    "np.isinf(FDI).sum()\n",
    "np.isinf(-FDI).sum()"
   ]
  },
  {
   "cell_type": "markdown",
   "id": "3f606562-6d03-4613-9985-47a0e8284a32",
   "metadata": {},
   "source": [
    "# Water Index"
   ]
  },
  {
   "cell_type": "code",
   "execution_count": 12,
   "id": "9d470fa0-5308-49f8-989d-121a06b537b1",
   "metadata": {},
   "outputs": [
    {
     "data": {
      "text/plain": [
       "0"
      ]
     },
     "execution_count": 12,
     "metadata": {},
     "output_type": "execute_result"
    }
   ],
   "source": [
    "WaterIndex = (Green-NIR)/ (Green+NIR)\n",
    "np.isinf(WaterIndex).sum()\n",
    "np.isinf(-WaterIndex).sum()"
   ]
  },
  {
   "cell_type": "code",
   "execution_count": 13,
   "id": "ae217ee0-7e77-480a-95dd-1cdce7a0d1d4",
   "metadata": {},
   "outputs": [],
   "source": [
    "y_res= pd.DataFrame(y_res)"
   ]
  },
  {
   "cell_type": "code",
   "execution_count": 14,
   "id": "2bc3b0e9-d544-4fa8-87ac-bc449d917cb0",
   "metadata": {},
   "outputs": [
    {
     "data": {
      "text/plain": [
       "(90960082, 8)"
      ]
     },
     "execution_count": 14,
     "metadata": {},
     "output_type": "execute_result"
    }
   ],
   "source": [
    "X_train = pd.concat([FDI,WaterIndex,Plastic,NDVI,SWIR1,NIR,RED,y_res],axis=1)\n",
    "X_train.shape"
   ]
  },
  {
   "cell_type": "code",
   "execution_count": 15,
   "id": "d5acd0f7-fa3f-42cf-8607-72520d7a6309",
   "metadata": {},
   "outputs": [
    {
     "data": {
      "text/plain": [
       "0     0\n",
       "1     0\n",
       "2    23\n",
       "3     0\n",
       "9     0\n",
       "7     0\n",
       "3     0\n",
       "0     0\n",
       "dtype: int64"
      ]
     },
     "execution_count": 15,
     "metadata": {},
     "output_type": "execute_result"
    }
   ],
   "source": [
    "np.isinf(X_train).sum()"
   ]
  },
  {
   "cell_type": "code",
   "execution_count": 16,
   "id": "6c8d4e83-1a28-4ca0-be3b-54a3d60ed2ad",
   "metadata": {},
   "outputs": [],
   "source": [
    "mask = (X_train == np.inf).any(axis=1) | (X_train == -np.inf).any(axis=1)\n",
    "data_filtered = X_train[~mask]"
   ]
  },
  {
   "cell_type": "code",
   "execution_count": 17,
   "id": "58239fc9-ea10-4f27-bfd2-135d91674b3d",
   "metadata": {},
   "outputs": [
    {
     "data": {
      "text/plain": [
       "(90960059, 8)"
      ]
     },
     "execution_count": 17,
     "metadata": {},
     "output_type": "execute_result"
    }
   ],
   "source": [
    "data_filtered.shape"
   ]
  },
  {
   "cell_type": "code",
   "execution_count": 18,
   "id": "6186cadc-a8e9-40ad-a3af-e588c17d61ad",
   "metadata": {},
   "outputs": [
    {
     "data": {
      "text/html": [
       "<div>\n",
       "<style scoped>\n",
       "    .dataframe tbody tr th:only-of-type {\n",
       "        vertical-align: middle;\n",
       "    }\n",
       "\n",
       "    .dataframe tbody tr th {\n",
       "        vertical-align: top;\n",
       "    }\n",
       "\n",
       "    .dataframe thead th {\n",
       "        text-align: right;\n",
       "    }\n",
       "</style>\n",
       "<table border=\"1\" class=\"dataframe\">\n",
       "  <thead>\n",
       "    <tr style=\"text-align: right;\">\n",
       "      <th></th>\n",
       "      <th>0</th>\n",
       "      <th>1</th>\n",
       "      <th>2</th>\n",
       "      <th>3</th>\n",
       "      <th>9</th>\n",
       "      <th>7</th>\n",
       "      <th>3</th>\n",
       "      <th>0</th>\n",
       "    </tr>\n",
       "  </thead>\n",
       "  <tbody>\n",
       "    <tr>\n",
       "      <th>0</th>\n",
       "      <td>0.022989</td>\n",
       "      <td>0.068216</td>\n",
       "      <td>-14.589310</td>\n",
       "      <td>-0.033136</td>\n",
       "      <td>0.046157</td>\n",
       "      <td>0.057946</td>\n",
       "      <td>0.061918</td>\n",
       "      <td>0</td>\n",
       "    </tr>\n",
       "    <tr>\n",
       "      <th>1</th>\n",
       "      <td>0.021560</td>\n",
       "      <td>0.075667</td>\n",
       "      <td>-12.986708</td>\n",
       "      <td>-0.037074</td>\n",
       "      <td>0.046157</td>\n",
       "      <td>0.056517</td>\n",
       "      <td>0.060869</td>\n",
       "      <td>0</td>\n",
       "    </tr>\n",
       "    <tr>\n",
       "      <th>2</th>\n",
       "      <td>0.022126</td>\n",
       "      <td>0.063699</td>\n",
       "      <td>-13.046866</td>\n",
       "      <td>-0.036909</td>\n",
       "      <td>0.046458</td>\n",
       "      <td>0.056925</td>\n",
       "      <td>0.061288</td>\n",
       "      <td>0</td>\n",
       "    </tr>\n",
       "    <tr>\n",
       "      <th>3</th>\n",
       "      <td>0.021820</td>\n",
       "      <td>0.073105</td>\n",
       "      <td>-17.124535</td>\n",
       "      <td>-0.028370</td>\n",
       "      <td>0.046458</td>\n",
       "      <td>0.056619</td>\n",
       "      <td>0.059926</td>\n",
       "      <td>0</td>\n",
       "    </tr>\n",
       "    <tr>\n",
       "      <th>4</th>\n",
       "      <td>0.019559</td>\n",
       "      <td>0.081620</td>\n",
       "      <td>-10.930187</td>\n",
       "      <td>-0.043744</td>\n",
       "      <td>0.046758</td>\n",
       "      <td>0.055191</td>\n",
       "      <td>0.060240</td>\n",
       "      <td>0</td>\n",
       "    </tr>\n",
       "    <tr>\n",
       "      <th>...</th>\n",
       "      <td>...</td>\n",
       "      <td>...</td>\n",
       "      <td>...</td>\n",
       "      <td>...</td>\n",
       "      <td>...</td>\n",
       "      <td>...</td>\n",
       "      <td>...</td>\n",
       "      <td>...</td>\n",
       "    </tr>\n",
       "    <tr>\n",
       "      <th>90960077</th>\n",
       "      <td>0.158873</td>\n",
       "      <td>-0.106069</td>\n",
       "      <td>8.628856</td>\n",
       "      <td>0.061509</td>\n",
       "      <td>0.054773</td>\n",
       "      <td>0.140608</td>\n",
       "      <td>0.124313</td>\n",
       "      <td>1</td>\n",
       "    </tr>\n",
       "    <tr>\n",
       "      <th>90960078</th>\n",
       "      <td>0.095715</td>\n",
       "      <td>-0.106782</td>\n",
       "      <td>7.534398</td>\n",
       "      <td>0.071079</td>\n",
       "      <td>0.040862</td>\n",
       "      <td>0.103614</td>\n",
       "      <td>0.089862</td>\n",
       "      <td>1</td>\n",
       "    </tr>\n",
       "    <tr>\n",
       "      <th>90960079</th>\n",
       "      <td>0.039913</td>\n",
       "      <td>0.060976</td>\n",
       "      <td>-7.425355</td>\n",
       "      <td>-0.063089</td>\n",
       "      <td>0.029870</td>\n",
       "      <td>0.045770</td>\n",
       "      <td>0.051934</td>\n",
       "      <td>1</td>\n",
       "    </tr>\n",
       "    <tr>\n",
       "      <th>90960080</th>\n",
       "      <td>0.049998</td>\n",
       "      <td>0.063030</td>\n",
       "      <td>-80.625679</td>\n",
       "      <td>-0.006163</td>\n",
       "      <td>0.024352</td>\n",
       "      <td>0.053888</td>\n",
       "      <td>0.054556</td>\n",
       "      <td>1</td>\n",
       "    </tr>\n",
       "    <tr>\n",
       "      <th>90960081</th>\n",
       "      <td>0.069666</td>\n",
       "      <td>-0.046491</td>\n",
       "      <td>-84.704735</td>\n",
       "      <td>-0.005868</td>\n",
       "      <td>0.035443</td>\n",
       "      <td>0.084923</td>\n",
       "      <td>0.085925</td>\n",
       "      <td>1</td>\n",
       "    </tr>\n",
       "  </tbody>\n",
       "</table>\n",
       "<p>90960059 rows × 8 columns</p>\n",
       "</div>"
      ],
      "text/plain": [
       "                 0         1          2         3         9         7  \\\n",
       "0         0.022989  0.068216 -14.589310 -0.033136  0.046157  0.057946   \n",
       "1         0.021560  0.075667 -12.986708 -0.037074  0.046157  0.056517   \n",
       "2         0.022126  0.063699 -13.046866 -0.036909  0.046458  0.056925   \n",
       "3         0.021820  0.073105 -17.124535 -0.028370  0.046458  0.056619   \n",
       "4         0.019559  0.081620 -10.930187 -0.043744  0.046758  0.055191   \n",
       "...            ...       ...        ...       ...       ...       ...   \n",
       "90960077  0.158873 -0.106069   8.628856  0.061509  0.054773  0.140608   \n",
       "90960078  0.095715 -0.106782   7.534398  0.071079  0.040862  0.103614   \n",
       "90960079  0.039913  0.060976  -7.425355 -0.063089  0.029870  0.045770   \n",
       "90960080  0.049998  0.063030 -80.625679 -0.006163  0.024352  0.053888   \n",
       "90960081  0.069666 -0.046491 -84.704735 -0.005868  0.035443  0.084923   \n",
       "\n",
       "                 3  0  \n",
       "0         0.061918  0  \n",
       "1         0.060869  0  \n",
       "2         0.061288  0  \n",
       "3         0.059926  0  \n",
       "4         0.060240  0  \n",
       "...            ... ..  \n",
       "90960077  0.124313  1  \n",
       "90960078  0.089862  1  \n",
       "90960079  0.051934  1  \n",
       "90960080  0.054556  1  \n",
       "90960081  0.085925  1  \n",
       "\n",
       "[90960059 rows x 8 columns]"
      ]
     },
     "execution_count": 18,
     "metadata": {},
     "output_type": "execute_result"
    }
   ],
   "source": [
    "data_filtered"
   ]
  },
  {
   "cell_type": "code",
   "execution_count": 19,
   "id": "d8267ab5-1391-4fe0-bd10-754f48da3eab",
   "metadata": {},
   "outputs": [
    {
     "data": {
      "text/plain": [
       "0    0\n",
       "1    0\n",
       "2    0\n",
       "3    0\n",
       "9    0\n",
       "7    0\n",
       "3    0\n",
       "0    0\n",
       "dtype: int64"
      ]
     },
     "execution_count": 19,
     "metadata": {},
     "output_type": "execute_result"
    }
   ],
   "source": [
    "np.isinf(data_filtered).sum()"
   ]
  },
  {
   "cell_type": "code",
   "execution_count": 20,
   "id": "76328da0-d48a-4fba-9103-696538c77354",
   "metadata": {},
   "outputs": [
    {
     "name": "stdout",
     "output_type": "stream",
     "text": [
      "(90960058, 7) (90960058,)\n"
     ]
    }
   ],
   "source": [
    "X = data_filtered.iloc[:-1, :-1]  # Features (all columns except the last one)\n",
    "Y = data_filtered.iloc[:-1,-1]    # Target variable (last row, last column)\n",
    "print(X.shape, Y.shape)"
   ]
  },
  {
   "cell_type": "code",
   "execution_count": 21,
   "id": "177e0e0f-88b5-4508-ab14-9f58712f7b91",
   "metadata": {},
   "outputs": [
    {
     "data": {
      "text/plain": [
       "array([0, 1], dtype=uint8)"
      ]
     },
     "execution_count": 21,
     "metadata": {},
     "output_type": "execute_result"
    }
   ],
   "source": [
    "Y.unique()"
   ]
  },
  {
   "cell_type": "markdown",
   "id": "4f06b677-83fc-4b56-ab8e-50f3224951f8",
   "metadata": {},
   "source": [
    "# TEST"
   ]
  },
  {
   "cell_type": "code",
   "execution_count": 22,
   "id": "3d08c134-7735-42bc-b536-d3d00a932fd9",
   "metadata": {},
   "outputs": [
    {
     "data": {
      "text/plain": [
       "(23527424, 1)"
      ]
     },
     "execution_count": 22,
     "metadata": {},
     "output_type": "execute_result"
    }
   ],
   "source": [
    "test_y = np.reshape(y_test,(359*256*256,1))\n",
    "test_x = np.reshape(X_test,(359*256*256,11))\n",
    "test_y.shape"
   ]
  },
  {
   "cell_type": "code",
   "execution_count": 23,
   "id": "a4583706-fc78-4315-974b-dca66b94f711",
   "metadata": {},
   "outputs": [
    {
     "data": {
      "text/plain": [
       "(23527424, 1)"
      ]
     },
     "execution_count": 23,
     "metadata": {},
     "output_type": "execute_result"
    }
   ],
   "source": [
    "test_y = np.reshape(y_test,(359*256*256,1))\n",
    "test_x = np.reshape(X_test,(359*256*256,11))\n",
    "test_y.shape"
   ]
  },
  {
   "cell_type": "code",
   "execution_count": 24,
   "id": "16a165f4-1cf3-407b-9fd2-eada3457206b",
   "metadata": {},
   "outputs": [],
   "source": [
    "Coastal = pd.DataFrame(test_x).iloc[:, 0]  # costel \n",
    "Blue = pd.DataFrame(test_x).iloc[:, 1] # blue \n",
    "Green = pd.DataFrame(test_x).iloc[:, 2] # green \n",
    "RED = pd.DataFrame(test_x).iloc[:, 3] #\n",
    "RedEdge1 = pd.DataFrame(test_x).iloc[:, 4]\n",
    "RedEdge2 = pd.DataFrame(test_x).iloc[:, 5]\n",
    "RedEdge3 = pd.DataFrame(test_x).iloc[:, 6]\n",
    "NIR = pd.DataFrame(test_x).iloc[:, 7]\n",
    "Narrow_NIR = pd.DataFrame(test_x).iloc[:, 8]\n",
    "SWIR1 = pd.DataFrame(test_x).iloc[:, 9]\n",
    "SWIR2 = pd.DataFrame(test_x).iloc[:, 10]\n",
    "\n",
    "# print(first_column.tolist())\n"
   ]
  },
  {
   "cell_type": "code",
   "execution_count": 25,
   "id": "e9195e6f-7812-4fc9-adb9-0055fd2e2ae5",
   "metadata": {},
   "outputs": [
    {
     "name": "stdout",
     "output_type": "stream",
     "text": [
      "0\n",
      "0\n"
     ]
    }
   ],
   "source": [
    "NDVI = (NIR - RED) / (NIR + RED)\n",
    "print(np.isinf(NDVI).sum())\n",
    "print(np.isinf(NDVI).sum())"
   ]
  },
  {
   "cell_type": "code",
   "execution_count": 26,
   "id": "0c58acb1-cc6a-4637-85d5-2640e977c249",
   "metadata": {},
   "outputs": [
    {
     "name": "stdout",
     "output_type": "stream",
     "text": [
      "0\n",
      "0\n"
     ]
    }
   ],
   "source": [
    "Plastic = NIR / (NIR - RED)\n",
    "print(np.isinf(Plastic).sum())\n",
    "print(np.isinf(-Plastic).sum())"
   ]
  },
  {
   "cell_type": "code",
   "execution_count": 27,
   "id": "bcc3fb55-582a-4573-a582-7e3d9bd0e9e6",
   "metadata": {},
   "outputs": [
    {
     "data": {
      "text/plain": [
       "0"
      ]
     },
     "execution_count": 27,
     "metadata": {},
     "output_type": "execute_result"
    }
   ],
   "source": [
    "FDI = NIR - (RedEdge2+ (SWIR1 - RedEdge2) * ((842 - 665)/(1610 - 665)) * 10  )\n",
    "np.isinf(FDI).sum()\n",
    "np.isinf(-FDI).sum()"
   ]
  },
  {
   "cell_type": "code",
   "execution_count": 28,
   "id": "990c12a1-99d7-4b72-bcc8-addd56e31cd6",
   "metadata": {},
   "outputs": [
    {
     "data": {
      "text/plain": [
       "0"
      ]
     },
     "execution_count": 28,
     "metadata": {},
     "output_type": "execute_result"
    }
   ],
   "source": [
    "WaterIndex = (Green-NIR)/ (Green+NIR)\n",
    "np.isinf(WaterIndex).sum()\n",
    "np.isinf(-WaterIndex).sum()"
   ]
  },
  {
   "cell_type": "code",
   "execution_count": 29,
   "id": "3b533093-a54c-4a58-ba7b-e7583cab5b4e",
   "metadata": {},
   "outputs": [
    {
     "data": {
      "text/plain": [
       "(23527424, 7)"
      ]
     },
     "execution_count": 29,
     "metadata": {},
     "output_type": "execute_result"
    }
   ],
   "source": [
    "X_test = pd.concat([FDI,WaterIndex,Plastic,NDVI,SWIR1,NIR,RED],axis=1)\n",
    "X_test.shape"
   ]
  },
  {
   "cell_type": "code",
   "execution_count": 30,
   "id": "90b03fea-ceaa-419d-bd0d-f75c418081f1",
   "metadata": {},
   "outputs": [
    {
     "data": {
      "text/plain": [
       "0    0\n",
       "1    0\n",
       "2    0\n",
       "3    0\n",
       "9    0\n",
       "7    0\n",
       "3    0\n",
       "dtype: int64"
      ]
     },
     "execution_count": 30,
     "metadata": {},
     "output_type": "execute_result"
    }
   ],
   "source": [
    "np.isinf(X_test).sum()"
   ]
  },
  {
   "cell_type": "code",
   "execution_count": 31,
   "id": "5ee7a24a-6ec8-4c35-b371-bf432b240d9c",
   "metadata": {},
   "outputs": [
    {
     "data": {
      "text/html": [
       "<div>\n",
       "<style scoped>\n",
       "    .dataframe tbody tr th:only-of-type {\n",
       "        vertical-align: middle;\n",
       "    }\n",
       "\n",
       "    .dataframe tbody tr th {\n",
       "        vertical-align: top;\n",
       "    }\n",
       "\n",
       "    .dataframe thead th {\n",
       "        text-align: right;\n",
       "    }\n",
       "</style>\n",
       "<table border=\"1\" class=\"dataframe\">\n",
       "  <thead>\n",
       "    <tr style=\"text-align: right;\">\n",
       "      <th></th>\n",
       "      <th>0</th>\n",
       "      <th>1</th>\n",
       "      <th>2</th>\n",
       "      <th>3</th>\n",
       "      <th>9</th>\n",
       "      <th>7</th>\n",
       "      <th>3</th>\n",
       "    </tr>\n",
       "  </thead>\n",
       "  <tbody>\n",
       "    <tr>\n",
       "      <th>0</th>\n",
       "      <td>0.008804</td>\n",
       "      <td>0.389591</td>\n",
       "      <td>-1.891992</td>\n",
       "      <td>-0.209031</td>\n",
       "      <td>0.007796</td>\n",
       "      <td>0.011799</td>\n",
       "      <td>0.018035</td>\n",
       "    </tr>\n",
       "    <tr>\n",
       "      <th>1</th>\n",
       "      <td>0.008497</td>\n",
       "      <td>0.422405</td>\n",
       "      <td>-1.979375</td>\n",
       "      <td>-0.201664</td>\n",
       "      <td>0.007796</td>\n",
       "      <td>0.011492</td>\n",
       "      <td>0.017298</td>\n",
       "    </tr>\n",
       "    <tr>\n",
       "      <th>2</th>\n",
       "      <td>0.010325</td>\n",
       "      <td>0.385112</td>\n",
       "      <td>-2.144156</td>\n",
       "      <td>-0.189096</td>\n",
       "      <td>0.007896</td>\n",
       "      <td>0.012515</td>\n",
       "      <td>0.018351</td>\n",
       "    </tr>\n",
       "    <tr>\n",
       "      <th>3</th>\n",
       "      <td>0.009610</td>\n",
       "      <td>0.425812</td>\n",
       "      <td>-1.800797</td>\n",
       "      <td>-0.217316</td>\n",
       "      <td>0.007896</td>\n",
       "      <td>0.011799</td>\n",
       "      <td>0.018351</td>\n",
       "    </tr>\n",
       "    <tr>\n",
       "      <th>4</th>\n",
       "      <td>0.010208</td>\n",
       "      <td>0.410518</td>\n",
       "      <td>-2.078451</td>\n",
       "      <td>-0.193915</td>\n",
       "      <td>0.007596</td>\n",
       "      <td>0.012106</td>\n",
       "      <td>0.017930</td>\n",
       "    </tr>\n",
       "    <tr>\n",
       "      <th>...</th>\n",
       "      <td>...</td>\n",
       "      <td>...</td>\n",
       "      <td>...</td>\n",
       "      <td>...</td>\n",
       "      <td>...</td>\n",
       "      <td>...</td>\n",
       "      <td>...</td>\n",
       "    </tr>\n",
       "    <tr>\n",
       "      <th>23527419</th>\n",
       "      <td>0.026898</td>\n",
       "      <td>0.646449</td>\n",
       "      <td>-0.400212</td>\n",
       "      <td>-0.555425</td>\n",
       "      <td>0.001669</td>\n",
       "      <td>0.015145</td>\n",
       "      <td>0.052989</td>\n",
       "    </tr>\n",
       "    <tr>\n",
       "      <th>23527420</th>\n",
       "      <td>0.026775</td>\n",
       "      <td>0.672550</td>\n",
       "      <td>-0.365080</td>\n",
       "      <td>-0.577981</td>\n",
       "      <td>0.001368</td>\n",
       "      <td>0.013917</td>\n",
       "      <td>0.052039</td>\n",
       "    </tr>\n",
       "    <tr>\n",
       "      <th>23527421</th>\n",
       "      <td>0.026263</td>\n",
       "      <td>0.680150</td>\n",
       "      <td>-0.345114</td>\n",
       "      <td>-0.591636</td>\n",
       "      <td>0.001368</td>\n",
       "      <td>0.013406</td>\n",
       "      <td>0.052250</td>\n",
       "    </tr>\n",
       "    <tr>\n",
       "      <th>23527422</th>\n",
       "      <td>0.026463</td>\n",
       "      <td>0.651327</td>\n",
       "      <td>-0.396822</td>\n",
       "      <td>-0.557524</td>\n",
       "      <td>0.001869</td>\n",
       "      <td>0.014634</td>\n",
       "      <td>0.051511</td>\n",
       "    </tr>\n",
       "    <tr>\n",
       "      <th>23527423</th>\n",
       "      <td>0.025133</td>\n",
       "      <td>0.678354</td>\n",
       "      <td>-0.365345</td>\n",
       "      <td>-0.577804</td>\n",
       "      <td>0.001869</td>\n",
       "      <td>0.013303</td>\n",
       "      <td>0.049717</td>\n",
       "    </tr>\n",
       "  </tbody>\n",
       "</table>\n",
       "<p>23527424 rows × 7 columns</p>\n",
       "</div>"
      ],
      "text/plain": [
       "                 0         1         2         3         9         7         3\n",
       "0         0.008804  0.389591 -1.891992 -0.209031  0.007796  0.011799  0.018035\n",
       "1         0.008497  0.422405 -1.979375 -0.201664  0.007796  0.011492  0.017298\n",
       "2         0.010325  0.385112 -2.144156 -0.189096  0.007896  0.012515  0.018351\n",
       "3         0.009610  0.425812 -1.800797 -0.217316  0.007896  0.011799  0.018351\n",
       "4         0.010208  0.410518 -2.078451 -0.193915  0.007596  0.012106  0.017930\n",
       "...            ...       ...       ...       ...       ...       ...       ...\n",
       "23527419  0.026898  0.646449 -0.400212 -0.555425  0.001669  0.015145  0.052989\n",
       "23527420  0.026775  0.672550 -0.365080 -0.577981  0.001368  0.013917  0.052039\n",
       "23527421  0.026263  0.680150 -0.345114 -0.591636  0.001368  0.013406  0.052250\n",
       "23527422  0.026463  0.651327 -0.396822 -0.557524  0.001869  0.014634  0.051511\n",
       "23527423  0.025133  0.678354 -0.365345 -0.577804  0.001869  0.013303  0.049717\n",
       "\n",
       "[23527424 rows x 7 columns]"
      ]
     },
     "execution_count": 31,
     "metadata": {},
     "output_type": "execute_result"
    }
   ],
   "source": [
    "X_test"
   ]
  },
  {
   "cell_type": "markdown",
   "id": "ab0d7f34-b8b1-493b-bea3-f797df9b2458",
   "metadata": {},
   "source": [
    "# SVM"
   ]
  },
  {
   "cell_type": "code",
   "execution_count": null,
   "id": "02cabac2-8200-4c12-b9df-01c68f661714",
   "metadata": {},
   "outputs": [],
   "source": [
    "from sklearn.svm import SVC\n",
    "from sklearn.datasets import make_classification\n",
    "from sklearn.model_selection import train_test_split\n",
    "from sklearn.metrics import accuracy_score\n",
    "\n",
    "# Example data generation (replace with your own data)\n",
    "X, y = make_classification(n_samples=90960058, n_features=7, random_state=42)\n",
    "# X_train, X_test, y_train, y_test = train_test_split(X, y, test_size=0.2, random_state=42)\n",
    "\n",
    "# Train SVM model with parallel processing\n",
    "svm_model = SVC(kernel='linear', C=1.0, random_state=42)\n",
    "svm_model.fit(X, Y)\n"
   ]
  },
  {
   "cell_type": "code",
   "execution_count": null,
   "id": "e422351d-e0d6-4cc8-90d8-b2674fb21a25",
   "metadata": {},
   "outputs": [],
   "source": [
    "\n",
    "# Predict on test set\n",
    "y_pred = svm_model.predict(X_test)\n",
    "\n",
    "# Evaluate the model\n",
    "accuracy = accuracy_score(test_y, y_pred)\n",
    "print(f'Accuracy: {accuracy:.2f}')\n"
   ]
  },
  {
   "cell_type": "code",
   "execution_count": null,
   "id": "7d70cef0-f35e-4995-a3d7-df3039b663f6",
   "metadata": {},
   "outputs": [],
   "source": [
    "import joblib\n",
    "\n",
    "# Save the model to disk\n",
    "filename = 'svm_model.sav'\n",
    "joblib.dump(svm_model, filename)\n",
    "\n",
    "print(f\"Saved SVM model to {filename}\")"
   ]
  },
  {
   "cell_type": "markdown",
   "id": "28be81dc-2501-4bad-b99d-f63e7919c43b",
   "metadata": {},
   "source": [
    "# Random Forest"
   ]
  },
  {
   "cell_type": "code",
   "execution_count": 32,
   "id": "e6b201bf-edd7-402b-a1cb-8a9d52ad5726",
   "metadata": {},
   "outputs": [
    {
     "data": {
      "text/html": [
       "<style>#sk-container-id-1 {\n",
       "  /* Definition of color scheme common for light and dark mode */\n",
       "  --sklearn-color-text: black;\n",
       "  --sklearn-color-line: gray;\n",
       "  /* Definition of color scheme for unfitted estimators */\n",
       "  --sklearn-color-unfitted-level-0: #fff5e6;\n",
       "  --sklearn-color-unfitted-level-1: #f6e4d2;\n",
       "  --sklearn-color-unfitted-level-2: #ffe0b3;\n",
       "  --sklearn-color-unfitted-level-3: chocolate;\n",
       "  /* Definition of color scheme for fitted estimators */\n",
       "  --sklearn-color-fitted-level-0: #f0f8ff;\n",
       "  --sklearn-color-fitted-level-1: #d4ebff;\n",
       "  --sklearn-color-fitted-level-2: #b3dbfd;\n",
       "  --sklearn-color-fitted-level-3: cornflowerblue;\n",
       "\n",
       "  /* Specific color for light theme */\n",
       "  --sklearn-color-text-on-default-background: var(--sg-text-color, var(--theme-code-foreground, var(--jp-content-font-color1, black)));\n",
       "  --sklearn-color-background: var(--sg-background-color, var(--theme-background, var(--jp-layout-color0, white)));\n",
       "  --sklearn-color-border-box: var(--sg-text-color, var(--theme-code-foreground, var(--jp-content-font-color1, black)));\n",
       "  --sklearn-color-icon: #696969;\n",
       "\n",
       "  @media (prefers-color-scheme: dark) {\n",
       "    /* Redefinition of color scheme for dark theme */\n",
       "    --sklearn-color-text-on-default-background: var(--sg-text-color, var(--theme-code-foreground, var(--jp-content-font-color1, white)));\n",
       "    --sklearn-color-background: var(--sg-background-color, var(--theme-background, var(--jp-layout-color0, #111)));\n",
       "    --sklearn-color-border-box: var(--sg-text-color, var(--theme-code-foreground, var(--jp-content-font-color1, white)));\n",
       "    --sklearn-color-icon: #878787;\n",
       "  }\n",
       "}\n",
       "\n",
       "#sk-container-id-1 {\n",
       "  color: var(--sklearn-color-text);\n",
       "}\n",
       "\n",
       "#sk-container-id-1 pre {\n",
       "  padding: 0;\n",
       "}\n",
       "\n",
       "#sk-container-id-1 input.sk-hidden--visually {\n",
       "  border: 0;\n",
       "  clip: rect(1px 1px 1px 1px);\n",
       "  clip: rect(1px, 1px, 1px, 1px);\n",
       "  height: 1px;\n",
       "  margin: -1px;\n",
       "  overflow: hidden;\n",
       "  padding: 0;\n",
       "  position: absolute;\n",
       "  width: 1px;\n",
       "}\n",
       "\n",
       "#sk-container-id-1 div.sk-dashed-wrapped {\n",
       "  border: 1px dashed var(--sklearn-color-line);\n",
       "  margin: 0 0.4em 0.5em 0.4em;\n",
       "  box-sizing: border-box;\n",
       "  padding-bottom: 0.4em;\n",
       "  background-color: var(--sklearn-color-background);\n",
       "}\n",
       "\n",
       "#sk-container-id-1 div.sk-container {\n",
       "  /* jupyter's `normalize.less` sets `[hidden] { display: none; }`\n",
       "     but bootstrap.min.css set `[hidden] { display: none !important; }`\n",
       "     so we also need the `!important` here to be able to override the\n",
       "     default hidden behavior on the sphinx rendered scikit-learn.org.\n",
       "     See: https://github.com/scikit-learn/scikit-learn/issues/21755 */\n",
       "  display: inline-block !important;\n",
       "  position: relative;\n",
       "}\n",
       "\n",
       "#sk-container-id-1 div.sk-text-repr-fallback {\n",
       "  display: none;\n",
       "}\n",
       "\n",
       "div.sk-parallel-item,\n",
       "div.sk-serial,\n",
       "div.sk-item {\n",
       "  /* draw centered vertical line to link estimators */\n",
       "  background-image: linear-gradient(var(--sklearn-color-text-on-default-background), var(--sklearn-color-text-on-default-background));\n",
       "  background-size: 2px 100%;\n",
       "  background-repeat: no-repeat;\n",
       "  background-position: center center;\n",
       "}\n",
       "\n",
       "/* Parallel-specific style estimator block */\n",
       "\n",
       "#sk-container-id-1 div.sk-parallel-item::after {\n",
       "  content: \"\";\n",
       "  width: 100%;\n",
       "  border-bottom: 2px solid var(--sklearn-color-text-on-default-background);\n",
       "  flex-grow: 1;\n",
       "}\n",
       "\n",
       "#sk-container-id-1 div.sk-parallel {\n",
       "  display: flex;\n",
       "  align-items: stretch;\n",
       "  justify-content: center;\n",
       "  background-color: var(--sklearn-color-background);\n",
       "  position: relative;\n",
       "}\n",
       "\n",
       "#sk-container-id-1 div.sk-parallel-item {\n",
       "  display: flex;\n",
       "  flex-direction: column;\n",
       "}\n",
       "\n",
       "#sk-container-id-1 div.sk-parallel-item:first-child::after {\n",
       "  align-self: flex-end;\n",
       "  width: 50%;\n",
       "}\n",
       "\n",
       "#sk-container-id-1 div.sk-parallel-item:last-child::after {\n",
       "  align-self: flex-start;\n",
       "  width: 50%;\n",
       "}\n",
       "\n",
       "#sk-container-id-1 div.sk-parallel-item:only-child::after {\n",
       "  width: 0;\n",
       "}\n",
       "\n",
       "/* Serial-specific style estimator block */\n",
       "\n",
       "#sk-container-id-1 div.sk-serial {\n",
       "  display: flex;\n",
       "  flex-direction: column;\n",
       "  align-items: center;\n",
       "  background-color: var(--sklearn-color-background);\n",
       "  padding-right: 1em;\n",
       "  padding-left: 1em;\n",
       "}\n",
       "\n",
       "\n",
       "/* Toggleable style: style used for estimator/Pipeline/ColumnTransformer box that is\n",
       "clickable and can be expanded/collapsed.\n",
       "- Pipeline and ColumnTransformer use this feature and define the default style\n",
       "- Estimators will overwrite some part of the style using the `sk-estimator` class\n",
       "*/\n",
       "\n",
       "/* Pipeline and ColumnTransformer style (default) */\n",
       "\n",
       "#sk-container-id-1 div.sk-toggleable {\n",
       "  /* Default theme specific background. It is overwritten whether we have a\n",
       "  specific estimator or a Pipeline/ColumnTransformer */\n",
       "  background-color: var(--sklearn-color-background);\n",
       "}\n",
       "\n",
       "/* Toggleable label */\n",
       "#sk-container-id-1 label.sk-toggleable__label {\n",
       "  cursor: pointer;\n",
       "  display: block;\n",
       "  width: 100%;\n",
       "  margin-bottom: 0;\n",
       "  padding: 0.5em;\n",
       "  box-sizing: border-box;\n",
       "  text-align: center;\n",
       "}\n",
       "\n",
       "#sk-container-id-1 label.sk-toggleable__label-arrow:before {\n",
       "  /* Arrow on the left of the label */\n",
       "  content: \"▸\";\n",
       "  float: left;\n",
       "  margin-right: 0.25em;\n",
       "  color: var(--sklearn-color-icon);\n",
       "}\n",
       "\n",
       "#sk-container-id-1 label.sk-toggleable__label-arrow:hover:before {\n",
       "  color: var(--sklearn-color-text);\n",
       "}\n",
       "\n",
       "/* Toggleable content - dropdown */\n",
       "\n",
       "#sk-container-id-1 div.sk-toggleable__content {\n",
       "  max-height: 0;\n",
       "  max-width: 0;\n",
       "  overflow: hidden;\n",
       "  text-align: left;\n",
       "  /* unfitted */\n",
       "  background-color: var(--sklearn-color-unfitted-level-0);\n",
       "}\n",
       "\n",
       "#sk-container-id-1 div.sk-toggleable__content.fitted {\n",
       "  /* fitted */\n",
       "  background-color: var(--sklearn-color-fitted-level-0);\n",
       "}\n",
       "\n",
       "#sk-container-id-1 div.sk-toggleable__content pre {\n",
       "  margin: 0.2em;\n",
       "  border-radius: 0.25em;\n",
       "  color: var(--sklearn-color-text);\n",
       "  /* unfitted */\n",
       "  background-color: var(--sklearn-color-unfitted-level-0);\n",
       "}\n",
       "\n",
       "#sk-container-id-1 div.sk-toggleable__content.fitted pre {\n",
       "  /* unfitted */\n",
       "  background-color: var(--sklearn-color-fitted-level-0);\n",
       "}\n",
       "\n",
       "#sk-container-id-1 input.sk-toggleable__control:checked~div.sk-toggleable__content {\n",
       "  /* Expand drop-down */\n",
       "  max-height: 200px;\n",
       "  max-width: 100%;\n",
       "  overflow: auto;\n",
       "}\n",
       "\n",
       "#sk-container-id-1 input.sk-toggleable__control:checked~label.sk-toggleable__label-arrow:before {\n",
       "  content: \"▾\";\n",
       "}\n",
       "\n",
       "/* Pipeline/ColumnTransformer-specific style */\n",
       "\n",
       "#sk-container-id-1 div.sk-label input.sk-toggleable__control:checked~label.sk-toggleable__label {\n",
       "  color: var(--sklearn-color-text);\n",
       "  background-color: var(--sklearn-color-unfitted-level-2);\n",
       "}\n",
       "\n",
       "#sk-container-id-1 div.sk-label.fitted input.sk-toggleable__control:checked~label.sk-toggleable__label {\n",
       "  background-color: var(--sklearn-color-fitted-level-2);\n",
       "}\n",
       "\n",
       "/* Estimator-specific style */\n",
       "\n",
       "/* Colorize estimator box */\n",
       "#sk-container-id-1 div.sk-estimator input.sk-toggleable__control:checked~label.sk-toggleable__label {\n",
       "  /* unfitted */\n",
       "  background-color: var(--sklearn-color-unfitted-level-2);\n",
       "}\n",
       "\n",
       "#sk-container-id-1 div.sk-estimator.fitted input.sk-toggleable__control:checked~label.sk-toggleable__label {\n",
       "  /* fitted */\n",
       "  background-color: var(--sklearn-color-fitted-level-2);\n",
       "}\n",
       "\n",
       "#sk-container-id-1 div.sk-label label.sk-toggleable__label,\n",
       "#sk-container-id-1 div.sk-label label {\n",
       "  /* The background is the default theme color */\n",
       "  color: var(--sklearn-color-text-on-default-background);\n",
       "}\n",
       "\n",
       "/* On hover, darken the color of the background */\n",
       "#sk-container-id-1 div.sk-label:hover label.sk-toggleable__label {\n",
       "  color: var(--sklearn-color-text);\n",
       "  background-color: var(--sklearn-color-unfitted-level-2);\n",
       "}\n",
       "\n",
       "/* Label box, darken color on hover, fitted */\n",
       "#sk-container-id-1 div.sk-label.fitted:hover label.sk-toggleable__label.fitted {\n",
       "  color: var(--sklearn-color-text);\n",
       "  background-color: var(--sklearn-color-fitted-level-2);\n",
       "}\n",
       "\n",
       "/* Estimator label */\n",
       "\n",
       "#sk-container-id-1 div.sk-label label {\n",
       "  font-family: monospace;\n",
       "  font-weight: bold;\n",
       "  display: inline-block;\n",
       "  line-height: 1.2em;\n",
       "}\n",
       "\n",
       "#sk-container-id-1 div.sk-label-container {\n",
       "  text-align: center;\n",
       "}\n",
       "\n",
       "/* Estimator-specific */\n",
       "#sk-container-id-1 div.sk-estimator {\n",
       "  font-family: monospace;\n",
       "  border: 1px dotted var(--sklearn-color-border-box);\n",
       "  border-radius: 0.25em;\n",
       "  box-sizing: border-box;\n",
       "  margin-bottom: 0.5em;\n",
       "  /* unfitted */\n",
       "  background-color: var(--sklearn-color-unfitted-level-0);\n",
       "}\n",
       "\n",
       "#sk-container-id-1 div.sk-estimator.fitted {\n",
       "  /* fitted */\n",
       "  background-color: var(--sklearn-color-fitted-level-0);\n",
       "}\n",
       "\n",
       "/* on hover */\n",
       "#sk-container-id-1 div.sk-estimator:hover {\n",
       "  /* unfitted */\n",
       "  background-color: var(--sklearn-color-unfitted-level-2);\n",
       "}\n",
       "\n",
       "#sk-container-id-1 div.sk-estimator.fitted:hover {\n",
       "  /* fitted */\n",
       "  background-color: var(--sklearn-color-fitted-level-2);\n",
       "}\n",
       "\n",
       "/* Specification for estimator info (e.g. \"i\" and \"?\") */\n",
       "\n",
       "/* Common style for \"i\" and \"?\" */\n",
       "\n",
       ".sk-estimator-doc-link,\n",
       "a:link.sk-estimator-doc-link,\n",
       "a:visited.sk-estimator-doc-link {\n",
       "  float: right;\n",
       "  font-size: smaller;\n",
       "  line-height: 1em;\n",
       "  font-family: monospace;\n",
       "  background-color: var(--sklearn-color-background);\n",
       "  border-radius: 1em;\n",
       "  height: 1em;\n",
       "  width: 1em;\n",
       "  text-decoration: none !important;\n",
       "  margin-left: 1ex;\n",
       "  /* unfitted */\n",
       "  border: var(--sklearn-color-unfitted-level-1) 1pt solid;\n",
       "  color: var(--sklearn-color-unfitted-level-1);\n",
       "}\n",
       "\n",
       ".sk-estimator-doc-link.fitted,\n",
       "a:link.sk-estimator-doc-link.fitted,\n",
       "a:visited.sk-estimator-doc-link.fitted {\n",
       "  /* fitted */\n",
       "  border: var(--sklearn-color-fitted-level-1) 1pt solid;\n",
       "  color: var(--sklearn-color-fitted-level-1);\n",
       "}\n",
       "\n",
       "/* On hover */\n",
       "div.sk-estimator:hover .sk-estimator-doc-link:hover,\n",
       ".sk-estimator-doc-link:hover,\n",
       "div.sk-label-container:hover .sk-estimator-doc-link:hover,\n",
       ".sk-estimator-doc-link:hover {\n",
       "  /* unfitted */\n",
       "  background-color: var(--sklearn-color-unfitted-level-3);\n",
       "  color: var(--sklearn-color-background);\n",
       "  text-decoration: none;\n",
       "}\n",
       "\n",
       "div.sk-estimator.fitted:hover .sk-estimator-doc-link.fitted:hover,\n",
       ".sk-estimator-doc-link.fitted:hover,\n",
       "div.sk-label-container:hover .sk-estimator-doc-link.fitted:hover,\n",
       ".sk-estimator-doc-link.fitted:hover {\n",
       "  /* fitted */\n",
       "  background-color: var(--sklearn-color-fitted-level-3);\n",
       "  color: var(--sklearn-color-background);\n",
       "  text-decoration: none;\n",
       "}\n",
       "\n",
       "/* Span, style for the box shown on hovering the info icon */\n",
       ".sk-estimator-doc-link span {\n",
       "  display: none;\n",
       "  z-index: 9999;\n",
       "  position: relative;\n",
       "  font-weight: normal;\n",
       "  right: .2ex;\n",
       "  padding: .5ex;\n",
       "  margin: .5ex;\n",
       "  width: min-content;\n",
       "  min-width: 20ex;\n",
       "  max-width: 50ex;\n",
       "  color: var(--sklearn-color-text);\n",
       "  box-shadow: 2pt 2pt 4pt #999;\n",
       "  /* unfitted */\n",
       "  background: var(--sklearn-color-unfitted-level-0);\n",
       "  border: .5pt solid var(--sklearn-color-unfitted-level-3);\n",
       "}\n",
       "\n",
       ".sk-estimator-doc-link.fitted span {\n",
       "  /* fitted */\n",
       "  background: var(--sklearn-color-fitted-level-0);\n",
       "  border: var(--sklearn-color-fitted-level-3);\n",
       "}\n",
       "\n",
       ".sk-estimator-doc-link:hover span {\n",
       "  display: block;\n",
       "}\n",
       "\n",
       "/* \"?\"-specific style due to the `<a>` HTML tag */\n",
       "\n",
       "#sk-container-id-1 a.estimator_doc_link {\n",
       "  float: right;\n",
       "  font-size: 1rem;\n",
       "  line-height: 1em;\n",
       "  font-family: monospace;\n",
       "  background-color: var(--sklearn-color-background);\n",
       "  border-radius: 1rem;\n",
       "  height: 1rem;\n",
       "  width: 1rem;\n",
       "  text-decoration: none;\n",
       "  /* unfitted */\n",
       "  color: var(--sklearn-color-unfitted-level-1);\n",
       "  border: var(--sklearn-color-unfitted-level-1) 1pt solid;\n",
       "}\n",
       "\n",
       "#sk-container-id-1 a.estimator_doc_link.fitted {\n",
       "  /* fitted */\n",
       "  border: var(--sklearn-color-fitted-level-1) 1pt solid;\n",
       "  color: var(--sklearn-color-fitted-level-1);\n",
       "}\n",
       "\n",
       "/* On hover */\n",
       "#sk-container-id-1 a.estimator_doc_link:hover {\n",
       "  /* unfitted */\n",
       "  background-color: var(--sklearn-color-unfitted-level-3);\n",
       "  color: var(--sklearn-color-background);\n",
       "  text-decoration: none;\n",
       "}\n",
       "\n",
       "#sk-container-id-1 a.estimator_doc_link.fitted:hover {\n",
       "  /* fitted */\n",
       "  background-color: var(--sklearn-color-fitted-level-3);\n",
       "}\n",
       "</style><div id=\"sk-container-id-1\" class=\"sk-top-container\"><div class=\"sk-text-repr-fallback\"><pre>RandomForestClassifier(max_depth=11, n_estimators=500, n_jobs=6,\n",
       "                       random_state=42)</pre><b>In a Jupyter environment, please rerun this cell to show the HTML representation or trust the notebook. <br />On GitHub, the HTML representation is unable to render, please try loading this page with nbviewer.org.</b></div><div class=\"sk-container\" hidden><div class=\"sk-item\"><div class=\"sk-estimator fitted sk-toggleable\"><input class=\"sk-toggleable__control sk-hidden--visually\" id=\"sk-estimator-id-1\" type=\"checkbox\" checked><label for=\"sk-estimator-id-1\" class=\"sk-toggleable__label fitted sk-toggleable__label-arrow fitted\">&nbsp;&nbsp;RandomForestClassifier<a class=\"sk-estimator-doc-link fitted\" rel=\"noreferrer\" target=\"_blank\" href=\"https://scikit-learn.org/1.5/modules/generated/sklearn.ensemble.RandomForestClassifier.html\">?<span>Documentation for RandomForestClassifier</span></a><span class=\"sk-estimator-doc-link fitted\">i<span>Fitted</span></span></label><div class=\"sk-toggleable__content fitted\"><pre>RandomForestClassifier(max_depth=11, n_estimators=500, n_jobs=6,\n",
       "                       random_state=42)</pre></div> </div></div></div></div>"
      ],
      "text/plain": [
       "RandomForestClassifier(max_depth=11, n_estimators=500, n_jobs=6,\n",
       "                       random_state=42)"
      ]
     },
     "execution_count": 32,
     "metadata": {},
     "output_type": "execute_result"
    }
   ],
   "source": [
    "# Initialize and fit the RandomForestClassifier with specified parameters\n",
    "rf_classifier = RandomForestClassifier(n_estimators=500, max_depth=11, random_state=42, n_jobs=6)\n",
    "rf_classifier.fit(X, Y)"
   ]
  },
  {
   "cell_type": "code",
   "execution_count": 33,
   "id": "1a522ef1-f379-4e46-ad9c-8317cc65ce2b",
   "metadata": {},
   "outputs": [],
   "source": [
    "result = rf_classifier.predict(X_test)"
   ]
  },
  {
   "cell_type": "code",
   "execution_count": 35,
   "id": "193a7b4e-a782-4bb3-abcb-cc6f4181b34b",
   "metadata": {},
   "outputs": [],
   "source": [
    "from sklearn.metrics import classification_report"
   ]
  },
  {
   "cell_type": "code",
   "execution_count": 36,
   "id": "fcddc639-ce13-4c4e-a0f2-fdae81667c8d",
   "metadata": {},
   "outputs": [
    {
     "data": {
      "text/plain": [
       "'              precision    recall  f1-score   support\\n\\n           0       0.99      1.00      1.00  23407653\\n           1       0.90      0.00      0.01    119771\\n\\n    accuracy                           0.99  23527424\\n   macro avg       0.95      0.50      0.50  23527424\\nweighted avg       0.99      0.99      0.99  23527424\\n'"
      ]
     },
     "execution_count": 36,
     "metadata": {},
     "output_type": "execute_result"
    }
   ],
   "source": [
    "report = classification_report(result, test_y)\n",
    "report"
   ]
  },
  {
   "cell_type": "code",
   "execution_count": 37,
   "id": "3a2fb644-97ce-4266-924e-3928efb8eb08",
   "metadata": {},
   "outputs": [
    {
     "name": "stdout",
     "output_type": "stream",
     "text": [
      "              precision    recall  f1-score   support\n",
      "\n",
      "           0       0.99      1.00      1.00  23407653\n",
      "           1       0.90      0.00      0.01    119771\n",
      "\n",
      "    accuracy                           0.99  23527424\n",
      "   macro avg       0.95      0.50      0.50  23527424\n",
      "weighted avg       0.99      0.99      0.99  23527424\n",
      "\n"
     ]
    }
   ],
   "source": [
    "print(report)"
   ]
  },
  {
   "cell_type": "code",
   "execution_count": 38,
   "id": "e1f295de-ed7d-4371-87e1-a6b37755fa4f",
   "metadata": {},
   "outputs": [],
   "source": [
    "def write_to_file(filename, content):\n",
    "    with open(filename, 'w') as f:\n",
    "        f.write(content)\n",
    "# Example usage:\n",
    "filename = '1000_decision_tree.txt'\n",
    "\n",
    "write_to_file(filename, report)"
   ]
  },
  {
   "cell_type": "code",
   "execution_count": 39,
   "id": "5ee67e9e-2235-43b2-8876-8999b6d302f6",
   "metadata": {},
   "outputs": [
    {
     "data": {
      "text/plain": [
       "['random_forest_1000_decision_tree.joblib']"
      ]
     },
     "execution_count": 39,
     "metadata": {},
     "output_type": "execute_result"
    }
   ],
   "source": [
    "import joblib\n",
    "\n",
    "joblib.dump(rf_classifier, \"random_forest_1000_decision_tree.joblib\")"
   ]
  },
  {
   "cell_type": "code",
   "execution_count": null,
   "id": "c119639c-65f9-4e7a-8bf6-ec2e4e051b16",
   "metadata": {},
   "outputs": [],
   "source": [
    "import os\n",
    "\n",
    "def shutdown():\n",
    "    if os.name == 'posix':  # For UNIX/Linux/MacOS\n",
    "        os.system('shutdown -h now')\n",
    "    elif os.name == 'nt':  # For Windows\n",
    "        os.system('shutdown /s /t 1')\n",
    "    else:\n",
    "        raise OSError(f\"Unsupported operating system: {os.name}\")\n",
    "\n",
    "# Calling the shutdown function\n",
    "shutdown()\n"
   ]
  },
  {
   "cell_type": "code",
   "execution_count": null,
   "id": "96148f1b-7975-465c-8845-2212da567c90",
   "metadata": {},
   "outputs": [],
   "source": [
    "# from tensorflow.keras.preprocessing.image import ImageDataGenerator\n",
    "\n",
    "# # Define ImageDataGenerator with rotation augmentation\n",
    "# datagen = ImageDataGenerator(\n",
    "#     rotation_range=45,  # Rotate images randomly up to 45 degrees\n",
    "#     rescale=1./255  # Normalize pixel values (assuming pixel range 0-255)\n",
    "# )\n",
    "\n",
    "# # Example usage:\n",
    "# batch_size = 32\n",
    "# # Create generators for training and validation data\n",
    "# train_generator = datagen.flow(X_train, y_train, batch_size=batch_size)\n",
    "# val_generator = datagen.flow(X_val, y_val, batch_size=batch_size)\n",
    "\n",
    "# # Note: No need to augment validation data, so we only apply rotation augmentation to training data\n"
   ]
  },
  {
   "cell_type": "code",
   "execution_count": null,
   "id": "b3fe839d-fd39-4d1b-8ad7-fdd903456095",
   "metadata": {},
   "outputs": [],
   "source": [
    "# import tensorflow as tf\n",
    "# from tensorflow.keras.losses import SparseCategoricalCrossentropy\n",
    "\n",
    "# # Compute class weights based on frequency\n",
    "# def compute_class_weights(y_train):\n",
    "#     class_weights = {}\n",
    "#     total_samples = len(y_train)\n",
    "#     unique_classes = np.unique(y_train)\n",
    "#     class_counts = np.bincount(y_train.flatten())\n",
    "    \n",
    "#     for i, count in enumerate(class_counts):\n",
    "#         class_weights[i] = (1 / count) * (total_samples / len(unique_classes))\n",
    "    \n",
    "#     return class_weights\n",
    "\n",
    "# # Example usage\n",
    "# # Assuming y_train is your training labels (shape: (694, 256, 256))\n",
    "# y_train_flat = y_train.flatten()\n",
    "# class_weights = compute_class_weights(y_train_flat)\n",
    "\n",
    "# # Define weighted loss function\n",
    "# loss_function = SparseCategoricalCrossentropy(from_logits=True, weight=class_weights)\n",
    "\n",
    "# # Compile your model with this loss function\n",
    "# model.compile(optimizer='adam', loss=loss_function, metrics=['accuracy'])\n",
    "\n",
    "# # Train your model using the generators\n",
    "# history = model.fit(train_generator, epochs=num_epochs, validation_data=val_generator)\n"
   ]
  }
 ],
 "metadata": {
  "kernelspec": {
   "display_name": "Python 3 (ipykernel)",
   "language": "python",
   "name": "python3"
  },
  "language_info": {
   "codemirror_mode": {
    "name": "ipython",
    "version": 3
   },
   "file_extension": ".py",
   "mimetype": "text/x-python",
   "name": "python",
   "nbconvert_exporter": "python",
   "pygments_lexer": "ipython3",
   "version": "3.10.12"
  }
 },
 "nbformat": 4,
 "nbformat_minor": 5
}
