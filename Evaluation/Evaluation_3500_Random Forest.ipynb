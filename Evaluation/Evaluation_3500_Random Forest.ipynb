{
 "cells": [
  {
   "cell_type": "code",
   "execution_count": 1,
   "id": "fb04f428-51e5-4b32-a443-ac5149e5be8c",
   "metadata": {},
   "outputs": [],
   "source": [
    "import joblib\n",
    "\n",
    "# Load the model from the file\n",
    "model = joblib.load('random_forest_3500_decision_tree.joblib')\n"
   ]
  },
  {
   "cell_type": "code",
   "execution_count": 2,
   "id": "ca28fb55-4617-45f6-aa92-f10588258641",
   "metadata": {},
   "outputs": [],
   "source": [
    "from sklearn.metrics import confusion_matrix, precision_score, recall_score, f1_score\n",
    "import matplotlib.pyplot as plt\n",
    "import seaborn as sns\n",
    "import pandas as pd"
   ]
  },
  {
   "cell_type": "code",
   "execution_count": 3,
   "id": "3bc80ce4-1aca-40dd-8c83-b33a60eb2865",
   "metadata": {},
   "outputs": [
    {
     "name": "stdout",
     "output_type": "stream",
     "text": [
      "Validation data: X_val shape = (328, 256, 256, 11), y_val shape = (328, 256, 256, 1)\n",
      "Testing data: X_test shape = (359, 256, 256, 11), y_test shape = (359, 256, 256, 1)\n"
     ]
    }
   ],
   "source": [
    "import os\n",
    "import numpy as np\n",
    "import rasterio\n",
    "\n",
    "def load_dataset(data_dir, img_size=(256, 256)):\n",
    "    \"\"\"\n",
    "    Load validation and test datasets from specified directory.\n",
    "\n",
    "    Parameters:\n",
    "    - data_dir (str): Directory containing val and test subdirectories.\n",
    "    - img_size (tuple): Desired size of the image (height, width).\n",
    "\n",
    "    Returns:\n",
    "    - val_data (tuple): Tuple containing (X_val, y_val).\n",
    "    - test_data (tuple): Tuple containing (X_test, y_test).\n",
    "    \"\"\"\n",
    "    val_dir = os.path.join(data_dir, 'val')\n",
    "    test_dir = os.path.join(data_dir, 'test')\n",
    "\n",
    "    # Load validation data\n",
    "    X_val, y_val = load_data_from_dir(os.path.join(val_dir, 'input'), os.path.join(val_dir, 'output'), img_size)\n",
    "    # Load test data\n",
    "    X_test, y_test = load_data_from_dir(os.path.join(test_dir, 'input'), os.path.join(test_dir, 'output'), img_size)\n",
    "\n",
    "    # Preprocess to handle NaN values\n",
    "    X_val = preprocess_data(X_val)\n",
    "    X_test = preprocess_data(X_test)\n",
    "\n",
    "    return (X_val, y_val), (X_test, y_test)\n",
    "\n",
    "def preprocess_data(images):\n",
    "    \"\"\"\n",
    "    Preprocesses input images to handle NaN values.\n",
    "\n",
    "    Parameters:\n",
    "    - images (numpy.ndarray): Array of input images.\n",
    "\n",
    "    Returns:\n",
    "    - images (numpy.ndarray): Processed array of input images.\n",
    "    \"\"\"\n",
    "    # Replace NaN values with 0\n",
    "    images[np.isnan(images)] = 0\n",
    "\n",
    "    return images\n",
    "\n",
    "def load_data_from_dir(input_dir, output_dir, img_size):\n",
    "    \"\"\"\n",
    "    Load data (images and labels) from input and output directories.\n",
    "\n",
    "    Parameters:\n",
    "    - input_dir (str): Directory containing input images.\n",
    "    - output_dir (str): Directory containing output images.\n",
    "    - img_size (tuple): Desired size of the image (height, width).\n",
    "\n",
    "    Returns:\n",
    "    - images (numpy.ndarray): Array of loaded input images.\n",
    "    - labels (numpy.ndarray): Array of corresponding output images.\n",
    "    \"\"\"\n",
    "    images = []\n",
    "    labels = []\n",
    "\n",
    "    for filename in os.listdir(input_dir):\n",
    "        if filename.endswith('.tif'):\n",
    "            # Load input image (X)\n",
    "            input_path = os.path.join(input_dir, filename)\n",
    "            img = load_tiff_image(input_path, img_size)\n",
    "            images.append(img)\n",
    "\n",
    "            # Load corresponding output image (y)\n",
    "            output_filename = filename.replace('.tif', '_cl.tif')\n",
    "            output_path = os.path.join(output_dir, output_filename)\n",
    "            label = load_tiff_image(output_path, img_size, is_label=True)\n",
    "            label[np.isnan(label)] = 0 \n",
    "            labels.append(label)\n",
    "\n",
    "    if images and labels:\n",
    "        images = np.array(images)\n",
    "        labels = np.array(labels)\n",
    "\n",
    "    return images, labels\n",
    "\n",
    "def load_tiff_image(path, img_size, is_label=False):\n",
    "    \"\"\"\n",
    "    Load a TIFF image from specified path.\n",
    "\n",
    "    Parameters:\n",
    "    - path (str): Path to the TIFF image.\n",
    "    - img_size (tuple): Desired size of the image (height, width).\n",
    "    - is_label (bool): Whether the image is a label image.\n",
    "\n",
    "    Returns:\n",
    "    - img (numpy.ndarray): Loaded image as a numpy array.\n",
    "    \"\"\"\n",
    "    with rasterio.open(path) as src:\n",
    "        img = src.read()\n",
    "\n",
    "    # Reshape and resize if necessary\n",
    "    img = img.transpose(1, 2, 0)  # Change from bands x height x width to height x width x bands\n",
    "    img = img[:img_size[0], :img_size[1], :]  # Resize to desired size\n",
    "\n",
    "    if is_label:\n",
    "        # Convert label image to binary classification (1 for Marine Debris, 0 for others)\n",
    "        img = (img == 1).astype(np.uint8)  # Assuming Marine Debris class is encoded as 1\n",
    "\n",
    "    return img\n",
    "\n",
    "# Example usage:\n",
    "data_dir = 'MARIDA'\n",
    "(X_val, y_val), (X_test, y_test) = load_dataset(data_dir)\n",
    "\n",
    "print(f\"Validation data: X_val shape = {X_val.shape}, y_val shape = {y_val.shape}\")\n",
    "print(f\"Testing data: X_test shape = {X_test.shape}, y_test shape = {y_test.shape}\")\n"
   ]
  },
  {
   "cell_type": "code",
   "execution_count": 4,
   "id": "0e204e39-dbbf-487f-9a81-ad2457ce1df0",
   "metadata": {},
   "outputs": [],
   "source": [
    "test_x = np.reshape(X_test,(359*256*256,11))"
   ]
  },
  {
   "cell_type": "code",
   "execution_count": 5,
   "id": "74414c72-c950-47e0-8053-6c768ddfec78",
   "metadata": {},
   "outputs": [
    {
     "data": {
      "text/plain": [
       "(23527424, 1)"
      ]
     },
     "execution_count": 5,
     "metadata": {},
     "output_type": "execute_result"
    }
   ],
   "source": [
    "test_y = np.reshape(y_test,(359*256*256,1))\n",
    "test_y.shape"
   ]
  },
  {
   "cell_type": "code",
   "execution_count": 6,
   "id": "63b96a65-1806-49e3-b9e1-b1f9d4c4b045",
   "metadata": {},
   "outputs": [],
   "source": [
    "Coastal = pd.DataFrame(test_x).iloc[:, 0]  # costel \n",
    "Blue = pd.DataFrame(test_x).iloc[:, 1] # blue \n",
    "Green = pd.DataFrame(test_x).iloc[:, 2] # green \n",
    "RED = pd.DataFrame(test_x).iloc[:, 3] #\n",
    "RedEdge1 = pd.DataFrame(test_x).iloc[:, 4]\n",
    "RedEdge2 = pd.DataFrame(test_x).iloc[:, 5]\n",
    "RedEdge3 = pd.DataFrame(test_x).iloc[:, 6]\n",
    "NIR = pd.DataFrame(test_x).iloc[:, 7]\n",
    "Narrow_NIR = pd.DataFrame(test_x).iloc[:, 8]\n",
    "SWIR1 = pd.DataFrame(test_x).iloc[:, 9]\n",
    "SWIR2 = pd.DataFrame(test_x).iloc[:, 10]\n",
    "\n",
    "# print(first_column.tolist())"
   ]
  },
  {
   "cell_type": "code",
   "execution_count": 7,
   "id": "9f657150-0302-4ab6-80a6-9d3451f9a0e1",
   "metadata": {},
   "outputs": [
    {
     "name": "stdout",
     "output_type": "stream",
     "text": [
      "0\n",
      "0\n"
     ]
    }
   ],
   "source": [
    "NDVI = (NIR - RED) / (NIR + RED)\n",
    "print(np.isinf(NDVI).sum())\n",
    "print(np.isinf(NDVI).sum())"
   ]
  },
  {
   "cell_type": "code",
   "execution_count": 8,
   "id": "85d6ca09-8ad8-4f1f-9b2d-026ec0a31728",
   "metadata": {},
   "outputs": [
    {
     "name": "stdout",
     "output_type": "stream",
     "text": [
      "0\n",
      "0\n"
     ]
    }
   ],
   "source": [
    "Plastic = NIR / (NIR - RED)\n",
    "print(np.isinf(Plastic).sum())\n",
    "print(np.isinf(-Plastic).sum())"
   ]
  },
  {
   "cell_type": "code",
   "execution_count": 9,
   "id": "ef74a8b9-6d00-4c5f-82e0-42115624b714",
   "metadata": {},
   "outputs": [
    {
     "data": {
      "text/plain": [
       "0"
      ]
     },
     "execution_count": 9,
     "metadata": {},
     "output_type": "execute_result"
    }
   ],
   "source": [
    "FDI = NIR - (RedEdge2+ (SWIR1 - RedEdge2) * ((842 - 665)/(1610 - 665)) * 10  )\n",
    "np.isinf(FDI).sum()\n",
    "np.isinf(-FDI).sum()"
   ]
  },
  {
   "cell_type": "code",
   "execution_count": 10,
   "id": "e58e824f-6359-4391-a9d1-8522ef030808",
   "metadata": {},
   "outputs": [
    {
     "data": {
      "text/plain": [
       "0"
      ]
     },
     "execution_count": 10,
     "metadata": {},
     "output_type": "execute_result"
    }
   ],
   "source": [
    "WaterIndex = (Green-NIR)/ (Green+NIR)\n",
    "np.isinf(WaterIndex).sum()\n",
    "np.isinf(-WaterIndex).sum()"
   ]
  },
  {
   "cell_type": "code",
   "execution_count": 11,
   "id": "bad505f2-93c8-4281-95e5-9bcd9e8034b4",
   "metadata": {},
   "outputs": [
    {
     "data": {
      "text/plain": [
       "(23527424, 7)"
      ]
     },
     "execution_count": 11,
     "metadata": {},
     "output_type": "execute_result"
    }
   ],
   "source": [
    "X_test = pd.concat([FDI,WaterIndex,Plastic,NDVI,SWIR1,NIR,RED],axis=1)\n",
    "X_test.shape"
   ]
  },
  {
   "cell_type": "code",
   "execution_count": 12,
   "id": "840aa157-a245-4a26-b024-b2546864b3d3",
   "metadata": {},
   "outputs": [
    {
     "data": {
      "text/plain": [
       "0    0\n",
       "1    0\n",
       "2    0\n",
       "3    0\n",
       "9    0\n",
       "7    0\n",
       "3    0\n",
       "dtype: int64"
      ]
     },
     "execution_count": 12,
     "metadata": {},
     "output_type": "execute_result"
    }
   ],
   "source": [
    "np.isinf(X_test).sum()"
   ]
  },
  {
   "cell_type": "code",
   "execution_count": 13,
   "id": "e3f163bf-b390-4cfb-98f0-3cccf509b54d",
   "metadata": {},
   "outputs": [],
   "source": [
    "# Assuming X_test is a numpy array or pandas DataFrame\n",
    "predictions = model.predict(X_test)"
   ]
  },
  {
   "cell_type": "code",
   "execution_count": 14,
   "id": "fdabf263-fa88-464c-bfb8-060410d3b7a7",
   "metadata": {},
   "outputs": [],
   "source": [
    "import pandas as pd\n",
    "from sklearn.metrics import accuracy_score, classification_report\n",
    "\n",
    "# Evaluate model performance\n",
    "accuracy = accuracy_score(test_y, predictions)\n",
    "# print(f'Accuracy: {accuracy:.2f}')"
   ]
  },
  {
   "cell_type": "code",
   "execution_count": 15,
   "id": "e4050ff0-d6f9-47b7-913f-c0968980b942",
   "metadata": {},
   "outputs": [
    {
     "data": {
      "text/plain": [
       "'              precision    recall  f1-score   support\\n\\n           0       0.99      1.00      1.00  23405068\\n           1       0.91      0.00      0.01    122356\\n\\n    accuracy                           0.99  23527424\\n   macro avg       0.95      0.50      0.50  23527424\\nweighted avg       0.99      0.99      0.99  23527424\\n'"
      ]
     },
     "execution_count": 15,
     "metadata": {},
     "output_type": "execute_result"
    }
   ],
   "source": [
    "report = classification_report(predictions, test_y)\n",
    "report"
   ]
  },
  {
   "cell_type": "code",
   "execution_count": 16,
   "id": "02fb10ef-8cff-4081-92bb-fb2a5f7dc6d7",
   "metadata": {},
   "outputs": [
    {
     "data": {
      "text/plain": [
       "array([[23405032,   122011],\n",
       "       [      36,      345]])"
      ]
     },
     "execution_count": 16,
     "metadata": {},
     "output_type": "execute_result"
    }
   ],
   "source": [
    "# Calculate confusion matrix\n",
    "cm = confusion_matrix(test_y, predictions)\n",
    "cm"
   ]
  },
  {
   "cell_type": "code",
   "execution_count": 17,
   "id": "f8aecdf5-9f34-4703-aa2c-b6fd9f39e67d",
   "metadata": {},
   "outputs": [
    {
     "data": {
      "image/png": "[encoded data removed]",
      "text/plain": [
       "<Figure size 800x600 with 1 Axes>"
      ]
     },
     "metadata": {},
     "output_type": "display_data"
    }
   ],
   "source": [
    "# Plot confusion matrix\n",
    "plt.figure(figsize=(8, 6))\n",
    "sns.heatmap(cm, annot=True, fmt='d', cmap='Blues', cbar=False,\n",
    "            xticklabels=model.classes_, yticklabels=model.classes_)\n",
    "plt.xlabel('Predicted labels')\n",
    "plt.ylabel('True labels')\n",
    "plt.title('Confusion Matrix')\n",
    "plt.savefig('Confusion_matrix_Random_forest_100_Decision_tree.png')\n",
    "plt.show()\n"
   ]
  },
  {
   "cell_type": "code",
   "execution_count": 18,
   "id": "ac6917ef-729b-4d3f-baa4-83400893a141",
   "metadata": {},
   "outputs": [],
   "source": [
    "# Compute precision, recall, and F1-score\n",
    "precision = precision_score(test_y, predictions)\n",
    "recall = recall_score(test_y, predictions)\n",
    "f1 = f1_score(test_y, predictions)\n",
    "\n"
   ]
  },
  {
   "cell_type": "code",
   "execution_count": 19,
   "id": "ce8a5384-3f3a-47b8-9545-3ea1f39b8244",
   "metadata": {},
   "outputs": [
    {
     "name": "stdout",
     "output_type": "stream",
     "text": [
      "Confusion Matrix:\n",
      "Precision: 0.00\n",
      "Recall: 0.91\n",
      "F1-score: 0.01\n"
     ]
    }
   ],
   "source": [
    "print(\"Confusion Matrix:\")\n",
    "# print(cm)\n",
    "print(f\"Precision: {precision:.2f}\")\n",
    "print(f\"Recall: {recall:.2f}\")\n",
    "print(f\"F1-score: {f1:.2f}\")"
   ]
  },
  {
   "cell_type": "code",
   "execution_count": 20,
   "id": "dc24ebb0-1fb5-48c1-9d90-6ec3fd2c29dd",
   "metadata": {},
   "outputs": [],
   "source": [
    "TP = 148\n",
    "FN = 484\n",
    "FP= 233\n",
    "# tn = "
   ]
  },
  {
   "cell_type": "code",
   "execution_count": 21,
   "id": "44aefdab-c3f3-43d9-bd9f-796c2aa082fa",
   "metadata": {},
   "outputs": [],
   "source": [
    "iou_like = TP / (TP + FP + FN)"
   ]
  },
  {
   "cell_type": "code",
   "execution_count": 22,
   "id": "08e3a29d-8d5c-4c53-8726-0f07b5b94281",
   "metadata": {},
   "outputs": [
    {
     "data": {
      "text/plain": [
       "0.17109826589595376"
      ]
     },
     "execution_count": 22,
     "metadata": {},
     "output_type": "execute_result"
    }
   ],
   "source": [
    "iou_like"
   ]
  },
  {
   "cell_type": "code",
   "execution_count": 23,
   "id": "10f3a1f5-7b18-4fb1-a731-55fd73a45ce3",
   "metadata": {},
   "outputs": [],
   "source": [
    "TP = 23526559\n",
    "FN = 484\n",
    "FP= 233"
   ]
  },
  {
   "cell_type": "code",
   "execution_count": 24,
   "id": "9f623544-e5dd-4ebc-a65f-b2e449ea74d4",
   "metadata": {},
   "outputs": [],
   "source": [
    "iou = TP / (TP + FP + FN)"
   ]
  },
  {
   "cell_type": "code",
   "execution_count": 25,
   "id": "a1431bf7-bb40-47fd-b51b-9e3d6fec3d9f",
   "metadata": {},
   "outputs": [
    {
     "data": {
      "text/plain": [
       "0.9999695247337601"
      ]
     },
     "execution_count": 25,
     "metadata": {},
     "output_type": "execute_result"
    }
   ],
   "source": [
    "iou\n"
   ]
  },
  {
   "cell_type": "code",
   "execution_count": 26,
   "id": "0fa63c68-ebe5-4048-a924-91a086ff1620",
   "metadata": {},
   "outputs": [
    {
     "data": {
      "text/plain": [
       "(328, 256, 256, 11)"
      ]
     },
     "execution_count": 26,
     "metadata": {},
     "output_type": "execute_result"
    }
   ],
   "source": [
    "X_val.shape\n"
   ]
  },
  {
   "cell_type": "code",
   "execution_count": 27,
   "id": "56e8d89b-e419-449f-bbff-c1de85b3511e",
   "metadata": {},
   "outputs": [],
   "source": [
    "# np.reshape(y_test,(359*256*256,1))\n",
    "X = np.reshape(X_val,(328* 256* 256,11))\n",
    "Y = np.reshape(y_val,(328* 256* 256,1))"
   ]
  },
  {
   "cell_type": "code",
   "execution_count": 28,
   "id": "ed180aab-a1f2-4a99-aef1-45262e4346df",
   "metadata": {},
   "outputs": [
    {
     "data": {
      "text/plain": [
       "(21495808, 11)"
      ]
     },
     "execution_count": 28,
     "metadata": {},
     "output_type": "execute_result"
    }
   ],
   "source": [
    "X.shape"
   ]
  },
  {
   "cell_type": "code",
   "execution_count": 29,
   "id": "867c3347-08ce-4e76-8992-a422686cfa32",
   "metadata": {},
   "outputs": [],
   "source": [
    "Coastal = pd.DataFrame(X).iloc[:, 0]  # costel \n",
    "Blue = pd.DataFrame(X).iloc[:, 1] # blue \n",
    "Green = pd.DataFrame(X).iloc[:, 2] # green \n",
    "RED = pd.DataFrame(X).iloc[:, 3] #\n",
    "RedEdge1 = pd.DataFrame(X).iloc[:, 4]\n",
    "RedEdge2 = pd.DataFrame(X).iloc[:, 5]\n",
    "RedEdge3 = pd.DataFrame(X).iloc[:, 6]\n",
    "NIR = pd.DataFrame(X).iloc[:, 7]\n",
    "Narrow_NIR = pd.DataFrame(X).iloc[:, 8]\n",
    "SWIR1 = pd.DataFrame(X).iloc[:, 9]\n",
    "SWIR2 = pd.DataFrame(X).iloc[:, 10]\n",
    "\n",
    "# print(first_column.tolist())"
   ]
  },
  {
   "cell_type": "code",
   "execution_count": 30,
   "id": "3ec9a68d-69fa-4edd-9b2e-545ea1f004ec",
   "metadata": {},
   "outputs": [
    {
     "name": "stdout",
     "output_type": "stream",
     "text": [
      "0\n",
      "0\n"
     ]
    }
   ],
   "source": [
    "NDVI = (NIR - RED) / (NIR + RED)\n",
    "print(np.isinf(NDVI).sum())\n",
    "print(np.isinf(NDVI).sum())"
   ]
  },
  {
   "cell_type": "code",
   "execution_count": 31,
   "id": "65362649-af37-4d78-95ca-c8114b749668",
   "metadata": {},
   "outputs": [
    {
     "name": "stdout",
     "output_type": "stream",
     "text": [
      "0\n",
      "0\n"
     ]
    }
   ],
   "source": [
    "Plastic = NIR / (NIR - RED)\n",
    "print(np.isinf(Plastic).sum())\n",
    "print(np.isinf(-Plastic).sum())"
   ]
  },
  {
   "cell_type": "code",
   "execution_count": 32,
   "id": "9f3388db-24fd-414a-9cd1-e1e69d03768a",
   "metadata": {},
   "outputs": [
    {
     "data": {
      "text/plain": [
       "0"
      ]
     },
     "execution_count": 32,
     "metadata": {},
     "output_type": "execute_result"
    }
   ],
   "source": [
    "FDI = NIR - (RedEdge2+ (SWIR1 - RedEdge2) * ((842 - 665)/(1610 - 665)) * 10  )\n",
    "np.isinf(FDI).sum()\n",
    "np.isinf(-FDI).sum()"
   ]
  },
  {
   "cell_type": "code",
   "execution_count": 33,
   "id": "0c360170-ca16-463f-ba5b-1e93c915b646",
   "metadata": {},
   "outputs": [
    {
     "data": {
      "text/plain": [
       "0"
      ]
     },
     "execution_count": 33,
     "metadata": {},
     "output_type": "execute_result"
    }
   ],
   "source": [
    "WaterIndex = (Green-NIR)/ (Green+NIR)\n",
    "np.isinf(WaterIndex).sum()\n",
    "np.isinf(-WaterIndex).sum()"
   ]
  },
  {
   "cell_type": "code",
   "execution_count": 34,
   "id": "b2bf04ac-702d-408a-8b81-4cbf1e98c76d",
   "metadata": {},
   "outputs": [
    {
     "data": {
      "text/plain": [
       "(21495808, 7)"
      ]
     },
     "execution_count": 34,
     "metadata": {},
     "output_type": "execute_result"
    }
   ],
   "source": [
    "X_val = pd.concat([FDI,WaterIndex,Plastic,NDVI,SWIR1,NIR,RED],axis=1)\n",
    "X_val.shape"
   ]
  },
  {
   "cell_type": "code",
   "execution_count": 35,
   "id": "962037af-cef1-4f90-a0a7-946983ed605d",
   "metadata": {},
   "outputs": [],
   "source": [
    "# Assuming X_test is a numpy array or pandas DataFrame\n",
    "predictions = model.predict(X_val)\n"
   ]
  },
  {
   "cell_type": "code",
   "execution_count": 36,
   "id": "1fa6a4f0-e622-4332-8885-5b13aebc0233",
   "metadata": {},
   "outputs": [],
   "source": [
    "import pandas as pd\n",
    "from sklearn.metrics import accuracy_score, classification_report\n",
    "\n",
    "# Evaluate model performance\n",
    "accuracy = accuracy_score(Y, predictions)\n",
    "# print(f'Accuracy: {accuracy:.2f}')"
   ]
  },
  {
   "cell_type": "code",
   "execution_count": 37,
   "id": "1a4527c8-45c3-47b5-855b-1fc2a9122447",
   "metadata": {},
   "outputs": [
    {
     "data": {
      "text/plain": [
       "array([[21421152,    73581],\n",
       "       [      84,      991]])"
      ]
     },
     "execution_count": 37,
     "metadata": {},
     "output_type": "execute_result"
    }
   ],
   "source": [
    "# Calculate confusion matrix\n",
    "cm = confusion_matrix(Y, predictions)\n",
    "cm"
   ]
  },
  {
   "cell_type": "code",
   "execution_count": 38,
   "id": "d6f2c9e3-10b5-4c7c-8e3f-be14508ec94e",
   "metadata": {},
   "outputs": [
    {
     "data": {
      "image/png": "[encoded data removed]",
      "text/plain": [
       "<Figure size 800x600 with 1 Axes>"
      ]
     },
     "metadata": {},
     "output_type": "display_data"
    }
   ],
   "source": [
    "# Plot confusion matrix\n",
    "plt.figure(figsize=(8, 6))\n",
    "sns.heatmap(cm, annot=True, fmt='d', cmap='Blues', cbar=False,\n",
    "            xticklabels=model.classes_, yticklabels=model.classes_)\n",
    "plt.xlabel('Predicted labels')\n",
    "plt.ylabel('True labels')\n",
    "plt.title('Confusion Matrix')\n",
    "plt.savefig('Confusion_matrix_Random_forest_100_Decision_tree.png')\n",
    "plt.show()\n"
   ]
  },
  {
   "cell_type": "code",
   "execution_count": 39,
   "id": "b76f68ce-936c-4f71-868e-3f4011e9111b",
   "metadata": {},
   "outputs": [],
   "source": [
    "# TP = 481\n",
    "# FN = 594\n",
    "# FP= 725"
   ]
  },
  {
   "cell_type": "code",
   "execution_count": 40,
   "id": "00e085ff-d722-4445-bf60-a5760cdc42c0",
   "metadata": {},
   "outputs": [
    {
     "data": {
      "text/plain": [
       "0.9999695247337601"
      ]
     },
     "execution_count": 40,
     "metadata": {},
     "output_type": "execute_result"
    }
   ],
   "source": [
    "TP / (TP + FP + FN)"
   ]
  },
  {
   "cell_type": "code",
   "execution_count": null,
   "id": "b5cafa3c-0403-4915-bf0b-d62d16a665c7",
   "metadata": {},
   "outputs": [],
   "source": []
  },
  {
   "cell_type": "code",
   "execution_count": null,
   "id": "1a0c01b4-c7c3-4db9-baf4-c20211a620ff",
   "metadata": {},
   "outputs": [],
   "source": []
  }
 ],
 "metadata": {
  "kernelspec": {
   "display_name": "Python 3 (ipykernel)",
   "language": "python",
   "name": "python3"
  },
  "language_info": {
   "codemirror_mode": {
    "name": "ipython",
    "version": 3
   },
   "file_extension": ".py",
   "mimetype": "text/x-python",
   "name": "python",
   "nbconvert_exporter": "python",
   "pygments_lexer": "ipython3",
   "version": "3.12.3"
  }
 },
 "nbformat": 4,
 "nbformat_minor": 5
}
