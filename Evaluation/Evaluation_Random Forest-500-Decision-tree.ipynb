{
 "cells": [
  {
   "cell_type": "code",
   "execution_count": 1,
   "id": "fb04f428-51e5-4b32-a443-ac5149e5be8c",
   "metadata": {},
   "outputs": [],
   "source": [
    "# Custom License\n",
    "# \n",
    "# Copyright (c) 2024 Arya Vishal\n",
    "# \n",
    "# Permission is hereby granted, free of charge, to any person obtaining a copy of this software and associated documentation files (the \"Software\"), to deal in the Software without restriction, including without limitation the rights to use, copy, and modify the Software, subject to the following conditions:\n",
    "# \n",
    "# 1. No Selling: The Software may not be sold or sublicensed.\n",
    "# 2. No Publishing: The Software may not be published or distributed without explicit written permission from the copyright holder.\n",
    "# \n",
    "# The above copyright notice and this permission notice shall be included in all copies or substantial portions of the Software.\n",
    "# \n",
    "# THE SOFTWARE IS PROVIDED \"AS IS\", WITHOUT WARRANTY OF ANY KIND, EXPRESS OR IMPLIED, INCLUDING BUT NOT LIMITED TO THE WARRANTIES OF MERCHANTABILITY, FITNESS FOR A PARTICULAR PURPOSE AND NONINFRINGEMENT. IN NO EVENT SHALL THE AUTHORS OR COPYRIGHT HOLDERS BE LIABLE FOR ANY CLAIM, DAMAGES OR OTHER LIABILITY, WHETHER IN AN ACTION OF CONTRACT, TORT OR OTHERWISE, ARISING FROM, OUT OF OR IN CONNECTION WITH THE SOFTWARE OR THE USE OR OTHER DEALINGS IN THE SOFTWARE.\n",
    "\n",
    "import joblib\n",
    "\n",
    "# Load the model from the file\n",
    "model = joblib.load('random_forest_500_decision_tree.joblib')\n"
   ]
  },
  {
   "cell_type": "code",
   "execution_count": 2,
   "id": "ca28fb55-4617-45f6-aa92-f10588258641",
   "metadata": {},
   "outputs": [],
   "source": [
    "from sklearn.metrics import confusion_matrix, precision_score, recall_score, f1_score\n",
    "import matplotlib.pyplot as plt\n",
    "import seaborn as sns\n"
   ]
  },
  {
   "cell_type": "code",
   "execution_count": 3,
   "id": "3bc80ce4-1aca-40dd-8c83-b33a60eb2865",
   "metadata": {},
   "outputs": [
    {
     "name": "stdout",
     "output_type": "stream",
     "text": [
      "Validation data: X_val shape = (328, 256, 256, 11), y_val shape = (328, 256, 256, 1)\n",
      "Testing data: X_test shape = (359, 256, 256, 11), y_test shape = (359, 256, 256, 1)\n"
     ]
    }
   ],
   "source": [
    "import os\n",
    "import numpy as np\n",
    "import rasterio\n",
    "\n",
    "def load_dataset(data_dir, img_size=(256, 256)):\n",
    "    \"\"\"\n",
    "    Load validation and test datasets from specified directory.\n",
    "\n",
    "    Parameters:\n",
    "    - data_dir (str): Directory containing val and test subdirectories.\n",
    "    - img_size (tuple): Desired size of the image (height, width).\n",
    "\n",
    "    Returns:\n",
    "    - val_data (tuple): Tuple containing (X_val, y_val).\n",
    "    - test_data (tuple): Tuple containing (X_test, y_test).\n",
    "    \"\"\"\n",
    "    val_dir = os.path.join(data_dir, 'val')\n",
    "    test_dir = os.path.join(data_dir, 'test')\n",
    "\n",
    "    # Load validation data\n",
    "    X_val, y_val = load_data_from_dir(os.path.join(val_dir, 'input'), os.path.join(val_dir, 'output'), img_size)\n",
    "    # Load test data\n",
    "    X_test, y_test = load_data_from_dir(os.path.join(test_dir, 'input'), os.path.join(test_dir, 'output'), img_size)\n",
    "\n",
    "    # Preprocess to handle NaN values\n",
    "    X_val = preprocess_data(X_val)\n",
    "    X_test = preprocess_data(X_test)\n",
    "\n",
    "    return (X_val, y_val), (X_test, y_test)\n",
    "\n",
    "def preprocess_data(images):\n",
    "    \"\"\"\n",
    "    Preprocesses input images to handle NaN values.\n",
    "\n",
    "    Parameters:\n",
    "    - images (numpy.ndarray): Array of input images.\n",
    "\n",
    "    Returns:\n",
    "    - images (numpy.ndarray): Processed array of input images.\n",
    "    \"\"\"\n",
    "    # Replace NaN values with 0\n",
    "    images[np.isnan(images)] = 0\n",
    "\n",
    "    return images\n",
    "\n",
    "def load_data_from_dir(input_dir, output_dir, img_size):\n",
    "    \"\"\"\n",
    "    Load data (images and labels) from input and output directories.\n",
    "\n",
    "    Parameters:\n",
    "    - input_dir (str): Directory containing input images.\n",
    "    - output_dir (str): Directory containing output images.\n",
    "    - img_size (tuple): Desired size of the image (height, width).\n",
    "\n",
    "    Returns:\n",
    "    - images (numpy.ndarray): Array of loaded input images.\n",
    "    - labels (numpy.ndarray): Array of corresponding output images.\n",
    "    \"\"\"\n",
    "    images = []\n",
    "    labels = []\n",
    "\n",
    "    for filename in os.listdir(input_dir):\n",
    "        if filename.endswith('.tif'):\n",
    "            # Load input image (X)\n",
    "            input_path = os.path.join(input_dir, filename)\n",
    "            img = load_tiff_image(input_path, img_size)\n",
    "            images.append(img)\n",
    "\n",
    "            # Load corresponding output image (y)\n",
    "            output_filename = filename.replace('.tif', '_cl.tif')\n",
    "            output_path = os.path.join(output_dir, output_filename)\n",
    "            label = load_tiff_image(output_path, img_size, is_label=True)\n",
    "            label[np.isnan(label)] = 0 \n",
    "            labels.append(label)\n",
    "\n",
    "    if images and labels:\n",
    "        images = np.array(images)\n",
    "        labels = np.array(labels)\n",
    "\n",
    "    return images, labels\n",
    "\n",
    "def load_tiff_image(path, img_size, is_label=False):\n",
    "    \"\"\"\n",
    "    Load a TIFF image from specified path.\n",
    "\n",
    "    Parameters:\n",
    "    - path (str): Path to the TIFF image.\n",
    "    - img_size (tuple): Desired size of the image (height, width).\n",
    "    - is_label (bool): Whether the image is a label image.\n",
    "\n",
    "    Returns:\n",
    "    - img (numpy.ndarray): Loaded image as a numpy array.\n",
    "    \"\"\"\n",
    "    with rasterio.open(path) as src:\n",
    "        img = src.read()\n",
    "\n",
    "    # Reshape and resize if necessary\n",
    "    img = img.transpose(1, 2, 0)  # Change from bands x height x width to height x width x bands\n",
    "    img = img[:img_size[0], :img_size[1], :]  # Resize to desired size\n",
    "\n",
    "    if is_label:\n",
    "        # Convert label image to binary classification (1 for Marine Debris, 0 for others)\n",
    "        img = (img == 1).astype(np.uint8)  # Assuming Marine Debris class is encoded as 1\n",
    "\n",
    "    return img\n",
    "\n",
    "# Example usage:\n",
    "data_dir = 'MARIDA'\n",
    "(X_val, y_val), (X_test, y_test) = load_dataset(data_dir)\n",
    "\n",
    "print(f\"Validation data: X_val shape = {X_val.shape}, y_val shape = {y_val.shape}\")\n",
    "print(f\"Testing data: X_test shape = {X_test.shape}, y_test shape = {y_test.shape}\")\n"
   ]
  },
  {
   "cell_type": "code",
   "execution_count": 4,
   "id": "0e204e39-dbbf-487f-9a81-ad2457ce1df0",
   "metadata": {},
   "outputs": [],
   "source": [
    "test_x = np.reshape(X_test,(359*256*256,11))"
   ]
  },
  {
   "cell_type": "code",
   "execution_count": 5,
   "id": "74414c72-c950-47e0-8053-6c768ddfec78",
   "metadata": {},
   "outputs": [
    {
     "data": {
      "text/plain": [
       "(23527424, 1)"
      ]
     },
     "execution_count": 5,
     "metadata": {},
     "output_type": "execute_result"
    }
   ],
   "source": [
    "test_y = np.reshape(y_test,(359*256*256,1))\n",
    "test_y.shape"
   ]
  },
  {
   "cell_type": "code",
   "execution_count": 6,
   "id": "8af046e3-ae98-4c7b-848e-aa254f7d3203",
   "metadata": {},
   "outputs": [],
   "source": [
    "import pandas as pd\n",
    "Coastal = pd.DataFrame(test_x).iloc[:, 0]  # costel \n",
    "Blue = pd.DataFrame(test_x).iloc[:, 1] # blue \n",
    "Green = pd.DataFrame(test_x).iloc[:, 2] # green \n",
    "RED = pd.DataFrame(test_x).iloc[:, 3] #\n",
    "RedEdge1 = pd.DataFrame(test_x).iloc[:, 4]\n",
    "RedEdge2 = pd.DataFrame(test_x).iloc[:, 5]\n",
    "RedEdge3 = pd.DataFrame(test_x).iloc[:, 6]\n",
    "NIR = pd.DataFrame(test_x).iloc[:, 7]\n",
    "Narrow_NIR = pd.DataFrame(test_x).iloc[:, 8]\n",
    "SWIR1 = pd.DataFrame(test_x).iloc[:, 9]\n",
    "SWIR2 = pd.DataFrame(test_x).iloc[:, 10]\n",
    "\n",
    "# print(first_column.tolist())\n"
   ]
  },
  {
   "cell_type": "code",
   "execution_count": 7,
   "id": "c44dabb8-5412-4b77-9c86-a1625033f637",
   "metadata": {},
   "outputs": [
    {
     "name": "stdout",
     "output_type": "stream",
     "text": [
      "0\n",
      "0\n"
     ]
    }
   ],
   "source": [
    "NDVI = (NIR - RED) / (NIR + RED)\n",
    "print(np.isinf(NDVI).sum())\n",
    "print(np.isinf(NDVI).sum())"
   ]
  },
  {
   "cell_type": "code",
   "execution_count": 8,
   "id": "6be83d33-c7d1-4491-8c73-443d272cb147",
   "metadata": {},
   "outputs": [
    {
     "name": "stdout",
     "output_type": "stream",
     "text": [
      "0\n",
      "0\n"
     ]
    }
   ],
   "source": [
    "Plastic = NIR / (NIR - RED)\n",
    "print(np.isinf(Plastic).sum())\n",
    "print(np.isinf(-Plastic).sum())"
   ]
  },
  {
   "cell_type": "code",
   "execution_count": 9,
   "id": "37d74b12-9e91-437d-bafd-f13e3f707dc5",
   "metadata": {},
   "outputs": [
    {
     "data": {
      "text/plain": [
       "0"
      ]
     },
     "execution_count": 9,
     "metadata": {},
     "output_type": "execute_result"
    }
   ],
   "source": [
    "FDI = NIR - (RedEdge2+ (SWIR1 - RedEdge2) * ((842 - 665)/(1610 - 665)) * 10  )\n",
    "np.isinf(FDI).sum()\n",
    "np.isinf(-FDI).sum()"
   ]
  },
  {
   "cell_type": "code",
   "execution_count": 10,
   "id": "31cc489c-7417-4660-8e53-c7e272c1ec5e",
   "metadata": {},
   "outputs": [
    {
     "data": {
      "text/plain": [
       "0"
      ]
     },
     "execution_count": 10,
     "metadata": {},
     "output_type": "execute_result"
    }
   ],
   "source": [
    "WaterIndex = (Green-NIR)/ (Green+NIR)\n",
    "np.isinf(WaterIndex).sum()\n",
    "np.isinf(-WaterIndex).sum()"
   ]
  },
  {
   "cell_type": "code",
   "execution_count": 11,
   "id": "8b3c1393-2d6e-4a8c-82a1-987214ba6a97",
   "metadata": {},
   "outputs": [
    {
     "data": {
      "text/plain": [
       "(23527424, 7)"
      ]
     },
     "execution_count": 11,
     "metadata": {},
     "output_type": "execute_result"
    }
   ],
   "source": [
    "X_test = pd.concat([FDI,WaterIndex,Plastic,NDVI,SWIR1,NIR,RED],axis=1)\n",
    "X_test.shape"
   ]
  },
  {
   "cell_type": "code",
   "execution_count": 12,
   "id": "653d7ebd-89b7-4e85-a75d-055842e06a81",
   "metadata": {},
   "outputs": [
    {
     "data": {
      "text/plain": [
       "0    0\n",
       "1    0\n",
       "2    0\n",
       "3    0\n",
       "9    0\n",
       "7    0\n",
       "3    0\n",
       "dtype: int64"
      ]
     },
     "execution_count": 12,
     "metadata": {},
     "output_type": "execute_result"
    }
   ],
   "source": [
    "np.isinf(X_test).sum()"
   ]
  },
  {
   "cell_type": "code",
   "execution_count": 13,
   "id": "e3f163bf-b390-4cfb-98f0-3cccf509b54d",
   "metadata": {},
   "outputs": [],
   "source": [
    "# Assuming X_test is a numpy array or pandas DataFrame\n",
    "predictions = model.predict(X_test)\n"
   ]
  },
  {
   "cell_type": "code",
   "execution_count": 14,
   "id": "fdabf263-fa88-464c-bfb8-060410d3b7a7",
   "metadata": {},
   "outputs": [],
   "source": [
    "import pandas as pd\n",
    "from sklearn.metrics import accuracy_score, classification_report\n",
    "\n",
    "# Evaluate model performance\n",
    "accuracy = accuracy_score(test_y, predictions)\n",
    "# print(f'Accuracy: {accuracy:.2f}')"
   ]
  },
  {
   "cell_type": "code",
   "execution_count": 15,
   "id": "e4050ff0-d6f9-47b7-913f-c0968980b942",
   "metadata": {},
   "outputs": [
    {
     "data": {
      "text/plain": [
       "'              precision    recall  f1-score   support\\n\\n           0       0.99      1.00      1.00  23407653\\n           1       0.90      0.00      0.01    119771\\n\\n    accuracy                           0.99  23527424\\n   macro avg       0.95      0.50      0.50  23527424\\nweighted avg       0.99      0.99      0.99  23527424\\n'"
      ]
     },
     "execution_count": 15,
     "metadata": {},
     "output_type": "execute_result"
    }
   ],
   "source": [
    "report = classification_report(predictions, test_y)\n",
    "report"
   ]
  },
  {
   "cell_type": "code",
   "execution_count": 16,
   "id": "02fb10ef-8cff-4081-92bb-fb2a5f7dc6d7",
   "metadata": {},
   "outputs": [
    {
     "data": {
      "text/plain": [
       "array([[23407616,   119427],\n",
       "       [      37,      344]])"
      ]
     },
     "execution_count": 16,
     "metadata": {},
     "output_type": "execute_result"
    }
   ],
   "source": [
    "# Calculate confusion matrix\n",
    "cm = confusion_matrix(test_y, predictions)\n",
    "cm"
   ]
  },
  {
   "cell_type": "code",
   "execution_count": 17,
   "id": "f8aecdf5-9f34-4703-aa2c-b6fd9f39e67d",
   "metadata": {},
   "outputs": [
    {
     "data": {
      "image/png": "[encoded data removed]",
      "text/plain": [
       "<Figure size 800x600 with 1 Axes>"
      ]
     },
     "metadata": {},
     "output_type": "display_data"
    }
   ],
   "source": [
    "# Plot confusion matrix\n",
    "plt.figure(figsize=(8, 6))\n",
    "sns.heatmap(cm, annot=True, fmt='d', cmap='Blues', cbar=False,\n",
    "            xticklabels=model.classes_, yticklabels=model.classes_)\n",
    "plt.xlabel('Predicted labels')\n",
    "plt.ylabel('True labels')\n",
    "plt.title('Confusion Matrix')\n",
    "plt.show()\n"
   ]
  },
  {
   "cell_type": "code",
   "execution_count": 18,
   "id": "ac6917ef-729b-4d3f-baa4-83400893a141",
   "metadata": {},
   "outputs": [],
   "source": [
    "# Compute precision, recall, and F1-score\n",
    "precision = precision_score(test_y, predictions)\n",
    "recall = recall_score(test_y, predictions)\n",
    "f1 = f1_score(test_y, predictions)\n",
    "\n"
   ]
  },
  {
   "cell_type": "code",
   "execution_count": 19,
   "id": "ce8a5384-3f3a-47b8-9545-3ea1f39b8244",
   "metadata": {},
   "outputs": [
    {
     "name": "stdout",
     "output_type": "stream",
     "text": [
      "Confusion Matrix:\n",
      "Precision: 0.00\n",
      "Recall: 0.90\n",
      "F1-score: 0.01\n"
     ]
    }
   ],
   "source": [
    "print(\"Confusion Matrix:\")\n",
    "# print(cm)\n",
    "print(f\"Precision: {precision:.2f}\")\n",
    "print(f\"Recall: {recall:.2f}\")\n",
    "print(f\"F1-score: {f1:.2f}\")"
   ]
  },
  {
   "cell_type": "code",
   "execution_count": 38,
   "id": "dc24ebb0-1fb5-48c1-9d90-6ec3fd2c29dd",
   "metadata": {},
   "outputs": [],
   "source": [
    "TP = 344\n",
    "FN = 37\n",
    "FP= 119427\n",
    "# tn = "
   ]
  },
  {
   "cell_type": "code",
   "execution_count": 39,
   "id": "44aefdab-c3f3-43d9-bd9f-796c2aa082fa",
   "metadata": {},
   "outputs": [],
   "source": [
    "iou_like = TP / (TP + FP + FN)"
   ]
  },
  {
   "cell_type": "code",
   "execution_count": 40,
   "id": "08e3a29d-8d5c-4c53-8726-0f07b5b94281",
   "metadata": {},
   "outputs": [
    {
     "data": {
      "text/plain": [
       "0.002871260683760684"
      ]
     },
     "execution_count": 40,
     "metadata": {},
     "output_type": "execute_result"
    }
   ],
   "source": [
    "iou_like"
   ]
  },
  {
   "cell_type": "code",
   "execution_count": 23,
   "id": "eb40561f-5060-486d-9b06-6c820b64b4ef",
   "metadata": {},
   "outputs": [
    {
     "data": {
      "text/plain": [
       "(328, 256, 256, 11)"
      ]
     },
     "execution_count": 23,
     "metadata": {},
     "output_type": "execute_result"
    }
   ],
   "source": [
    "X_val.shape\n"
   ]
  },
  {
   "cell_type": "code",
   "execution_count": 24,
   "id": "5a726240-e5e5-42e6-8dd6-4d49b088d08c",
   "metadata": {},
   "outputs": [
    {
     "data": {
      "text/plain": [
       "(21495808, 11)"
      ]
     },
     "execution_count": 24,
     "metadata": {},
     "output_type": "execute_result"
    }
   ],
   "source": [
    "val_x = np.reshape(X_val,(328*256*256,11))\n",
    "val_x.shape"
   ]
  },
  {
   "cell_type": "code",
   "execution_count": 25,
   "id": "7f47ac66-1de9-4218-b400-a67b6426e760",
   "metadata": {},
   "outputs": [
    {
     "data": {
      "text/plain": [
       "(21495808, 1)"
      ]
     },
     "execution_count": 25,
     "metadata": {},
     "output_type": "execute_result"
    }
   ],
   "source": [
    "val_y = np.reshape(y_val,(328*256*256,1))\n",
    "val_y.shape"
   ]
  },
  {
   "cell_type": "code",
   "execution_count": 26,
   "id": "10f3a1f5-7b18-4fb1-a731-55fd73a45ce3",
   "metadata": {},
   "outputs": [],
   "source": [
    "Coastal = pd.DataFrame(val_x).iloc[:, 0]  # costel \n",
    "Blue = pd.DataFrame(val_x).iloc[:, 1] # blue \n",
    "Green = pd.DataFrame(val_x).iloc[:, 2] # green \n",
    "RED = pd.DataFrame(val_x).iloc[:, 3] #\n",
    "RedEdge1 = pd.DataFrame(val_x).iloc[:, 4]\n",
    "RedEdge2 = pd.DataFrame(val_x).iloc[:, 5]\n",
    "RedEdge3 = pd.DataFrame(val_x).iloc[:, 6]\n",
    "NIR = pd.DataFrame(val_x).iloc[:, 7]\n",
    "Narrow_NIR = pd.DataFrame(val_x).iloc[:, 8]\n",
    "SWIR1 = pd.DataFrame(val_x).iloc[:, 9]\n",
    "SWIR2 = pd.DataFrame(val_x).iloc[:, 10]\n",
    "\n",
    "# print(first_column.tolist())\n"
   ]
  },
  {
   "cell_type": "code",
   "execution_count": 27,
   "id": "1ec7d1a5-6746-473b-bb1d-db06b4943073",
   "metadata": {},
   "outputs": [
    {
     "name": "stdout",
     "output_type": "stream",
     "text": [
      "0\n",
      "0\n"
     ]
    }
   ],
   "source": [
    "NDVI = (NIR - RED) / (NIR + RED)\n",
    "print(np.isinf(NDVI).sum())\n",
    "print(np.isinf(NDVI).sum())"
   ]
  },
  {
   "cell_type": "code",
   "execution_count": 28,
   "id": "6d62ec6c-11f5-4290-9936-edb12f0accdf",
   "metadata": {},
   "outputs": [
    {
     "name": "stdout",
     "output_type": "stream",
     "text": [
      "0\n",
      "0\n"
     ]
    }
   ],
   "source": [
    "Plastic = NIR / (NIR - RED)\n",
    "print(np.isinf(Plastic).sum())\n",
    "print(np.isinf(-Plastic).sum())"
   ]
  },
  {
   "cell_type": "code",
   "execution_count": 29,
   "id": "4621a76f-4cd8-45d3-a9f7-d028e766ead4",
   "metadata": {},
   "outputs": [
    {
     "data": {
      "text/plain": [
       "0"
      ]
     },
     "execution_count": 29,
     "metadata": {},
     "output_type": "execute_result"
    }
   ],
   "source": [
    "FDI = NIR - (RedEdge2+ (SWIR1 - RedEdge2) * ((842 - 665)/(1610 - 665)) * 10  )\n",
    "np.isinf(FDI).sum()\n",
    "np.isinf(-FDI).sum()"
   ]
  },
  {
   "cell_type": "code",
   "execution_count": 30,
   "id": "0af0fc3b-cdde-48bd-ac1c-a86f836531b0",
   "metadata": {},
   "outputs": [
    {
     "data": {
      "text/plain": [
       "0"
      ]
     },
     "execution_count": 30,
     "metadata": {},
     "output_type": "execute_result"
    }
   ],
   "source": [
    "WaterIndex = (Green-NIR)/ (Green+NIR)\n",
    "np.isinf(WaterIndex).sum()\n",
    "np.isinf(-WaterIndex).sum()"
   ]
  },
  {
   "cell_type": "code",
   "execution_count": 31,
   "id": "cefe050d-030e-4a06-8599-e784acc093eb",
   "metadata": {},
   "outputs": [
    {
     "data": {
      "text/plain": [
       "(21495808, 7)"
      ]
     },
     "execution_count": 31,
     "metadata": {},
     "output_type": "execute_result"
    }
   ],
   "source": [
    "X_val = pd.concat([FDI,WaterIndex,Plastic,NDVI,SWIR1,NIR,RED],axis=1)\n",
    "X_val.shape"
   ]
  },
  {
   "cell_type": "code",
   "execution_count": 32,
   "id": "9520574d-f422-45a3-9074-2c778bae53e8",
   "metadata": {},
   "outputs": [
    {
     "data": {
      "text/plain": [
       "0    0\n",
       "1    0\n",
       "2    0\n",
       "3    0\n",
       "9    0\n",
       "7    0\n",
       "3    0\n",
       "dtype: int64"
      ]
     },
     "execution_count": 32,
     "metadata": {},
     "output_type": "execute_result"
    }
   ],
   "source": [
    "np.isinf(X_val).sum()"
   ]
  },
  {
   "cell_type": "code",
   "execution_count": 33,
   "id": "dfad9c0c-f63b-497a-8f61-d6410f8c9701",
   "metadata": {},
   "outputs": [],
   "source": [
    "# Assuming X_test is a numpy array or pandas DataFrame\n",
    "predictions = model.predict(X_val)\n"
   ]
  },
  {
   "cell_type": "code",
   "execution_count": 34,
   "id": "7b8fd98c-1b92-48d2-a454-0a124cbdf342",
   "metadata": {},
   "outputs": [],
   "source": [
    "import pandas as pd\n",
    "from sklearn.metrics import accuracy_score, classification_report\n",
    "\n",
    "# Evaluate model performance\n",
    "accuracy = accuracy_score(val_y, predictions)\n",
    "# print(f'Accuracy: {accuracy:.2f}')"
   ]
  },
  {
   "cell_type": "code",
   "execution_count": 35,
   "id": "0176a99c-f017-4ecf-b73b-3880d730035f",
   "metadata": {},
   "outputs": [
    {
     "data": {
      "text/plain": [
       "'              precision    recall  f1-score   support\\n\\n           0       1.00      1.00      1.00  21423749\\n           1       0.92      0.01      0.03     72059\\n\\n    accuracy                           1.00  21495808\\n   macro avg       0.96      0.51      0.51  21495808\\nweighted avg       1.00      1.00      1.00  21495808\\n'"
      ]
     },
     "execution_count": 35,
     "metadata": {},
     "output_type": "execute_result"
    }
   ],
   "source": [
    "report = classification_report(predictions, val_y)\n",
    "report"
   ]
  },
  {
   "cell_type": "code",
   "execution_count": 41,
   "id": "7650dcae-f2f7-4247-842a-6c3d91b71c24",
   "metadata": {},
   "outputs": [
    {
     "name": "stdout",
     "output_type": "stream",
     "text": [
      "              precision    recall  f1-score   support\n",
      "\n",
      "           0       1.00      1.00      1.00  21423749\n",
      "           1       0.92      0.01      0.03     72059\n",
      "\n",
      "    accuracy                           1.00  21495808\n",
      "   macro avg       0.96      0.51      0.51  21495808\n",
      "weighted avg       1.00      1.00      1.00  21495808\n",
      "\n"
     ]
    }
   ],
   "source": [
    "print(report)"
   ]
  },
  {
   "cell_type": "code",
   "execution_count": 36,
   "id": "b6385d05-d2f1-4483-bf9e-d60167f5f049",
   "metadata": {},
   "outputs": [
    {
     "data": {
      "text/plain": [
       "array([[21423662,    71071],\n",
       "       [      87,      988]])"
      ]
     },
     "execution_count": 36,
     "metadata": {},
     "output_type": "execute_result"
    }
   ],
   "source": [
    "# Calculate confusion matrix\n",
    "cm = confusion_matrix(val_y, predictions)\n",
    "cm"
   ]
  },
  {
   "cell_type": "code",
   "execution_count": 37,
   "id": "6bd7965b-228b-4929-83df-5811dc29106c",
   "metadata": {},
   "outputs": [
    {
     "data": {
      "image/png": "[encoded data removed]",
      "text/plain": [
       "<Figure size 800x600 with 1 Axes>"
      ]
     },
     "metadata": {},
     "output_type": "display_data"
    }
   ],
   "source": [
    "# Plot confusion matrix\n",
    "plt.figure(figsize=(8, 6))\n",
    "sns.heatmap(cm, annot=True, fmt='d', cmap='Blues', cbar=False,\n",
    "            xticklabels=model.classes_, yticklabels=model.classes_)\n",
    "plt.xlabel('Predicted labels')\n",
    "plt.ylabel('True labels')\n",
    "plt.title('Confusion Matrix')\n",
    "plt.show()\n"
   ]
  },
  {
   "cell_type": "code",
   "execution_count": 42,
   "id": "1fc76f1b-adf6-46fd-846e-b401301d479f",
   "metadata": {},
   "outputs": [],
   "source": [
    "TP = 988\n",
    "FN = 71071\n",
    "FP= 87 \n",
    "# tn = "
   ]
  },
  {
   "cell_type": "code",
   "execution_count": 43,
   "id": "04324d56-bc1a-4d68-a551-95aaa99aa1f4",
   "metadata": {},
   "outputs": [],
   "source": [
    "iou_like = TP / (TP + FP + FN)\n",
    "iou_like"
   ]
  },
  {
   "cell_type": "code",
   "execution_count": null,
   "id": "dfe380ef-5e2d-4e2c-bfbc-d2166e005b29",
   "metadata": {},
   "outputs": [],
   "source": []
  }
 ],
 "metadata": {
  "kernelspec": {
   "display_name": "Python 3 (ipykernel)",
   "language": "python",
   "name": "python3"
  },
  "language_info": {
   "codemirror_mode": {
    "name": "ipython",
    "version": 3
   },
   "file_extension": ".py",
   "mimetype": "text/x-python",
   "name": "python",
   "nbconvert_exporter": "python",
   "pygments_lexer": "ipython3",
   "version": "3.10.12"
  }
 },
 "nbformat": 4,
 "nbformat_minor": 5
}
