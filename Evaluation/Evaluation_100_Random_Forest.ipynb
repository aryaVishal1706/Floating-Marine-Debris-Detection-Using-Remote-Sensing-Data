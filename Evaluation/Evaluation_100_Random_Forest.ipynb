{
 "cells": [
  {
   "cell_type": "code",
   "execution_count": 1,
   "id": "fb04f428-51e5-4b32-a443-ac5149e5be8c",
   "metadata": {},
   "outputs": [],
   "source": [
    "# Custom License\n",
    "# \n",
    "# Copyright (c) 2024 Arya Vishal\n",
    "# \n",
    "# Permission is hereby granted, free of charge, to any person obtaining a copy of this software and associated documentation files (the \"Software\"), to deal in the Software without restriction, including without limitation the rights to use, copy, and modify the Software, subject to the following conditions:\n",
    "# \n",
    "# 1. No Selling: The Software may not be sold or sublicensed.\n",
    "# 2. No Publishing: The Software may not be published or distributed without explicit written permission from the copyright holder.\n",
    "# \n",
    "# The above copyright notice and this permission notice shall be included in all copies or substantial portions of the Software.\n",
    "# \n",
    "# THE SOFTWARE IS PROVIDED \"AS IS\", WITHOUT WARRANTY OF ANY KIND, EXPRESS OR IMPLIED, INCLUDING BUT NOT LIMITED TO THE WARRANTIES OF MERCHANTABILITY, FITNESS FOR A PARTICULAR PURPOSE AND NONINFRINGEMENT. IN NO EVENT SHALL THE AUTHORS OR COPYRIGHT HOLDERS BE LIABLE FOR ANY CLAIM, DAMAGES OR OTHER LIABILITY, WHETHER IN AN ACTION OF CONTRACT, TORT OR OTHERWISE, ARISING FROM, OUT OF OR IN CONNECTION WITH THE SOFTWARE OR THE USE OR OTHER DEALINGS IN THE SOFTWARE.\n",
    "\n",
    "import joblib\n",
    "\n",
    "# Load the model from the file\n",
    "model = joblib.load('random_forest.joblib')\n"
   ]
  },
  {
   "cell_type": "code",
   "execution_count": 27,
   "id": "ca28fb55-4617-45f6-aa92-f10588258641",
   "metadata": {},
   "outputs": [],
   "source": [
    "from sklearn.metrics import confusion_matrix, precision_score, recall_score, f1_score\n",
    "import matplotlib.pyplot as plt\n",
    "import seaborn as sns"
   ]
  },
  {
   "cell_type": "code",
   "execution_count": 3,
   "id": "3bc80ce4-1aca-40dd-8c83-b33a60eb2865",
   "metadata": {},
   "outputs": [
    {
     "name": "stdout",
     "output_type": "stream",
     "text": [
      "Validation data: X_val shape = (328, 256, 256, 11), y_val shape = (328, 256, 256, 1)\n",
      "Testing data: X_test shape = (359, 256, 256, 11), y_test shape = (359, 256, 256, 1)\n"
     ]
    }
   ],
   "source": [
    "import os\n",
    "import numpy as np\n",
    "import rasterio\n",
    "\n",
    "def load_dataset(data_dir, img_size=(256, 256)):\n",
    "    \"\"\"\n",
    "    Load validation and test datasets from specified directory.\n",
    "\n",
    "    Parameters:\n",
    "    - data_dir (str): Directory containing val and test subdirectories.\n",
    "    - img_size (tuple): Desired size of the image (height, width).\n",
    "\n",
    "    Returns:\n",
    "    - val_data (tuple): Tuple containing (X_val, y_val).\n",
    "    - test_data (tuple): Tuple containing (X_test, y_test).\n",
    "    \"\"\"\n",
    "    val_dir = os.path.join(data_dir, 'val')\n",
    "    test_dir = os.path.join(data_dir, 'test')\n",
    "\n",
    "    # Load validation data\n",
    "    X_val, y_val = load_data_from_dir(os.path.join(val_dir, 'input'), os.path.join(val_dir, 'output'), img_size)\n",
    "    # Load test data\n",
    "    X_test, y_test = load_data_from_dir(os.path.join(test_dir, 'input'), os.path.join(test_dir, 'output'), img_size)\n",
    "\n",
    "    # Preprocess to handle NaN values\n",
    "    X_val = preprocess_data(X_val)\n",
    "    X_test = preprocess_data(X_test)\n",
    "\n",
    "    return (X_val, y_val), (X_test, y_test)\n",
    "\n",
    "def preprocess_data(images):\n",
    "    \"\"\"\n",
    "    Preprocesses input images to handle NaN values.\n",
    "\n",
    "    Parameters:\n",
    "    - images (numpy.ndarray): Array of input images.\n",
    "\n",
    "    Returns:\n",
    "    - images (numpy.ndarray): Processed array of input images.\n",
    "    \"\"\"\n",
    "    # Replace NaN values with 0\n",
    "    images[np.isnan(images)] = 0\n",
    "\n",
    "    return images\n",
    "\n",
    "def load_data_from_dir(input_dir, output_dir, img_size):\n",
    "    \"\"\"\n",
    "    Load data (images and labels) from input and output directories.\n",
    "\n",
    "    Parameters:\n",
    "    - input_dir (str): Directory containing input images.\n",
    "    - output_dir (str): Directory containing output images.\n",
    "    - img_size (tuple): Desired size of the image (height, width).\n",
    "\n",
    "    Returns:\n",
    "    - images (numpy.ndarray): Array of loaded input images.\n",
    "    - labels (numpy.ndarray): Array of corresponding output images.\n",
    "    \"\"\"\n",
    "    images = []\n",
    "    labels = []\n",
    "\n",
    "    for filename in os.listdir(input_dir):\n",
    "        if filename.endswith('.tif'):\n",
    "            # Load input image (X)\n",
    "            input_path = os.path.join(input_dir, filename)\n",
    "            img = load_tiff_image(input_path, img_size)\n",
    "            images.append(img)\n",
    "\n",
    "            # Load corresponding output image (y)\n",
    "            output_filename = filename.replace('.tif', '_cl.tif')\n",
    "            output_path = os.path.join(output_dir, output_filename)\n",
    "            label = load_tiff_image(output_path, img_size, is_label=True)\n",
    "            label[np.isnan(label)] = 0 \n",
    "            labels.append(label)\n",
    "\n",
    "    if images and labels:\n",
    "        images = np.array(images)\n",
    "        labels = np.array(labels)\n",
    "\n",
    "    return images, labels\n",
    "\n",
    "def load_tiff_image(path, img_size, is_label=False):\n",
    "    \"\"\"\n",
    "    Load a TIFF image from specified path.\n",
    "\n",
    "    Parameters:\n",
    "    - path (str): Path to the TIFF image.\n",
    "    - img_size (tuple): Desired size of the image (height, width).\n",
    "    - is_label (bool): Whether the image is a label image.\n",
    "\n",
    "    Returns:\n",
    "    - img (numpy.ndarray): Loaded image as a numpy array.\n",
    "    \"\"\"\n",
    "    with rasterio.open(path) as src:\n",
    "        img = src.read()\n",
    "\n",
    "    # Reshape and resize if necessary\n",
    "    img = img.transpose(1, 2, 0)  # Change from bands x height x width to height x width x bands\n",
    "    img = img[:img_size[0], :img_size[1], :]  # Resize to desired size\n",
    "\n",
    "    if is_label:\n",
    "        # Convert label image to binary classification (1 for Marine Debris, 0 for others)\n",
    "        img = (img == 1).astype(np.uint8)  # Assuming Marine Debris class is encoded as 1\n",
    "\n",
    "    return img\n",
    "\n",
    "# Example usage:\n",
    "data_dir = 'MARIDA'\n",
    "(X_val, y_val), (X_test, y_test) = load_dataset(data_dir)\n",
    "\n",
    "print(f\"Validation data: X_val shape = {X_val.shape}, y_val shape = {y_val.shape}\")\n",
    "print(f\"Testing data: X_test shape = {X_test.shape}, y_test shape = {y_test.shape}\")\n"
   ]
  },
  {
   "cell_type": "code",
   "execution_count": 4,
   "id": "0e204e39-dbbf-487f-9a81-ad2457ce1df0",
   "metadata": {},
   "outputs": [],
   "source": [
    "test_x = np.reshape(X_test,(359*256*256,11))"
   ]
  },
  {
   "cell_type": "code",
   "execution_count": 5,
   "id": "74414c72-c950-47e0-8053-6c768ddfec78",
   "metadata": {},
   "outputs": [
    {
     "data": {
      "text/plain": [
       "(23527424, 1)"
      ]
     },
     "execution_count": 5,
     "metadata": {},
     "output_type": "execute_result"
    }
   ],
   "source": [
    "test_y = np.reshape(y_test,(359*256*256,1))\n",
    "test_y.shape"
   ]
  },
  {
   "cell_type": "code",
   "execution_count": 7,
   "id": "e3f163bf-b390-4cfb-98f0-3cccf509b54d",
   "metadata": {},
   "outputs": [],
   "source": [
    "# Assuming X_test is a numpy array or pandas DataFrame\n",
    "predictions = model.predict(test_x)\n"
   ]
  },
  {
   "cell_type": "code",
   "execution_count": 14,
   "id": "fdabf263-fa88-464c-bfb8-060410d3b7a7",
   "metadata": {},
   "outputs": [],
   "source": [
    "import pandas as pd\n",
    "from sklearn.metrics import accuracy_score, classification_report\n",
    "\n",
    "# Evaluate model performance\n",
    "accuracy = accuracy_score(test_y, predictions)\n",
    "# print(f'Accuracy: {accuracy:.2f}')"
   ]
  },
  {
   "cell_type": "code",
   "execution_count": 18,
   "id": "e4050ff0-d6f9-47b7-913f-c0968980b942",
   "metadata": {},
   "outputs": [
    {
     "data": {
      "text/plain": [
       "'              precision    recall  f1-score   support\\n\\n           0       1.00      1.00      1.00  23526792\\n           1       0.39      0.23      0.29       632\\n\\n    accuracy                           1.00  23527424\\n   macro avg       0.69      0.62      0.65  23527424\\nweighted avg       1.00      1.00      1.00  23527424\\n'"
      ]
     },
     "execution_count": 18,
     "metadata": {},
     "output_type": "execute_result"
    }
   ],
   "source": [
    "report = classification_report(predictions, test_y)\n",
    "report"
   ]
  },
  {
   "cell_type": "code",
   "execution_count": 24,
   "id": "02fb10ef-8cff-4081-92bb-fb2a5f7dc6d7",
   "metadata": {},
   "outputs": [
    {
     "data": {
      "text/plain": [
       "array([[23526559,      484],\n",
       "       [     233,      148]])"
      ]
     },
     "execution_count": 24,
     "metadata": {},
     "output_type": "execute_result"
    }
   ],
   "source": [
    "# Calculate confusion matrix\n",
    "cm = confusion_matrix(test_y, predictions)\n",
    "cm"
   ]
  },
  {
   "cell_type": "code",
   "execution_count": 25,
   "id": "f8aecdf5-9f34-4703-aa2c-b6fd9f39e67d",
   "metadata": {},
   "outputs": [
    {
     "data": {
      "image/png": "[encoded data removed]",
      "text/plain": [
       "<Figure size 800x600 with 1 Axes>"
      ]
     },
     "metadata": {},
     "output_type": "display_data"
    }
   ],
   "source": [
    "# Plot confusion matrix\n",
    "plt.figure(figsize=(8, 6))\n",
    "sns.heatmap(cm, annot=True, fmt='d', cmap='Blues', cbar=False,\n",
    "            xticklabels=model.classes_, yticklabels=model.classes_)\n",
    "plt.xlabel('Predicted labels')\n",
    "plt.ylabel('True labels')\n",
    "plt.title('Confusion Matrix')\n",
    "plt.show()\n"
   ]
  },
  {
   "cell_type": "code",
   "execution_count": 31,
   "id": "ac6917ef-729b-4d3f-baa4-83400893a141",
   "metadata": {},
   "outputs": [],
   "source": [
    "# Compute precision, recall, and F1-score\n",
    "precision = precision_score(test_y, predictions)\n",
    "recall = recall_score(test_y, predictions)\n",
    "f1 = f1_score(test_y, predictions)\n",
    "\n"
   ]
  },
  {
   "cell_type": "code",
   "execution_count": 32,
   "id": "ce8a5384-3f3a-47b8-9545-3ea1f39b8244",
   "metadata": {},
   "outputs": [
    {
     "name": "stdout",
     "output_type": "stream",
     "text": [
      "Confusion Matrix:\n",
      "Precision: 0.23\n",
      "Recall: 0.39\n",
      "F1-score: 0.29\n"
     ]
    }
   ],
   "source": [
    "print(\"Confusion Matrix:\")\n",
    "# print(cm)\n",
    "print(f\"Precision: {precision:.2f}\")\n",
    "print(f\"Recall: {recall:.2f}\")\n",
    "print(f\"F1-score: {f1:.2f}\")"
   ]
  },
  {
   "cell_type": "code",
   "execution_count": 33,
   "id": "dc24ebb0-1fb5-48c1-9d90-6ec3fd2c29dd",
   "metadata": {},
   "outputs": [],
   "source": [
    "TP = 148\n",
    "FN = 484\n",
    "FP= 233\n",
    "# tn = "
   ]
  },
  {
   "cell_type": "code",
   "execution_count": 34,
   "id": "44aefdab-c3f3-43d9-bd9f-796c2aa082fa",
   "metadata": {},
   "outputs": [],
   "source": [
    "iou_like = TP / (TP + FP + FN)"
   ]
  },
  {
   "cell_type": "code",
   "execution_count": 35,
   "id": "08e3a29d-8d5c-4c53-8726-0f07b5b94281",
   "metadata": {},
   "outputs": [
    {
     "data": {
      "text/plain": [
       "0.17109826589595376"
      ]
     },
     "execution_count": 35,
     "metadata": {},
     "output_type": "execute_result"
    }
   ],
   "source": [
    "iou_like"
   ]
  },
  {
   "cell_type": "code",
   "execution_count": null,
   "id": "10f3a1f5-7b18-4fb1-a731-55fd73a45ce3",
   "metadata": {},
   "outputs": [],
   "source": []
  }
 ],
 "metadata": {
  "kernelspec": {
   "display_name": "Python 3 (ipykernel)",
   "language": "python",
   "name": "python3"
  },
  "language_info": {
   "codemirror_mode": {
    "name": "ipython",
    "version": 3
   },
   "file_extension": ".py",
   "mimetype": "text/x-python",
   "name": "python",
   "nbconvert_exporter": "python",
   "pygments_lexer": "ipython3",
   "version": "3.12.3"
  }
 },
 "nbformat": 4,
 "nbformat_minor": 5
}
